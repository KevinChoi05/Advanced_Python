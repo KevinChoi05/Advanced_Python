{
 "cells": [
  {
   "cell_type": "markdown",
   "id": "a1e7c393",
   "metadata": {},
   "source": [
    "# import module , load data"
   ]
  },
  {
   "cell_type": "code",
   "execution_count": 1,
   "id": "027b3e09",
   "metadata": {},
   "outputs": [],
   "source": [
    "from sklearn.datasets import load_iris\n",
    "import pandas as pd\n",
    "import numpy as np\n",
    "import matplotlib.pyplot as plt\n",
    "import seaborn as sns\n",
    "\n",
    "import os\n",
    "os.environ['PATH'] = os.pathsep+'/opt/homebrew/bin'"
   ]
  },
  {
   "cell_type": "code",
   "execution_count": 2,
   "id": "9e9c58c4",
   "metadata": {},
   "outputs": [],
   "source": [
    "iris = load_iris()\n",
    "features = iris['data']\n",
    "feature_names = iris['feature_names']\n",
    "label = iris['target']\n",
    "df = pd.DataFrame(features, columns = feature_names)\n",
    "df['target'] = label\n"
   ]
  },
  {
   "cell_type": "code",
   "execution_count": 3,
   "id": "f031a738",
   "metadata": {},
   "outputs": [
    {
     "data": {
      "text/html": [
       "<div>\n",
       "<style scoped>\n",
       "    .dataframe tbody tr th:only-of-type {\n",
       "        vertical-align: middle;\n",
       "    }\n",
       "\n",
       "    .dataframe tbody tr th {\n",
       "        vertical-align: top;\n",
       "    }\n",
       "\n",
       "    .dataframe thead th {\n",
       "        text-align: right;\n",
       "    }\n",
       "</style>\n",
       "<table border=\"1\" class=\"dataframe\">\n",
       "  <thead>\n",
       "    <tr style=\"text-align: right;\">\n",
       "      <th></th>\n",
       "      <th>sepal length (cm)</th>\n",
       "      <th>sepal width (cm)</th>\n",
       "      <th>petal length (cm)</th>\n",
       "      <th>petal width (cm)</th>\n",
       "      <th>target</th>\n",
       "    </tr>\n",
       "  </thead>\n",
       "  <tbody>\n",
       "    <tr>\n",
       "      <th>0</th>\n",
       "      <td>5.1</td>\n",
       "      <td>3.5</td>\n",
       "      <td>1.4</td>\n",
       "      <td>0.2</td>\n",
       "      <td>0</td>\n",
       "    </tr>\n",
       "    <tr>\n",
       "      <th>1</th>\n",
       "      <td>4.9</td>\n",
       "      <td>3.0</td>\n",
       "      <td>1.4</td>\n",
       "      <td>0.2</td>\n",
       "      <td>0</td>\n",
       "    </tr>\n",
       "    <tr>\n",
       "      <th>2</th>\n",
       "      <td>4.7</td>\n",
       "      <td>3.2</td>\n",
       "      <td>1.3</td>\n",
       "      <td>0.2</td>\n",
       "      <td>0</td>\n",
       "    </tr>\n",
       "    <tr>\n",
       "      <th>3</th>\n",
       "      <td>4.6</td>\n",
       "      <td>3.1</td>\n",
       "      <td>1.5</td>\n",
       "      <td>0.2</td>\n",
       "      <td>0</td>\n",
       "    </tr>\n",
       "    <tr>\n",
       "      <th>4</th>\n",
       "      <td>5.0</td>\n",
       "      <td>3.6</td>\n",
       "      <td>1.4</td>\n",
       "      <td>0.2</td>\n",
       "      <td>0</td>\n",
       "    </tr>\n",
       "  </tbody>\n",
       "</table>\n",
       "</div>"
      ],
      "text/plain": [
       "   sepal length (cm)  sepal width (cm)  petal length (cm)  petal width (cm)  \\\n",
       "0                5.1               3.5                1.4               0.2   \n",
       "1                4.9               3.0                1.4               0.2   \n",
       "2                4.7               3.2                1.3               0.2   \n",
       "3                4.6               3.1                1.5               0.2   \n",
       "4                5.0               3.6                1.4               0.2   \n",
       "\n",
       "   target  \n",
       "0       0  \n",
       "1       0  \n",
       "2       0  \n",
       "3       0  \n",
       "4       0  "
      ]
     },
     "execution_count": 3,
     "metadata": {},
     "output_type": "execute_result"
    }
   ],
   "source": [
    "df.head()"
   ]
  },
  {
   "cell_type": "markdown",
   "id": "567e5420",
   "metadata": {},
   "source": [
    "# 01 data preprecessing"
   ]
  },
  {
   "cell_type": "markdown",
   "id": "9b410655",
   "metadata": {},
   "source": [
    "# 1-1 divied X, y"
   ]
  },
  {
   "cell_type": "code",
   "execution_count": 4,
   "id": "242e4124",
   "metadata": {},
   "outputs": [],
   "source": [
    "X = df.iloc[:, :-1].values"
   ]
  },
  {
   "cell_type": "code",
   "execution_count": 5,
   "id": "f8d6792e",
   "metadata": {},
   "outputs": [],
   "source": [
    "y = df.iloc[:, -1].values"
   ]
  },
  {
   "cell_type": "markdown",
   "id": "b52d4b16",
   "metadata": {},
   "source": [
    "## 1-2 train test split"
   ]
  },
  {
   "cell_type": "code",
   "execution_count": 6,
   "id": "282959c3",
   "metadata": {},
   "outputs": [],
   "source": [
    "from sklearn.model_selection import train_test_split\n",
    "X_train, X_test, y_train, y_test = train_test_split(X, y, test_size=0.2)"
   ]
  },
  {
   "cell_type": "markdown",
   "id": "dc2ede63",
   "metadata": {},
   "source": [
    "# 1-3 Feature scaling"
   ]
  },
  {
   "cell_type": "code",
   "execution_count": 7,
   "id": "b09d27f4",
   "metadata": {},
   "outputs": [],
   "source": [
    "from sklearn.preprocessing import StandardScaler\n",
    "scaler = StandardScaler()\n",
    "scaler.fit(X_train)\n",
    "\n",
    "X_train = scaler.transform(X_train)\n",
    "X_test = scaler.transform(X_test)"
   ]
  },
  {
   "cell_type": "code",
   "execution_count": 8,
   "id": "5ac96ade",
   "metadata": {},
   "outputs": [
    {
     "data": {
      "text/plain": [
       "array([[-0.09757983, -0.83432467,  0.69665018,  0.85275699],\n",
       "       [ 0.14385481, -0.35182365,  0.35333182,  0.32798346],\n",
       "       [-0.94260108,  1.09567938, -1.42047973, -1.37753053],\n",
       "       [ 0.62672409, -0.59307416,  0.98274882,  1.11514376],\n",
       "       [-0.4597318 ,  2.78443292, -1.42047973, -1.37753053],\n",
       "       [-0.82188376,  0.85442888, -1.42047973, -1.37753053],\n",
       "       [ 0.98887605,  0.13067736,  0.98274882,  1.50872391],\n",
       "       [-1.0633184 ,  0.85442888, -1.30604027, -1.11514376],\n",
       "       [-0.58044912,  0.85442888, -1.24882055, -1.37753053],\n",
       "       [ 0.50600677, -1.79932669,  0.29611209,  0.06559669],\n",
       "       [ 0.38528945, -2.0405772 ,  0.35333182,  0.32798346],\n",
       "       [ 2.07533194, -0.11057315,  1.55494609,  1.11514376],\n",
       "       [-0.21829716, -1.07557517, -0.21886546, -0.32798346],\n",
       "       [-1.30475304,  0.13067736, -1.30604027, -1.37753053],\n",
       "       [ 0.98887605,  0.13067736,  0.46777127,  0.32798346],\n",
       "       [-1.0633184 ,  0.61317837, -1.42047973, -1.37753053],\n",
       "       [ 1.59246266, -0.11057315,  1.09718827,  0.45917684],\n",
       "       [-0.94260108,  0.61317837, -1.24882055, -0.98395038],\n",
       "       [-1.0633184 , -0.11057315, -1.30604027, -1.37753053],\n",
       "       [ 0.98887605, -0.11057315,  0.75386991,  1.37753053],\n",
       "       [-0.33901448, -0.35182365, -0.16164573,  0.06559669],\n",
       "       [ 1.2303107 ,  0.37192786,  1.03996854,  1.37753053],\n",
       "       [ 1.2303107 ,  0.13067736,  0.58221072,  0.32798346],\n",
       "       [ 0.02313749, -0.11057315,  0.18167263,  0.32798346],\n",
       "       [ 0.26457213, -1.07557517,  0.98274882,  0.19679008],\n",
       "       [-0.09757983, -1.07557517,  0.06723318, -0.06559669],\n",
       "       [ 0.38528945, -0.59307416,  0.524991  ,  0.72156361],\n",
       "       [ 0.50600677, -1.31682568,  0.58221072,  0.32798346],\n",
       "       [-1.0633184 ,  0.85442888, -1.36326   , -1.37753053],\n",
       "       [-0.09757983, -0.83432467,  0.01001345, -0.06559669],\n",
       "       [ 0.50600677, -0.83432467,  0.58221072,  0.72156361],\n",
       "       [-0.82188376, -0.83432467,  0.01001345,  0.19679008],\n",
       "       [-0.94260108,  1.8194309 , -1.30604027, -1.37753053],\n",
       "       [ 2.43748391,  1.8194309 ,  1.44050663,  0.98395038],\n",
       "       [ 0.98887605,  0.61317837,  1.03996854,  1.11514376],\n",
       "       [-0.09757983, -0.83432467,  0.12445291, -0.32798346],\n",
       "       [-1.30475304,  0.85442888, -1.30604027, -1.37753053],\n",
       "       [ 2.19604926,  1.8194309 ,  1.61216581,  1.24633715],\n",
       "       [ 0.62672409,  0.37192786,  0.81108963,  1.37753053],\n",
       "       [ 0.86815873, -0.35182365,  0.41055154,  0.06559669],\n",
       "       [-0.94260108,  1.8194309 , -1.36326   , -1.24633715],\n",
       "       [-1.0633184 ,  1.09567938, -1.47769946, -1.24633715],\n",
       "       [-0.58044912,  2.06068141, -1.24882055, -1.11514376],\n",
       "       [-0.21829716, -0.11057315,  0.18167263, -0.06559669],\n",
       "       [-0.70116644,  1.57818039, -1.36326   , -1.37753053],\n",
       "       [ 1.8338973 , -0.59307416,  1.26884745,  0.85275699],\n",
       "       [ 0.50600677,  0.85442888,  0.98274882,  1.50872391],\n",
       "       [-1.18403572, -1.31682568,  0.35333182,  0.59037023],\n",
       "       [-0.94260108, -1.31682568, -0.50496409, -0.19679008],\n",
       "       [-1.0633184 , -2.52307821, -0.21886546, -0.32798346],\n",
       "       [ 0.98887605,  0.61317837,  1.03996854,  1.6399173 ],\n",
       "       [ 1.71317998, -0.35182365,  1.38328691,  0.72156361],\n",
       "       [ 0.26457213, -0.59307416,  0.06723318,  0.06559669],\n",
       "       [ 0.74744141, -0.59307416,  0.41055154,  0.32798346],\n",
       "       [-0.33901448, -0.83432467,  0.18167263,  0.06559669],\n",
       "       [-0.94260108,  1.57818039, -1.36326   , -1.11514376],\n",
       "       [-1.0633184 ,  0.37192786, -1.53491918, -1.37753053],\n",
       "       [-0.33901448, -0.11057315,  0.35333182,  0.32798346],\n",
       "       [ 0.62672409,  0.37192786,  0.35333182,  0.32798346],\n",
       "       [ 0.14385481,  0.85442888,  0.35333182,  0.45917684],\n",
       "       [ 0.74744141, -0.11057315,  0.75386991,  0.98395038],\n",
       "       [ 0.26457213, -0.11057315,  0.58221072,  0.72156361],\n",
       "       [-1.18403572, -0.11057315, -1.42047973, -1.37753053],\n",
       "       [ 0.50600677,  0.61317837,  1.21162772,  1.6399173 ],\n",
       "       [-0.58044912,  1.57818039, -1.36326   , -1.37753053],\n",
       "       [-0.94260108,  1.8194309 , -1.13438109, -1.11514376],\n",
       "       [-1.54618769,  0.13067736, -1.36326   , -1.37753053],\n",
       "       [-1.30475304,  0.85442888, -1.13438109, -1.37753053],\n",
       "       [ 2.19604926, -0.59307416,  1.61216581,  0.98395038],\n",
       "       [ 0.26457213, -0.59307416,  0.46777127, -0.06559669],\n",
       "       [ 0.74744141, -0.11057315,  1.09718827,  1.24633715],\n",
       "       [-1.0633184 ,  1.33692989, -1.42047973, -1.37753053],\n",
       "       [-0.09757983, -0.59307416,  0.69665018,  1.50872391],\n",
       "       [-1.42547037,  0.37192786, -1.47769946, -1.37753053],\n",
       "       [-0.4597318 , -1.55807619, -0.104426  , -0.32798346],\n",
       "       [ 0.62672409, -0.59307416,  0.98274882,  1.24633715],\n",
       "       [ 1.59246266,  0.37192786,  1.21162772,  0.72156361],\n",
       "       [ 0.14385481, -2.0405772 ,  0.63943045,  0.32798346],\n",
       "       [-0.09757983, -0.83432467,  0.69665018,  0.85275699],\n",
       "       [-0.21829716, -0.59307416,  0.35333182,  0.06559669],\n",
       "       [-0.33901448, -0.59307416,  0.58221072,  0.98395038],\n",
       "       [-1.90833965, -0.11057315, -1.59213891, -1.50872391],\n",
       "       [-0.33901448, -0.11057315,  0.12445291,  0.06559669],\n",
       "       [ 0.02313749, -0.11057315,  0.69665018,  0.72156361],\n",
       "       [-1.30475304, -0.11057315, -1.42047973, -1.50872391],\n",
       "       [-0.21829716,  1.8194309 , -1.24882055, -1.24633715],\n",
       "       [ 0.74744141,  0.37192786,  0.69665018,  0.98395038],\n",
       "       [-0.82188376,  2.54318242, -1.36326   , -1.50872391],\n",
       "       [ 0.50600677, -0.59307416,  0.69665018,  0.32798346],\n",
       "       [-0.58044912,  0.85442888, -1.36326   , -1.11514376],\n",
       "       [ 0.50600677,  0.61317837,  0.46777127,  0.45917684],\n",
       "       [ 1.10959338,  0.37192786,  1.154408  ,  1.37753053],\n",
       "       [-0.21829716, -1.31682568,  0.63943045,  0.98395038],\n",
       "       [-0.21829716, -0.35182365,  0.18167263,  0.06559669],\n",
       "       [-1.18403572,  0.13067736, -1.36326   , -1.37753053],\n",
       "       [ 2.19604926, -1.07557517,  1.72660527,  1.37753053],\n",
       "       [ 0.98887605, -0.11057315,  0.63943045,  0.59037023],\n",
       "       [ 0.62672409, -0.83432467,  0.81108963,  0.85275699],\n",
       "       [ 1.59246266,  1.33692989,  1.26884745,  1.6399173 ],\n",
       "       [ 0.02313749,  0.37192786,  0.524991  ,  0.72156361],\n",
       "       [-0.21829716, -0.59307416,  0.12445291,  0.06559669],\n",
       "       [-0.94260108,  1.09567938, -1.42047973, -1.24633715],\n",
       "       [-1.78762233, -0.11057315, -1.47769946, -1.37753053],\n",
       "       [ 0.98887605,  0.13067736,  0.29611209,  0.19679008],\n",
       "       [-0.4597318 , -1.07557517,  0.29611209, -0.06559669],\n",
       "       [-1.78762233,  0.37192786, -1.47769946, -1.37753053],\n",
       "       [ 1.10959338, -0.59307416,  0.524991  ,  0.19679008],\n",
       "       [ 1.2303107 ,  0.13067736,  0.69665018,  1.37753053],\n",
       "       [-1.66690501, -1.79932669, -1.47769946, -1.24633715],\n",
       "       [ 0.74744141, -0.11057315,  0.92552909,  0.72156361],\n",
       "       [-1.54618769,  0.37192786, -1.42047973, -1.37753053],\n",
       "       [ 0.98887605, -1.31682568,  1.09718827,  0.72156361],\n",
       "       [ 0.26457213, -0.35182365,  0.46777127,  0.19679008],\n",
       "       [ 1.10959338, -0.11057315,  0.92552909,  1.11514376],\n",
       "       [ 1.2303107 ,  0.13067736,  0.86830936,  1.11514376],\n",
       "       [-1.18403572, -1.55807619, -0.33330491, -0.32798346],\n",
       "       [ 0.50600677, -0.35182365,  0.98274882,  0.72156361],\n",
       "       [-1.0633184 , -1.79932669, -0.33330491, -0.32798346],\n",
       "       [-0.82188376,  1.09567938, -1.36326   , -1.37753053],\n",
       "       [ 0.26457213, -0.11057315,  0.41055154,  0.19679008]])"
      ]
     },
     "execution_count": 8,
     "metadata": {},
     "output_type": "execute_result"
    }
   ],
   "source": [
    "X_train"
   ]
  },
  {
   "cell_type": "markdown",
   "id": "b41d99de",
   "metadata": {},
   "source": [
    "# 02 Decision tree"
   ]
  },
  {
   "cell_type": "code",
   "execution_count": 9,
   "id": "f30cf766",
   "metadata": {},
   "outputs": [],
   "source": [
    "from sklearn.tree import DecisionTreeClassifier\n",
    "from sklearn.tree import export_graphviz\n",
    "import graphviz"
   ]
  },
  {
   "cell_type": "code",
   "execution_count": 10,
   "id": "5a3d3d04",
   "metadata": {},
   "outputs": [],
   "source": [
    "tree_model = DecisionTreeClassifier(max_depth=3) # tree model generated"
   ]
  },
  {
   "cell_type": "code",
   "execution_count": 11,
   "id": "55264635",
   "metadata": {},
   "outputs": [
    {
     "data": {
      "text/html": [
       "<style>#sk-container-id-1 {color: black;background-color: white;}#sk-container-id-1 pre{padding: 0;}#sk-container-id-1 div.sk-toggleable {background-color: white;}#sk-container-id-1 label.sk-toggleable__label {cursor: pointer;display: block;width: 100%;margin-bottom: 0;padding: 0.3em;box-sizing: border-box;text-align: center;}#sk-container-id-1 label.sk-toggleable__label-arrow:before {content: \"▸\";float: left;margin-right: 0.25em;color: #696969;}#sk-container-id-1 label.sk-toggleable__label-arrow:hover:before {color: black;}#sk-container-id-1 div.sk-estimator:hover label.sk-toggleable__label-arrow:before {color: black;}#sk-container-id-1 div.sk-toggleable__content {max-height: 0;max-width: 0;overflow: hidden;text-align: left;background-color: #f0f8ff;}#sk-container-id-1 div.sk-toggleable__content pre {margin: 0.2em;color: black;border-radius: 0.25em;background-color: #f0f8ff;}#sk-container-id-1 input.sk-toggleable__control:checked~div.sk-toggleable__content {max-height: 200px;max-width: 100%;overflow: auto;}#sk-container-id-1 input.sk-toggleable__control:checked~label.sk-toggleable__label-arrow:before {content: \"▾\";}#sk-container-id-1 div.sk-estimator input.sk-toggleable__control:checked~label.sk-toggleable__label {background-color: #d4ebff;}#sk-container-id-1 div.sk-label input.sk-toggleable__control:checked~label.sk-toggleable__label {background-color: #d4ebff;}#sk-container-id-1 input.sk-hidden--visually {border: 0;clip: rect(1px 1px 1px 1px);clip: rect(1px, 1px, 1px, 1px);height: 1px;margin: -1px;overflow: hidden;padding: 0;position: absolute;width: 1px;}#sk-container-id-1 div.sk-estimator {font-family: monospace;background-color: #f0f8ff;border: 1px dotted black;border-radius: 0.25em;box-sizing: border-box;margin-bottom: 0.5em;}#sk-container-id-1 div.sk-estimator:hover {background-color: #d4ebff;}#sk-container-id-1 div.sk-parallel-item::after {content: \"\";width: 100%;border-bottom: 1px solid gray;flex-grow: 1;}#sk-container-id-1 div.sk-label:hover label.sk-toggleable__label {background-color: #d4ebff;}#sk-container-id-1 div.sk-serial::before {content: \"\";position: absolute;border-left: 1px solid gray;box-sizing: border-box;top: 0;bottom: 0;left: 50%;z-index: 0;}#sk-container-id-1 div.sk-serial {display: flex;flex-direction: column;align-items: center;background-color: white;padding-right: 0.2em;padding-left: 0.2em;position: relative;}#sk-container-id-1 div.sk-item {position: relative;z-index: 1;}#sk-container-id-1 div.sk-parallel {display: flex;align-items: stretch;justify-content: center;background-color: white;position: relative;}#sk-container-id-1 div.sk-item::before, #sk-container-id-1 div.sk-parallel-item::before {content: \"\";position: absolute;border-left: 1px solid gray;box-sizing: border-box;top: 0;bottom: 0;left: 50%;z-index: -1;}#sk-container-id-1 div.sk-parallel-item {display: flex;flex-direction: column;z-index: 1;position: relative;background-color: white;}#sk-container-id-1 div.sk-parallel-item:first-child::after {align-self: flex-end;width: 50%;}#sk-container-id-1 div.sk-parallel-item:last-child::after {align-self: flex-start;width: 50%;}#sk-container-id-1 div.sk-parallel-item:only-child::after {width: 0;}#sk-container-id-1 div.sk-dashed-wrapped {border: 1px dashed gray;margin: 0 0.4em 0.5em 0.4em;box-sizing: border-box;padding-bottom: 0.4em;background-color: white;}#sk-container-id-1 div.sk-label label {font-family: monospace;font-weight: bold;display: inline-block;line-height: 1.2em;}#sk-container-id-1 div.sk-label-container {text-align: center;}#sk-container-id-1 div.sk-container {/* jupyter's `normalize.less` sets `[hidden] { display: none; }` but bootstrap.min.css set `[hidden] { display: none !important; }` so we also need the `!important` here to be able to override the default hidden behavior on the sphinx rendered scikit-learn.org. See: https://github.com/scikit-learn/scikit-learn/issues/21755 */display: inline-block !important;position: relative;}#sk-container-id-1 div.sk-text-repr-fallback {display: none;}</style><div id=\"sk-container-id-1\" class=\"sk-top-container\"><div class=\"sk-text-repr-fallback\"><pre>DecisionTreeClassifier(max_depth=3)</pre><b>In a Jupyter environment, please rerun this cell to show the HTML representation or trust the notebook. <br />On GitHub, the HTML representation is unable to render, please try loading this page with nbviewer.org.</b></div><div class=\"sk-container\" hidden><div class=\"sk-item\"><div class=\"sk-estimator sk-toggleable\"><input class=\"sk-toggleable__control sk-hidden--visually\" id=\"sk-estimator-id-1\" type=\"checkbox\" checked><label for=\"sk-estimator-id-1\" class=\"sk-toggleable__label sk-toggleable__label-arrow\">DecisionTreeClassifier</label><div class=\"sk-toggleable__content\"><pre>DecisionTreeClassifier(max_depth=3)</pre></div></div></div></div></div>"
      ],
      "text/plain": [
       "DecisionTreeClassifier(max_depth=3)"
      ]
     },
     "execution_count": 11,
     "metadata": {},
     "output_type": "execute_result"
    }
   ],
   "source": [
    "tree_model.fit(X_train, y_train)"
   ]
  },
  {
   "cell_type": "code",
   "execution_count": 12,
   "id": "cffe1fcf",
   "metadata": {},
   "outputs": [
    {
     "data": {
      "text/plain": [
       "Index(['sepal length (cm)', 'sepal width (cm)', 'petal length (cm)',\n",
       "       'petal width (cm)'],\n",
       "      dtype='object')"
      ]
     },
     "execution_count": 12,
     "metadata": {},
     "output_type": "execute_result"
    }
   ],
   "source": [
    "df.columns[:-1]"
   ]
  },
  {
   "cell_type": "code",
   "execution_count": 13,
   "id": "53156f9f",
   "metadata": {},
   "outputs": [],
   "source": [
    "dot_data = export_graphviz(\n",
    "    tree_model,\n",
    "    out_file = None,\n",
    "    feature_names = df.columns[:-1],\n",
    "    class_names = df.columns[-1],\n",
    "    rounded = True, \n",
    "    filled = True\n",
    ")"
   ]
  },
  {
   "cell_type": "code",
   "execution_count": 14,
   "id": "cef4b3af",
   "metadata": {},
   "outputs": [],
   "source": [
    "graph = graphviz.Source(dot_data)"
   ]
  },
  {
   "cell_type": "code",
   "execution_count": 15,
   "id": "dd93b7ad",
   "metadata": {
    "scrolled": true
   },
   "outputs": [
    {
     "data": {
      "text/plain": [
       "'iris_decision_tree.png'"
      ]
     },
     "execution_count": 15,
     "metadata": {},
     "output_type": "execute_result"
    }
   ],
   "source": [
    "graph.render(filename = 'iris_decision_tree', directory='./', format='png')"
   ]
  },
  {
   "cell_type": "code",
   "execution_count": 16,
   "id": "60f1143c",
   "metadata": {},
   "outputs": [
    {
     "name": "stdout",
     "output_type": "stream",
     "text": [
      "/Library/Frameworks/Python.framework/Versions/3.11/lib/python3.11/site-packages/graphviz/__init__.py\n"
     ]
    }
   ],
   "source": [
    "import inspect\n",
    "print(inspect.getfile(graphviz))"
   ]
  },
  {
   "cell_type": "code",
   "execution_count": 17,
   "id": "4afb2524",
   "metadata": {},
   "outputs": [],
   "source": [
    "import os\n",
    "os.environ['PATH'] = os.pathsep+'/opt/homebrew/bin'"
   ]
  },
  {
   "cell_type": "code",
   "execution_count": null,
   "id": "4da71502",
   "metadata": {},
   "outputs": [],
   "source": []
  }
 ],
 "metadata": {
  "kernelspec": {
   "display_name": "Python 3 (ipykernel)",
   "language": "python",
   "name": "python3"
  },
  "language_info": {
   "codemirror_mode": {
    "name": "ipython",
    "version": 3
   },
   "file_extension": ".py",
   "mimetype": "text/x-python",
   "name": "python",
   "nbconvert_exporter": "python",
   "pygments_lexer": "ipython3",
   "version": "3.11.1"
  }
 },
 "nbformat": 4,
 "nbformat_minor": 5
}
