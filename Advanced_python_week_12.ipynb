{
 "cells": [
  {
   "cell_type": "markdown",
   "id": "9297836c",
   "metadata": {},
   "source": [
    "# 00 import module, load data"
   ]
  },
  {
   "cell_type": "code",
   "execution_count": 1,
   "id": "02029ffd",
   "metadata": {},
   "outputs": [],
   "source": [
    "from sklearn.datasets import load_iris\n",
    "import pandas as pd\n",
    "import numpy as np\n",
    "import matplotlib.pyplot as plt\n",
    "import seaborn as sns"
   ]
  },
  {
   "cell_type": "code",
   "execution_count": 2,
   "id": "70ec9442",
   "metadata": {},
   "outputs": [],
   "source": [
    "iris = load_iris()"
   ]
  },
  {
   "cell_type": "code",
   "execution_count": 3,
   "id": "385a4ccf",
   "metadata": {},
   "outputs": [],
   "source": [
    "features = iris['data']\n",
    "feature_names = iris['feature_names']\n",
    "label = iris['target']"
   ]
  },
  {
   "cell_type": "code",
   "execution_count": 4,
   "id": "8b506279",
   "metadata": {},
   "outputs": [],
   "source": [
    "df = pd.DataFrame(features, columns=feature_names)\n",
    "df['target'] = label"
   ]
  },
  {
   "cell_type": "markdown",
   "id": "f93275aa",
   "metadata": {},
   "source": [
    "# 01 data preprocessing"
   ]
  },
  {
   "cell_type": "markdown",
   "id": "97882cd8",
   "metadata": {},
   "source": [
    "1-1 divide X, y"
   ]
  },
  {
   "cell_type": "code",
   "execution_count": 5,
   "id": "fab6d8ee",
   "metadata": {},
   "outputs": [],
   "source": [
    "# Preprocessing\n",
    "X = df.iloc[:, :-1].values\n",
    "y = df.iloc[:, 4].values"
   ]
  },
  {
   "cell_type": "markdown",
   "id": "ffb62c06",
   "metadata": {},
   "source": [
    "1-2 train test split"
   ]
  },
  {
   "cell_type": "code",
   "execution_count": 6,
   "id": "d482d906",
   "metadata": {},
   "outputs": [],
   "source": [
    "from sklearn.model_selection import train_test_split\n",
    "X_train, X_test, y_train, y_test = train_test_split(X, y, test_size=0.20)"
   ]
  },
  {
   "cell_type": "markdown",
   "id": "b1895485",
   "metadata": {},
   "source": [
    "1-3 feature scaling"
   ]
  },
  {
   "cell_type": "code",
   "execution_count": 7,
   "id": "f24c6d87",
   "metadata": {},
   "outputs": [],
   "source": [
    "from sklearn.preprocessing import StandardScaler\n",
    "scaler = StandardScaler()\n",
    "scaler.fit(X_train)\n",
    "\n",
    "X_train = scaler.transform(X_train)\n",
    "X_test = scaler.transform(X_test)"
   ]
  },
  {
   "cell_type": "markdown",
   "id": "c34e5205",
   "metadata": {},
   "source": [
    "# 02 PCA"
   ]
  },
  {
   "cell_type": "code",
   "execution_count": 9,
   "id": "d27adb00",
   "metadata": {},
   "outputs": [],
   "source": [
    "from sklearn.decomposition import PCA"
   ]
  },
  {
   "cell_type": "code",
   "execution_count": 11,
   "id": "d5d1cdad",
   "metadata": {},
   "outputs": [
    {
     "data": {
      "text/html": [
       "<style>#sk-container-id-1 {color: black;background-color: white;}#sk-container-id-1 pre{padding: 0;}#sk-container-id-1 div.sk-toggleable {background-color: white;}#sk-container-id-1 label.sk-toggleable__label {cursor: pointer;display: block;width: 100%;margin-bottom: 0;padding: 0.3em;box-sizing: border-box;text-align: center;}#sk-container-id-1 label.sk-toggleable__label-arrow:before {content: \"▸\";float: left;margin-right: 0.25em;color: #696969;}#sk-container-id-1 label.sk-toggleable__label-arrow:hover:before {color: black;}#sk-container-id-1 div.sk-estimator:hover label.sk-toggleable__label-arrow:before {color: black;}#sk-container-id-1 div.sk-toggleable__content {max-height: 0;max-width: 0;overflow: hidden;text-align: left;background-color: #f0f8ff;}#sk-container-id-1 div.sk-toggleable__content pre {margin: 0.2em;color: black;border-radius: 0.25em;background-color: #f0f8ff;}#sk-container-id-1 input.sk-toggleable__control:checked~div.sk-toggleable__content {max-height: 200px;max-width: 100%;overflow: auto;}#sk-container-id-1 input.sk-toggleable__control:checked~label.sk-toggleable__label-arrow:before {content: \"▾\";}#sk-container-id-1 div.sk-estimator input.sk-toggleable__control:checked~label.sk-toggleable__label {background-color: #d4ebff;}#sk-container-id-1 div.sk-label input.sk-toggleable__control:checked~label.sk-toggleable__label {background-color: #d4ebff;}#sk-container-id-1 input.sk-hidden--visually {border: 0;clip: rect(1px 1px 1px 1px);clip: rect(1px, 1px, 1px, 1px);height: 1px;margin: -1px;overflow: hidden;padding: 0;position: absolute;width: 1px;}#sk-container-id-1 div.sk-estimator {font-family: monospace;background-color: #f0f8ff;border: 1px dotted black;border-radius: 0.25em;box-sizing: border-box;margin-bottom: 0.5em;}#sk-container-id-1 div.sk-estimator:hover {background-color: #d4ebff;}#sk-container-id-1 div.sk-parallel-item::after {content: \"\";width: 100%;border-bottom: 1px solid gray;flex-grow: 1;}#sk-container-id-1 div.sk-label:hover label.sk-toggleable__label {background-color: #d4ebff;}#sk-container-id-1 div.sk-serial::before {content: \"\";position: absolute;border-left: 1px solid gray;box-sizing: border-box;top: 0;bottom: 0;left: 50%;z-index: 0;}#sk-container-id-1 div.sk-serial {display: flex;flex-direction: column;align-items: center;background-color: white;padding-right: 0.2em;padding-left: 0.2em;position: relative;}#sk-container-id-1 div.sk-item {position: relative;z-index: 1;}#sk-container-id-1 div.sk-parallel {display: flex;align-items: stretch;justify-content: center;background-color: white;position: relative;}#sk-container-id-1 div.sk-item::before, #sk-container-id-1 div.sk-parallel-item::before {content: \"\";position: absolute;border-left: 1px solid gray;box-sizing: border-box;top: 0;bottom: 0;left: 50%;z-index: -1;}#sk-container-id-1 div.sk-parallel-item {display: flex;flex-direction: column;z-index: 1;position: relative;background-color: white;}#sk-container-id-1 div.sk-parallel-item:first-child::after {align-self: flex-end;width: 50%;}#sk-container-id-1 div.sk-parallel-item:last-child::after {align-self: flex-start;width: 50%;}#sk-container-id-1 div.sk-parallel-item:only-child::after {width: 0;}#sk-container-id-1 div.sk-dashed-wrapped {border: 1px dashed gray;margin: 0 0.4em 0.5em 0.4em;box-sizing: border-box;padding-bottom: 0.4em;background-color: white;}#sk-container-id-1 div.sk-label label {font-family: monospace;font-weight: bold;display: inline-block;line-height: 1.2em;}#sk-container-id-1 div.sk-label-container {text-align: center;}#sk-container-id-1 div.sk-container {/* jupyter's `normalize.less` sets `[hidden] { display: none; }` but bootstrap.min.css set `[hidden] { display: none !important; }` so we also need the `!important` here to be able to override the default hidden behavior on the sphinx rendered scikit-learn.org. See: https://github.com/scikit-learn/scikit-learn/issues/21755 */display: inline-block !important;position: relative;}#sk-container-id-1 div.sk-text-repr-fallback {display: none;}</style><div id=\"sk-container-id-1\" class=\"sk-top-container\"><div class=\"sk-text-repr-fallback\"><pre>PCA(n_components=2)</pre><b>In a Jupyter environment, please rerun this cell to show the HTML representation or trust the notebook. <br />On GitHub, the HTML representation is unable to render, please try loading this page with nbviewer.org.</b></div><div class=\"sk-container\" hidden><div class=\"sk-item\"><div class=\"sk-estimator sk-toggleable\"><input class=\"sk-toggleable__control sk-hidden--visually\" id=\"sk-estimator-id-1\" type=\"checkbox\" checked><label for=\"sk-estimator-id-1\" class=\"sk-toggleable__label sk-toggleable__label-arrow\">PCA</label><div class=\"sk-toggleable__content\"><pre>PCA(n_components=2)</pre></div></div></div></div></div>"
      ],
      "text/plain": [
       "PCA(n_components=2)"
      ]
     },
     "execution_count": 11,
     "metadata": {},
     "output_type": "execute_result"
    }
   ],
   "source": [
    "pca = PCA(n_components=2)\n",
    "pca.fit(X)"
   ]
  },
  {
   "cell_type": "code",
   "execution_count": 12,
   "id": "1488aed2",
   "metadata": {},
   "outputs": [
    {
     "name": "stdout",
     "output_type": "stream",
     "text": [
      "[4.22824171 0.24267075]\n"
     ]
    }
   ],
   "source": [
    "print(pca.explained_variance_)"
   ]
  },
  {
   "cell_type": "code",
   "execution_count": 16,
   "id": "6ea181f6",
   "metadata": {},
   "outputs": [],
   "source": [
    "PCscore = pca.transform(X)"
   ]
  },
  {
   "cell_type": "code",
   "execution_count": 18,
   "id": "160ed3c9",
   "metadata": {
    "scrolled": true
   },
   "outputs": [
    {
     "data": {
      "text/plain": [
       "array([-2.68412563, -2.71414169, -2.88899057, -2.74534286, -2.72871654,\n",
       "       -2.28085963, -2.82053775, -2.62614497, -2.88638273, -2.6727558 ,\n",
       "       -2.50694709, -2.61275523, -2.78610927, -3.22380374, -2.64475039,\n",
       "       -2.38603903, -2.62352788, -2.64829671, -2.19982032, -2.5879864 ,\n",
       "       -2.31025622, -2.54370523, -3.21593942, -2.30273318, -2.35575405,\n",
       "       -2.50666891, -2.46882007, -2.56231991, -2.63953472, -2.63198939,\n",
       "       -2.58739848, -2.4099325 , -2.64886233, -2.59873675, -2.63692688,\n",
       "       -2.86624165, -2.62523805, -2.80068412, -2.98050204, -2.59000631,\n",
       "       -2.77010243, -2.84936871, -2.99740655, -2.40561449, -2.20948924,\n",
       "       -2.71445143, -2.53814826, -2.83946217, -2.54308575, -2.70335978,\n",
       "        1.28482569,  0.93248853,  1.46430232,  0.18331772,  1.08810326,\n",
       "        0.64166908,  1.09506066, -0.74912267,  1.04413183, -0.0087454 ,\n",
       "       -0.50784088,  0.51169856,  0.26497651,  0.98493451, -0.17392537,\n",
       "        0.92786078,  0.66028376,  0.23610499,  0.94473373,  0.04522698,\n",
       "        1.11628318,  0.35788842,  1.29818388,  0.92172892,  0.71485333,\n",
       "        0.90017437,  1.33202444,  1.55780216,  0.81329065, -0.30558378,\n",
       "       -0.06812649, -0.18962247,  0.13642871,  1.38002644,  0.58800644,\n",
       "        0.80685831,  1.22069088,  0.81509524,  0.24595768,  0.16641322,\n",
       "        0.46480029,  0.8908152 ,  0.23054802, -0.70453176,  0.35698149,\n",
       "        0.33193448,  0.37621565,  0.64257601, -0.90646986,  0.29900084,\n",
       "        2.53119273,  1.41523588,  2.61667602,  1.97153105,  2.35000592,\n",
       "        3.39703874,  0.52123224,  2.93258707,  2.32122882,  2.91675097,\n",
       "        1.66177415,  1.80340195,  2.1655918 ,  1.34616358,  1.58592822,\n",
       "        1.90445637,  1.94968906,  3.48705536,  3.79564542,  1.30079171,\n",
       "        2.42781791,  1.19900111,  3.49992004,  1.38876613,  2.2754305 ,\n",
       "        2.61409047,  1.25850816,  1.29113206,  2.12360872,  2.38800302,\n",
       "        2.84167278,  3.23067366,  2.15943764,  1.44416124,  1.78129481,\n",
       "        3.07649993,  2.14424331,  1.90509815,  1.16932634,  2.10761114,\n",
       "        2.31415471,  1.9222678 ,  1.41523588,  2.56301338,  2.41874618,\n",
       "        1.94410979,  1.52716661,  1.76434572,  1.90094161,  1.39018886])"
      ]
     },
     "execution_count": 18,
     "metadata": {},
     "output_type": "execute_result"
    }
   ],
   "source": [
    "PCscore[:,0]"
   ]
  },
  {
   "cell_type": "code",
   "execution_count": 19,
   "id": "2cadc042",
   "metadata": {},
   "outputs": [
    {
     "data": {
      "text/plain": [
       "array([ 0.31939725, -0.17700123, -0.14494943, -0.31829898,  0.32675451,\n",
       "        0.74133045, -0.08946138,  0.16338496, -0.57831175, -0.11377425,\n",
       "        0.6450689 ,  0.01472994, -0.235112  , -0.51139459,  1.17876464,\n",
       "        1.33806233,  0.81067951,  0.31184914,  0.87283904,  0.51356031,\n",
       "        0.39134594,  0.43299606,  0.13346807,  0.09870885, -0.03728186,\n",
       "       -0.14601688,  0.13095149,  0.36771886,  0.31203998, -0.19696122,\n",
       "       -0.20431849,  0.41092426,  0.81336382,  1.09314576, -0.12132235,\n",
       "        0.06936447,  0.59937002,  0.26864374, -0.48795834,  0.22904384,\n",
       "        0.26352753, -0.94096057, -0.34192606,  0.18887143,  0.43666314,\n",
       "       -0.2502082 ,  0.50377114, -0.22794557,  0.57941002,  0.10770608,\n",
       "        0.68516047,  0.31833364,  0.50426282, -0.82795901,  0.07459068,\n",
       "       -0.41824687,  0.28346827, -1.00489096,  0.2283619 , -0.72308191,\n",
       "       -1.26597119, -0.10398124, -0.55003646, -0.12481785, -0.25485421,\n",
       "        0.46717949, -0.35296967, -0.33361077, -0.54314555, -0.58383438,\n",
       "       -0.08461685, -0.06892503, -0.32778731, -0.18273779,  0.14905594,\n",
       "        0.32850447,  0.24444088,  0.26749545, -0.1633503 , -0.36826219,\n",
       "       -0.70517213, -0.68028676, -0.31403244, -0.42095429, -0.48428742,\n",
       "        0.19418231,  0.40761959, -0.37203706, -0.2685244 , -0.68192672,\n",
       "       -0.67071154, -0.03446444, -0.40438585, -1.01224823, -0.50491009,\n",
       "       -0.21265468, -0.29321893,  0.01773819, -0.75609337, -0.34889781,\n",
       "       -0.00984911, -0.57491635,  0.34390315, -0.1797279 , -0.04026095,\n",
       "        0.55083667, -1.19275873,  0.3555    , -0.2438315 ,  0.78279195,\n",
       "        0.24222841, -0.21563762,  0.21627559, -0.77681835, -0.53964071,\n",
       "        0.11925069,  0.04194326,  1.17573933,  0.25732297, -0.76114964,\n",
       "        0.37819601, -0.60609153,  0.4606741 , -0.20439933,  0.33499061,\n",
       "        0.56090136, -0.17970479, -0.11666865, -0.20972948,  0.4646398 ,\n",
       "        0.37526917,  1.37416509, -0.21727758, -0.14341341, -0.49990168,\n",
       "        0.68808568,  0.1400642 ,  0.04930053, -0.16499026,  0.37228787,\n",
       "        0.18365128,  0.40920347, -0.57491635,  0.2778626 ,  0.3047982 ,\n",
       "        0.1875323 , -0.37531698,  0.07885885,  0.11662796, -0.28266094])"
      ]
     },
     "execution_count": 19,
     "metadata": {},
     "output_type": "execute_result"
    }
   ],
   "source": [
    "PCscore[:,1]"
   ]
  },
  {
   "cell_type": "code",
   "execution_count": 20,
   "id": "7638f3b6",
   "metadata": {},
   "outputs": [
    {
     "ename": "AttributeError",
     "evalue": "module 'matplotlib.pyplot' has no attribute 'label'",
     "output_type": "error",
     "traceback": [
      "\u001b[0;31m---------------------------------------------------------------------------\u001b[0m",
      "\u001b[0;31mAttributeError\u001b[0m                            Traceback (most recent call last)",
      "Cell \u001b[0;32mIn[20], line 4\u001b[0m\n\u001b[1;32m      2\u001b[0m plt\u001b[38;5;241m.\u001b[39mscatter(PCscore[:,\u001b[38;5;241m0\u001b[39m], PCscore[:,\u001b[38;5;241m1\u001b[39m])\n\u001b[1;32m      3\u001b[0m plt\u001b[38;5;241m.\u001b[39mxlabel(\u001b[38;5;124m'\u001b[39m\u001b[38;5;124mPC1\u001b[39m\u001b[38;5;124m'\u001b[39m)\n\u001b[0;32m----> 4\u001b[0m \u001b[43mplt\u001b[49m\u001b[38;5;241;43m.\u001b[39;49m\u001b[43mlabel\u001b[49m\n\u001b[1;32m      5\u001b[0m plt\u001b[38;5;241m.\u001b[39mshow()\n",
      "\u001b[0;31mAttributeError\u001b[0m: module 'matplotlib.pyplot' has no attribute 'label'"
     ]
    },
    {
     "data": {
      "image/png": "[encoded data removed]",
      "text/plain": [
       "<Figure size 640x480 with 1 Axes>"
      ]
     },
     "metadata": {},
     "output_type": "display_data"
    }
   ],
   "source": [
    "#PC score scatter plot\n",
    "plt.scatter(PCscore[:,0], PCscore[:,1])\n",
    "plt.xlabel('PC1')\n",
    "plt.label\n",
    "plt.show()"
   ]
  },
  {
   "cell_type": "code",
   "execution_count": 21,
   "id": "eca89fff",
   "metadata": {},
   "outputs": [],
   "source": [
    "#03 TSNE"
   ]
  },
  {
   "cell_type": "code",
   "execution_count": 23,
   "id": "9233227e",
   "metadata": {},
   "outputs": [],
   "source": [
    "from sklearn.manifold import TSNE"
   ]
  },
  {
   "cell_type": "code",
   "execution_count": 24,
   "id": "04d523b6",
   "metadata": {},
   "outputs": [],
   "source": [
    "tsne = TSNE(n_components=2)\n",
    "tsne_result = tsne.fit_transform(X)"
   ]
  },
  {
   "cell_type": "code",
   "execution_count": 25,
   "id": "732029b4",
   "metadata": {},
   "outputs": [
    {
     "data": {
      "text/plain": [
       "(150, 2)"
      ]
     },
     "execution_count": 25,
     "metadata": {},
     "output_type": "execute_result"
    }
   ],
   "source": [
    "tsne_result.shape"
   ]
  },
  {
   "cell_type": "code",
   "execution_count": 26,
   "id": "4fecd4f9",
   "metadata": {},
   "outputs": [
    {
     "data": {
      "text/plain": [
       "array([[-23.875437  ,  -1.4305894 ],\n",
       "       [-21.332832  ,  -2.5229647 ],\n",
       "       [-21.183956  ,  -1.3164853 ],\n",
       "       [-20.842545  ,  -1.61192   ],\n",
       "       [-23.845785  ,  -0.9457335 ],\n",
       "       [-25.833662  ,  -0.9249592 ],\n",
       "       [-21.434713  ,  -0.7261155 ],\n",
       "       [-23.135448  ,  -1.5997264 ],\n",
       "       [-20.077644  ,  -1.7236085 ],\n",
       "       [-21.728899  ,  -2.2258704 ],\n",
       "       [-25.438894  ,  -1.6185867 ],\n",
       "       [-22.392347  ,  -1.1686792 ],\n",
       "       [-20.983025  ,  -2.2591443 ],\n",
       "       [-19.860811  ,  -1.1332073 ],\n",
       "       [-26.776562  ,  -1.5117849 ],\n",
       "       [-26.88732   ,  -0.9376887 ],\n",
       "       [-26.012383  ,  -1.2746142 ],\n",
       "       [-23.93844   ,  -1.5569798 ],\n",
       "       [-26.26575   ,  -1.8069136 ],\n",
       "       [-24.88065   ,  -0.82918686],\n",
       "       [-24.896988  ,  -2.4844184 ],\n",
       "       [-24.62376   ,  -1.0674903 ],\n",
       "       [-21.465752  ,   0.10849005],\n",
       "       [-23.518333  ,  -2.8430624 ],\n",
       "       [-22.436312  ,  -0.6163109 ],\n",
       "       [-21.753988  ,  -2.7942991 ],\n",
       "       [-23.376272  ,  -2.279838  ],\n",
       "       [-24.357187  ,  -1.7557697 ],\n",
       "       [-24.01955   ,  -1.947578  ],\n",
       "       [-21.597445  ,  -1.4234477 ],\n",
       "       [-21.559752  ,  -1.8960959 ],\n",
       "       [-24.801905  ,  -2.4254394 ],\n",
       "       [-25.938175  ,  -0.45956102],\n",
       "       [-26.553356  ,  -0.8881187 ],\n",
       "       [-21.794832  ,  -2.1856434 ],\n",
       "       [-22.360012  ,  -2.324695  ],\n",
       "       [-25.422783  ,  -2.2605348 ],\n",
       "       [-23.434998  ,  -0.6927245 ],\n",
       "       [-20.15382   ,  -1.4045316 ],\n",
       "       [-23.527878  ,  -1.8062648 ],\n",
       "       [-23.478365  ,  -1.1941863 ],\n",
       "       [-19.691734  ,  -2.417921  ],\n",
       "       [-20.461939  ,  -0.8887729 ],\n",
       "       [-23.81138   ,  -2.747442  ],\n",
       "       [-25.085066  ,  -0.15003446],\n",
       "       [-21.00251   ,  -2.2700438 ],\n",
       "       [-24.92658   ,  -0.7028365 ],\n",
       "       [-20.989998  ,  -1.211185  ],\n",
       "       [-25.157673  ,  -1.4403605 ],\n",
       "       [-22.76006   ,  -1.8463324 ],\n",
       "       [ 12.344597  ,   1.7699229 ],\n",
       "       [ 10.6530905 ,   1.3703024 ],\n",
       "       [ 12.621857  ,   1.2905154 ],\n",
       "       [  5.5600634 ,   2.412572  ],\n",
       "       [ 11.162424  ,   1.1369538 ],\n",
       "       [  7.548774  ,   1.2831858 ],\n",
       "       [ 10.6900835 ,   0.602025  ],\n",
       "       [  4.3073883 ,   3.3411398 ],\n",
       "       [ 11.305397  ,   1.6096934 ],\n",
       "       [  5.3801026 ,   2.004022  ],\n",
       "       [  4.3428144 ,   3.0244386 ],\n",
       "       [  8.108009  ,   1.8505912 ],\n",
       "       [  6.608544  ,   3.7092397 ],\n",
       "       [  9.752221  ,   0.7381259 ],\n",
       "       [  5.9635973 ,   3.4166815 ],\n",
       "       [ 11.337201  ,   1.981497  ],\n",
       "       [  7.562575  ,   0.9488554 ],\n",
       "       [  6.892638  ,   2.8511548 ],\n",
       "       [  8.557389  ,  -0.63881284],\n",
       "       [  5.9210973 ,   2.8611882 ],\n",
       "       [ 10.221734  ,  -0.76945996],\n",
       "       [  7.86534   ,   2.733     ],\n",
       "       [ 11.495166  ,  -0.48387796],\n",
       "       [  9.449579  ,   0.9896521 ],\n",
       "       [ 10.068773  ,   1.990213  ],\n",
       "       [ 10.994636  ,   1.8879439 ],\n",
       "       [ 12.142014  ,   1.2609056 ],\n",
       "       [ 13.026581  ,   0.3605979 ],\n",
       "       [  9.032155  ,   1.0562892 ],\n",
       "       [  5.5261455 ,   3.592791  ],\n",
       "       [  5.4507656 ,   2.9083583 ],\n",
       "       [  5.301984  ,   3.1472867 ],\n",
       "       [  6.589539  ,   2.906791  ],\n",
       "       [ 11.3573885 ,  -1.6515732 ],\n",
       "       [  7.0363135 ,   0.82602954],\n",
       "       [  9.819131  ,   0.29250866],\n",
       "       [ 11.898449  ,   1.4348826 ],\n",
       "       [  8.456949  ,  -0.36254096],\n",
       "       [  6.9730372 ,   1.9528635 ],\n",
       "       [  5.866953  ,   2.3342624 ],\n",
       "       [  6.3784122 ,   1.5118532 ],\n",
       "       [  9.641628  ,   0.9954482 ],\n",
       "       [  6.572582  ,   2.793371  ],\n",
       "       [  4.3665366 ,   3.3282847 ],\n",
       "       [  6.5377927 ,   1.9203242 ],\n",
       "       [  7.337683  ,   2.0153065 ],\n",
       "       [  7.2305813 ,   1.9309164 ],\n",
       "       [  9.218194  ,   1.8840195 ],\n",
       "       [  4.2821035 ,   3.5603142 ],\n",
       "       [  6.880737  ,   2.2545094 ],\n",
       "       [ 16.200716  ,  -3.5713565 ],\n",
       "       [ 10.922783  ,  -2.3276265 ],\n",
       "       [ 17.38571   ,  -2.127384  ],\n",
       "       [ 14.024212  ,  -2.4135828 ],\n",
       "       [ 15.6491585 ,  -2.732302  ],\n",
       "       [ 18.851923  ,  -2.4149778 ],\n",
       "       [  5.705118  ,   0.64838314],\n",
       "       [ 18.3603    ,  -1.9251393 ],\n",
       "       [ 14.350202  ,  -3.2125337 ],\n",
       "       [ 17.74419   ,  -3.118654  ],\n",
       "       [ 14.492927  ,  -1.0958174 ],\n",
       "       [ 13.475502  ,  -1.8323452 ],\n",
       "       [ 15.860857  ,  -1.8568302 ],\n",
       "       [ 10.601917  ,  -2.63377   ],\n",
       "       [ 11.120371  ,  -3.094138  ],\n",
       "       [ 15.2463455 ,  -2.0871472 ],\n",
       "       [ 14.3827095 ,  -2.0608025 ],\n",
       "       [ 18.787468  ,  -3.179959  ],\n",
       "       [ 19.237314  ,  -2.254118  ],\n",
       "       [  9.561173  ,  -1.7433698 ],\n",
       "       [ 16.652943  ,  -2.2877326 ],\n",
       "       [ 10.434801  ,  -2.5109496 ],\n",
       "       [ 19.02976   ,  -2.2618558 ],\n",
       "       [ 11.730566  ,  -0.99047005],\n",
       "       [ 16.274899  ,  -2.4023364 ],\n",
       "       [ 17.805592  ,  -1.9362102 ],\n",
       "       [ 11.197334  ,  -0.8390117 ],\n",
       "       [ 10.879839  ,  -1.0221128 ],\n",
       "       [ 14.719778  ,  -2.5742848 ],\n",
       "       [ 17.712597  ,  -1.5263673 ],\n",
       "       [ 18.2611    ,  -1.8984076 ],\n",
       "       [ 18.774439  ,  -3.1692855 ],\n",
       "       [ 14.927795  ,  -2.6192665 ],\n",
       "       [ 12.033977  ,  -0.7936427 ],\n",
       "       [ 12.705092  ,  -2.5385206 ],\n",
       "       [ 18.465446  ,  -2.470773  ],\n",
       "       [ 15.736396  ,  -3.3589084 ],\n",
       "       [ 14.331381  ,  -2.0756419 ],\n",
       "       [ 10.539857  ,  -0.93115735],\n",
       "       [ 16.038757  ,  -1.5850594 ],\n",
       "       [ 16.066435  ,  -2.414365  ],\n",
       "       [ 15.661216  ,  -1.0936958 ],\n",
       "       [ 10.922783  ,  -2.3276265 ],\n",
       "       [ 16.793104  ,  -2.6906211 ],\n",
       "       [ 16.41239   ,  -2.935419  ],\n",
       "       [ 15.408048  ,  -1.40738   ],\n",
       "       [ 12.035444  ,  -1.4590379 ],\n",
       "       [ 14.410233  ,  -1.3980585 ],\n",
       "       [ 15.34763   ,  -3.3895988 ],\n",
       "       [ 10.907881  ,  -1.7572654 ]], dtype=float32)"
      ]
     },
     "execution_count": 26,
     "metadata": {},
     "output_type": "execute_result"
    }
   ],
   "source": [
    "tsne_result"
   ]
  },
  {
   "cell_type": "code",
   "execution_count": 32,
   "id": "9e102e91",
   "metadata": {},
   "outputs": [
    {
     "data": {
      "image/png": "[encoded data removed]",
      "text/plain": [
       "<Figure size 640x480 with 1 Axes>"
      ]
     },
     "metadata": {},
     "output_type": "display_data"
    }
   ],
   "source": [
    "plt.scatter(tsne_result[:,0], tsne_result[:,1])\n",
    "plt.show()"
   ]
  },
  {
   "cell_type": "code",
   "execution_count": null,
   "id": "48d8aef6",
   "metadata": {},
   "outputs": [],
   "source": []
  }
 ],
 "metadata": {
  "kernelspec": {
   "display_name": "Python 3 (ipykernel)",
   "language": "python",
   "name": "python3"
  },
  "language_info": {
   "codemirror_mode": {
    "name": "ipython",
    "version": 3
   },
   "file_extension": ".py",
   "mimetype": "text/x-python",
   "name": "python",
   "nbconvert_exporter": "python",
   "pygments_lexer": "ipython3",
   "version": "3.11.1"
  }
 },
 "nbformat": 4,
 "nbformat_minor": 5
}
