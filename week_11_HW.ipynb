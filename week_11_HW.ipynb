{
 "cells": [
  {
   "cell_type": "markdown",
   "id": "d34a35de",
   "metadata": {},
   "source": [
    "# 00 import module,load data"
   ]
  },
  {
   "cell_type": "code",
   "execution_count": 1,
   "id": "b9ac5c34",
   "metadata": {},
   "outputs": [],
   "source": []
  },
  {
   "cell_type": "code",
   "execution_count": 2,
   "id": "6a7f984a",
   "metadata": {},
   "outputs": [],
   "source": []
  },
  {
   "cell_type": "markdown",
   "id": "37af74d7",
   "metadata": {},
   "source": [
    "# 01 Random Forest"
   ]
  },
  {
   "cell_type": "code",
   "execution_count": 3,
   "id": "9db476e7",
   "metadata": {},
   "outputs": [],
   "source": [
    "from sklearn.ensemble import RandomForestClassifier"
   ]
  },
  {
   "cell_type": "code",
   "execution_count": 4,
   "id": "0ecb2ebb",
   "metadata": {},
   "outputs": [],
   "source": [
    "rf = RandomForestClassifier()"
   ]
  },
  {
   "cell_type": "code",
   "execution_count": null,
   "id": "6d3dfe79",
   "metadata": {},
   "outputs": [],
   "source": [
    "from sklearn.model_selection import GridSearchCV\n",
    "\n",
    "# Define the hyperparameters and their values\n",
    "knn_params = {'n_neighbors': [3, 5, 7, 9], 'weights': ['uniform', 'distance'], 'metric': ['euclidean', 'manhattan']}\n",
    "\n",
    "# Initialize the K-Nearest Neighbors model\n",
    "knn = KNeighborsRegressor()\n",
    "\n",
    "# Set up GridSearchCV with the KNN model and the parameters\n",
    "grid_search_knn = GridSearchCV(knn, knn_params, cv=5)\n",
    "\n",
    "# Fit the model with the training data\n",
    "grid_search_knn.fit(X_train, y_train)\n",
    "\n",
    "# Print the best parameters and the best score\n",
    "print(grid_search_knn.best_params_)\n",
    "print(grid_search_knn.best_score_)"
   ]
  }
 ],
 "metadata": {
  "kernelspec": {
   "display_name": "Python 3 (ipykernel)",
   "language": "python",
   "name": "python3"
  },
  "language_info": {
   "codemirror_mode": {
    "name": "ipython",
    "version": 3
   },
   "file_extension": ".py",
   "mimetype": "text/x-python",
   "name": "python",
   "nbconvert_exporter": "python",
   "pygments_lexer": "ipython3",
   "version": "3.11.1"
  }
 },
 "nbformat": 4,
 "nbformat_minor": 5
}
