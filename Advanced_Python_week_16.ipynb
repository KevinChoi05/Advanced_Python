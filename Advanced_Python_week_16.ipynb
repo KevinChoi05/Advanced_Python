{
 "cells": [
  {
   "cell_type": "markdown",
   "id": "c7e85da7",
   "metadata": {},
   "source": [
    "# 01 Class practice"
   ]
  },
  {
   "cell_type": "markdown",
   "id": "56623faa",
   "metadata": {},
   "source": [
    "## 1-1 simplest class"
   ]
  },
  {
   "cell_type": "code",
   "execution_count": 1,
   "id": "3268995f",
   "metadata": {},
   "outputs": [],
   "source": [
    "# class 정의\n",
    "class Cookie():\n",
    "    pass"
   ]
  },
  {
   "cell_type": "code",
   "execution_count": 2,
   "id": "03f12c02",
   "metadata": {},
   "outputs": [],
   "source": [
    "# class를 이용해 객체를 생성\n",
    "yongku = Cookie()\n",
    "ddalgi = Cookie()\n",
    "snow = Cookie()\n",
    "# yongku, ddalgi, snow가 object들이다!"
   ]
  },
  {
   "cell_type": "code",
   "execution_count": 3,
   "id": "994927dd",
   "metadata": {},
   "outputs": [
    {
     "name": "stdout",
     "output_type": "stream",
     "text": [
      "<__main__.Cookie object at 0x000002BEA79E4700>\n",
      "<__main__.Cookie object at 0x000002BEA79E46A0>\n",
      "<__main__.Cookie object at 0x000002BEA79E4790>\n"
     ]
    }
   ],
   "source": [
    "print(yongku)\n",
    "print(ddalgi)\n",
    "print(snow)\n",
    "# 서로 다른 메모리 주소에 object가 저장되어 있음!"
   ]
  },
  {
   "cell_type": "markdown",
   "id": "39ed211e",
   "metadata": {},
   "source": [
    "## 1-2 class 안에 기능 넣기 (method)"
   ]
  },
  {
   "cell_type": "code",
   "execution_count": 4,
   "id": "2d99e9e5",
   "metadata": {},
   "outputs": [],
   "source": [
    "class Cookie():\n",
    "    def checkOvenTemp(temp):\n",
    "        if temp == 190:\n",
    "            return '적당해요'\n",
    "        elif temp > 190:\n",
    "            return '뜨거워요'\n",
    "        else:\n",
    "            return '추워요'\n",
    "    def sayTaste(taste):\n",
    "        return taste"
   ]
  },
  {
   "cell_type": "code",
   "execution_count": 5,
   "id": "38edead5",
   "metadata": {},
   "outputs": [
    {
     "ename": "TypeError",
     "evalue": "checkOvenTemp() takes 1 positional argument but 2 were given",
     "output_type": "error",
     "traceback": [
      "\u001b[1;31m---------------------------------------------------------------------------\u001b[0m",
      "\u001b[1;31mTypeError\u001b[0m                                 Traceback (most recent call last)",
      "\u001b[1;32m~\\AppData\\Local\\Temp/ipykernel_10756/1988681864.py\u001b[0m in \u001b[0;36m<module>\u001b[1;34m\u001b[0m\n\u001b[0;32m      1\u001b[0m \u001b[0myongku\u001b[0m \u001b[1;33m=\u001b[0m \u001b[0mCookie\u001b[0m\u001b[1;33m(\u001b[0m\u001b[1;33m)\u001b[0m\u001b[1;33m\u001b[0m\u001b[1;33m\u001b[0m\u001b[0m\n\u001b[1;32m----> 2\u001b[1;33m \u001b[0mprint\u001b[0m\u001b[1;33m(\u001b[0m\u001b[0myongku\u001b[0m\u001b[1;33m.\u001b[0m\u001b[0mcheckOvenTemp\u001b[0m\u001b[1;33m(\u001b[0m\u001b[1;36m190\u001b[0m\u001b[1;33m)\u001b[0m\u001b[1;33m)\u001b[0m\u001b[1;33m\u001b[0m\u001b[1;33m\u001b[0m\u001b[0m\n\u001b[0m",
      "\u001b[1;31mTypeError\u001b[0m: checkOvenTemp() takes 1 positional argument but 2 were given"
     ]
    }
   ],
   "source": [
    "yongku = Cookie()\n",
    "print(yongku.checkOvenTemp(190))\n",
    "# class를 통해서 attribute를 줘야 하는데 method를 통해서 줬기 때문에 TypeError 발생."
   ]
  },
  {
   "cell_type": "markdown",
   "id": "ef7f956f",
   "metadata": {},
   "source": [
    "## 1-3 class에 인수를 저장하는 method 만들어서 추가"
   ]
  },
  {
   "cell_type": "code",
   "execution_count": 6,
   "id": "05e68ead",
   "metadata": {},
   "outputs": [],
   "source": [
    "class Cookie():\n",
    "    def setData(self, temp, taste):\n",
    "        self.temp = temp\n",
    "        self.taste = taste\n",
    "        # 이 결과, self (object 자기 자신)에 temp, taste를 주렁주렁 매달았음. \n",
    "    def checkOvenTemp(self):\n",
    "        if self.temp == 190:\n",
    "            return '적당해요'\n",
    "        elif self.temp > 190:\n",
    "            return '뜨거워요'\n",
    "        else:\n",
    "            return '추워요'\n",
    "    def sayTaste(self):\n",
    "        return self.taste    "
   ]
  },
  {
   "cell_type": "code",
   "execution_count": 7,
   "id": "4949c367",
   "metadata": {},
   "outputs": [],
   "source": [
    "snow = Cookie()\n",
    "snow.setData(temp=190, taste='눈설탕맛')"
   ]
  },
  {
   "cell_type": "code",
   "execution_count": 8,
   "id": "50757de0",
   "metadata": {},
   "outputs": [
    {
     "name": "stdout",
     "output_type": "stream",
     "text": [
      "190\n",
      "눈설탕맛\n"
     ]
    }
   ],
   "source": [
    "## attribute에 접근하기\n",
    "print(snow.temp)\n",
    "print(snow.taste)"
   ]
  },
  {
   "cell_type": "code",
   "execution_count": 9,
   "id": "1f72493c",
   "metadata": {},
   "outputs": [
    {
     "name": "stdout",
     "output_type": "stream",
     "text": [
      "적당해요\n",
      "눈설탕맛\n"
     ]
    }
   ],
   "source": [
    "# method 사용하기\n",
    "print(snow.checkOvenTemp())\n",
    "print(snow.sayTaste())"
   ]
  },
  {
   "cell_type": "code",
   "execution_count": 10,
   "id": "7a44d7c3",
   "metadata": {},
   "outputs": [
    {
     "name": "stdout",
     "output_type": "stream",
     "text": [
      "200\n",
      "눈설탕맛\n",
      "뜨거워요\n",
      "눈설탕맛\n"
     ]
    }
   ],
   "source": [
    "# setData를 한 번 더 사용해보기!\n",
    "snow.setData(temp=200, taste='눈설탕맛')\n",
    "\n",
    "## attribute에 접근하기 : object.attribute name\n",
    "print(snow.temp)\n",
    "print(snow.taste)\n",
    "\n",
    "# method 사용하기 : object.method name()\n",
    "print(snow.checkOvenTemp())\n",
    "print(snow.sayTaste())"
   ]
  },
  {
   "cell_type": "code",
   "execution_count": 11,
   "id": "c78afb13",
   "metadata": {},
   "outputs": [
    {
     "name": "stdout",
     "output_type": "stream",
     "text": [
      "150\n",
      "딸기맛\n",
      "추워요\n",
      "딸기맛\n"
     ]
    }
   ],
   "source": [
    "# 다른 객체에는 다른 attribute와 다른 method 실행 결과가 나옵니다\n",
    "ddalgi = Cookie()\n",
    "ddalgi.setData(temp=150, taste='딸기맛')\n",
    "\n",
    "## attribute에 접근하기 : object.attribute name\n",
    "print(ddalgi.temp)\n",
    "print(ddalgi.taste)\n",
    "\n",
    "# method 사용하기 : object.method name()\n",
    "print(ddalgi.checkOvenTemp())\n",
    "print(ddalgi.sayTaste())"
   ]
  },
  {
   "cell_type": "code",
   "execution_count": 13,
   "id": "1394f2a7",
   "metadata": {},
   "outputs": [
    {
     "name": "stdout",
     "output_type": "stream",
     "text": [
      "3017879211696\n",
      "3017879209344\n"
     ]
    }
   ],
   "source": [
    "print(id(snow))\n",
    "print(id(ddalgi))\n",
    "# 같은 class로부터 만들었어도 다른 객체가 생성이 된다!"
   ]
  },
  {
   "cell_type": "markdown",
   "id": "b59e613b",
   "metadata": {},
   "source": [
    "## 1-4 Constructor"
   ]
  },
  {
   "cell_type": "code",
   "execution_count": 14,
   "id": "bcca2ae0",
   "metadata": {},
   "outputs": [
    {
     "ename": "AttributeError",
     "evalue": "'Cookie' object has no attribute 'taste'",
     "output_type": "error",
     "traceback": [
      "\u001b[1;31m---------------------------------------------------------------------------\u001b[0m",
      "\u001b[1;31mAttributeError\u001b[0m                            Traceback (most recent call last)",
      "\u001b[1;32m~\\AppData\\Local\\Temp/ipykernel_10756/1133307794.py\u001b[0m in \u001b[0;36m<module>\u001b[1;34m\u001b[0m\n\u001b[0;32m      1\u001b[0m \u001b[0msnow\u001b[0m \u001b[1;33m=\u001b[0m \u001b[0mCookie\u001b[0m\u001b[1;33m(\u001b[0m\u001b[1;33m)\u001b[0m\u001b[1;33m\u001b[0m\u001b[1;33m\u001b[0m\u001b[0m\n\u001b[1;32m----> 2\u001b[1;33m \u001b[0mprint\u001b[0m\u001b[1;33m(\u001b[0m\u001b[0msnow\u001b[0m\u001b[1;33m.\u001b[0m\u001b[0msayTaste\u001b[0m\u001b[1;33m(\u001b[0m\u001b[1;33m)\u001b[0m\u001b[1;33m)\u001b[0m\u001b[1;33m\u001b[0m\u001b[1;33m\u001b[0m\u001b[0m\n\u001b[0m",
      "\u001b[1;32m~\\AppData\\Local\\Temp/ipykernel_10756/1438647785.py\u001b[0m in \u001b[0;36msayTaste\u001b[1;34m(self)\u001b[0m\n\u001b[0;32m     12\u001b[0m             \u001b[1;32mreturn\u001b[0m \u001b[1;34m'추워요'\u001b[0m\u001b[1;33m\u001b[0m\u001b[1;33m\u001b[0m\u001b[0m\n\u001b[0;32m     13\u001b[0m     \u001b[1;32mdef\u001b[0m \u001b[0msayTaste\u001b[0m\u001b[1;33m(\u001b[0m\u001b[0mself\u001b[0m\u001b[1;33m)\u001b[0m\u001b[1;33m:\u001b[0m\u001b[1;33m\u001b[0m\u001b[1;33m\u001b[0m\u001b[0m\n\u001b[1;32m---> 14\u001b[1;33m         \u001b[1;32mreturn\u001b[0m \u001b[0mself\u001b[0m\u001b[1;33m.\u001b[0m\u001b[0mtaste\u001b[0m\u001b[1;33m\u001b[0m\u001b[1;33m\u001b[0m\u001b[0m\n\u001b[0m",
      "\u001b[1;31mAttributeError\u001b[0m: 'Cookie' object has no attribute 'taste'"
     ]
    }
   ],
   "source": [
    "snow = Cookie()\n",
    "print(snow.sayTaste()) # setData 안 해줘서 나는 AttributeError"
   ]
  },
  {
   "cell_type": "code",
   "execution_count": 15,
   "id": "c55c2d41",
   "metadata": {},
   "outputs": [],
   "source": [
    "# 객체를 생성할 때 한 번에 인수들을 할당하도록 해봅시다!\n",
    "# 이 때 사용하는 것이 constructor __init__ 이에요.\n",
    "# class 만들 때 temp, taste 를 넣어주면 자동으로 실행.\n",
    "class Cookie():\n",
    "    def __init__(self, temp, taste):\n",
    "        self.temp = temp\n",
    "        self.taste = taste\n",
    "        # 이 결과, self (object 자기 자신)에 temp, taste를 주렁주렁 매달았음. \n",
    "    def checkOvenTemp(self):\n",
    "        if self.temp == 190:\n",
    "            return '적당해요'\n",
    "        elif self.temp > 190:\n",
    "            return '뜨거워요'\n",
    "        else:\n",
    "            return '추워요'\n",
    "    def sayTaste(self):\n",
    "        return self.taste    "
   ]
  },
  {
   "cell_type": "code",
   "execution_count": 16,
   "id": "7aba5d0b",
   "metadata": {},
   "outputs": [],
   "source": [
    "snow = Cookie(0, '눈설탕맛') # __init__ 이 실행됨!!"
   ]
  },
  {
   "cell_type": "code",
   "execution_count": 17,
   "id": "e400af8a",
   "metadata": {},
   "outputs": [
    {
     "name": "stdout",
     "output_type": "stream",
     "text": [
      "0\n",
      "눈설탕맛\n"
     ]
    }
   ],
   "source": [
    "print(snow.temp)\n",
    "print(snow.taste)"
   ]
  },
  {
   "cell_type": "code",
   "execution_count": 18,
   "id": "96bf6654",
   "metadata": {},
   "outputs": [],
   "source": [
    "# 업그레이드 버전!\n",
    "class Cookie():\n",
    "    def __init__(self, temp, taste):\n",
    "        self.temp = temp\n",
    "        self.taste = taste\n",
    "        # 이 결과, self (object 자기 자신)에 temp, taste를 주렁주렁 매달았음.\n",
    "    def setData(self, temp, taste):\n",
    "        self.temp = temp\n",
    "        self.taste = taste\n",
    "        # 나중에 temp, taste 바꾸고 싶을 때 바꿔줄 수 있음!\n",
    "    def checkOvenTemp(self):\n",
    "        if self.temp == 190:\n",
    "            return '적당해요'\n",
    "        elif self.temp > 190:\n",
    "            return '뜨거워요'\n",
    "        else:\n",
    "            return '추워요'\n",
    "    def sayTaste(self):\n",
    "        return self.taste  "
   ]
  },
  {
   "cell_type": "code",
   "execution_count": 19,
   "id": "44f94d17",
   "metadata": {},
   "outputs": [
    {
     "name": "stdout",
     "output_type": "stream",
     "text": [
      "추워요\n",
      "뜨거워요\n"
     ]
    }
   ],
   "source": [
    "snow = Cookie(0, '눈설탕맛')\n",
    "print(snow.checkOvenTemp())\n",
    "\n",
    "snow.setData(200, '눈설탕맛')\n",
    "print(snow.checkOvenTemp())"
   ]
  },
  {
   "cell_type": "markdown",
   "id": "1b9434a0",
   "metadata": {},
   "source": [
    "## 1-5 Inheritance"
   ]
  },
  {
   "cell_type": "code",
   "execution_count": 20,
   "id": "8f36b6a7",
   "metadata": {},
   "outputs": [],
   "source": [
    "class StrongCookie(Cookie):\n",
    "    def __init__ (self, temp, taste, atk):\n",
    "        self.atk = atk\n",
    "        Cookie.__init__(self, temp, taste)"
   ]
  },
  {
   "cell_type": "code",
   "execution_count": 21,
   "id": "acd3db01",
   "metadata": {},
   "outputs": [],
   "source": [
    "dark = StrongCookie(300, '다크초콜릿맛', 3000)"
   ]
  },
  {
   "cell_type": "code",
   "execution_count": 22,
   "id": "065e7655",
   "metadata": {},
   "outputs": [
    {
     "name": "stdout",
     "output_type": "stream",
     "text": [
      "300\n",
      "다크초콜릿맛\n",
      "3000\n",
      "뜨거워요\n",
      "다크초콜릿맛\n"
     ]
    }
   ],
   "source": [
    "print(dark.temp)\n",
    "print(dark.taste)\n",
    "print(dark.atk)\n",
    "print(dark.checkOvenTemp())\n",
    "print(dark.sayTaste())"
   ]
  },
  {
   "cell_type": "code",
   "execution_count": 23,
   "id": "531baba3",
   "metadata": {},
   "outputs": [],
   "source": [
    "# new method! (추가)\n",
    "class StrongCookie(Cookie):\n",
    "    def __init__ (self, temp, taste, atk):\n",
    "        self.atk = atk\n",
    "        Cookie.__init__(self, temp, taste)\n",
    "    def show_attack(self):\n",
    "        return \"이 쿠키의 공격력은 %d 입니다.\"%self.atk"
   ]
  },
  {
   "cell_type": "code",
   "execution_count": 24,
   "id": "bec45215",
   "metadata": {},
   "outputs": [],
   "source": [
    "dark = StrongCookie(300, '다크초콜릿맛', 3000)"
   ]
  },
  {
   "cell_type": "code",
   "execution_count": 25,
   "id": "32c8271c",
   "metadata": {},
   "outputs": [
    {
     "name": "stdout",
     "output_type": "stream",
     "text": [
      "이 쿠키의 공격력은 3000 입니다.\n"
     ]
    }
   ],
   "source": [
    "print(dark.show_attack())"
   ]
  },
  {
   "cell_type": "code",
   "execution_count": 26,
   "id": "205fd8a2",
   "metadata": {},
   "outputs": [
    {
     "name": "stdout",
     "output_type": "stream",
     "text": [
      "뜨거워요\n"
     ]
    }
   ],
   "source": [
    "print(dark.checkOvenTemp())"
   ]
  },
  {
   "cell_type": "code",
   "execution_count": 27,
   "id": "08c0802c",
   "metadata": {},
   "outputs": [],
   "source": [
    "# method overriding!\n",
    "class StrongCookie(Cookie):\n",
    "    def __init__ (self, temp, taste, atk):\n",
    "        self.atk = atk\n",
    "        Cookie.__init__(self, temp, taste)\n",
    "    def show_attack(self):\n",
    "        return \"이 쿠키의 공격력은 %d 입니다.\"%self.atk\n",
    "    def checkOvenTemp(self):\n",
    "        if self.temp == 300:\n",
    "            return '적당해요'\n",
    "        elif self.temp > 300:\n",
    "            return '뜨거워요'\n",
    "        else:\n",
    "            return '추워요'"
   ]
  },
  {
   "cell_type": "code",
   "execution_count": 28,
   "id": "d830dc19",
   "metadata": {},
   "outputs": [],
   "source": [
    "dark = StrongCookie(300, '다크초콜릿맛', 3000)"
   ]
  },
  {
   "cell_type": "code",
   "execution_count": 29,
   "id": "a18403f0",
   "metadata": {},
   "outputs": [
    {
     "name": "stdout",
     "output_type": "stream",
     "text": [
      "적당해요\n"
     ]
    }
   ],
   "source": [
    "print(dark.checkOvenTemp())"
   ]
  }
 ],
 "metadata": {
  "kernelspec": {
   "display_name": "Python 3 (ipykernel)",
   "language": "python",
   "name": "python3"
  },
  "language_info": {
   "codemirror_mode": {
    "name": "ipython",
    "version": 3
   },
   "file_extension": ".py",
   "mimetype": "text/x-python",
   "name": "python",
   "nbconvert_exporter": "python",
   "pygments_lexer": "ipython3",
   "version": "3.8.5"
  }
 },
 "nbformat": 4,
 "nbformat_minor": 5
}
