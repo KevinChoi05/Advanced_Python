{
 "cells": [
  {
   "cell_type": "markdown",
   "id": "852ff112",
   "metadata": {},
   "source": [
    "# 00 Artificial Neural Network"
   ]
  },
  {
   "cell_type": "code",
   "execution_count": 11,
   "id": "e4e82ca8",
   "metadata": {},
   "outputs": [],
   "source": [
    "import numpy as np\n",
    "\n",
    "def sigmoid(x):\n",
    "    return 1 / (1+np.exp(-x))"
   ]
  },
  {
   "cell_type": "code",
   "execution_count": 12,
   "id": "74042c95",
   "metadata": {},
   "outputs": [
    {
     "data": {
      "text/plain": [
       "(2,)"
      ]
     },
     "execution_count": 12,
     "metadata": {},
     "output_type": "execute_result"
    }
   ],
   "source": [
    "x = np.array([1, 0.5])\n",
    "x.shape"
   ]
  },
  {
   "cell_type": "code",
   "execution_count": 13,
   "id": "c7d8d1af",
   "metadata": {},
   "outputs": [
    {
     "data": {
      "text/plain": [
       "(2, 3)"
      ]
     },
     "execution_count": 13,
     "metadata": {},
     "output_type": "execute_result"
    }
   ],
   "source": [
    "w1 = np.array([[0.1, 0.3, 0.5], [0.2, 0.4, 0.6]])\n",
    "w1.shape"
   ]
  },
  {
   "cell_type": "code",
   "execution_count": 14,
   "id": "c880eb59",
   "metadata": {},
   "outputs": [
    {
     "data": {
      "text/plain": [
       "(3,)"
      ]
     },
     "execution_count": 14,
     "metadata": {},
     "output_type": "execute_result"
    }
   ],
   "source": [
    "np.dot(x, w1).shape"
   ]
  },
  {
   "cell_type": "code",
   "execution_count": 15,
   "id": "9764434f",
   "metadata": {},
   "outputs": [
    {
     "data": {
      "text/plain": [
       "(3,)"
      ]
     },
     "execution_count": 15,
     "metadata": {},
     "output_type": "execute_result"
    }
   ],
   "source": [
    "b1 = np.array([0.1, 0.2, 0.3])\n",
    "b1.shape"
   ]
  },
  {
   "cell_type": "code",
   "execution_count": 16,
   "id": "9aa827b6",
   "metadata": {},
   "outputs": [],
   "source": [
    "a1 = np.dot(x, w1)+b1"
   ]
  },
  {
   "cell_type": "code",
   "execution_count": 17,
   "id": "239cb7a4",
   "metadata": {},
   "outputs": [
    {
     "data": {
      "text/plain": [
       "array([0.3, 0.7, 1.1])"
      ]
     },
     "execution_count": 17,
     "metadata": {},
     "output_type": "execute_result"
    }
   ],
   "source": [
    "a1"
   ]
  },
  {
   "cell_type": "code",
   "execution_count": 52,
   "id": "0cf26f4b",
   "metadata": {},
   "outputs": [],
   "source": [
    "z1 = sigmoid(a1)"
   ]
  },
  {
   "cell_type": "code",
   "execution_count": 53,
   "id": "66bc5f31",
   "metadata": {},
   "outputs": [
    {
     "data": {
      "text/plain": [
       "array([0.57444252, 0.66818777, 0.75026011])"
      ]
     },
     "execution_count": 53,
     "metadata": {},
     "output_type": "execute_result"
    }
   ],
   "source": [
    "z1"
   ]
  },
  {
   "cell_type": "code",
   "execution_count": 55,
   "id": "d37c2c83",
   "metadata": {},
   "outputs": [
    {
     "data": {
      "text/plain": [
       "(3,)"
      ]
     },
     "execution_count": 55,
     "metadata": {},
     "output_type": "execute_result"
    }
   ],
   "source": [
    "z1.shape"
   ]
  },
  {
   "cell_type": "markdown",
   "id": "773f55f9",
   "metadata": {},
   "source": [
    "# second layer"
   ]
  },
  {
   "cell_type": "code",
   "execution_count": 56,
   "id": "252226e1",
   "metadata": {},
   "outputs": [],
   "source": [
    "w2 = np.array([[0.8, 0.32, 0.2, 0.5], [0.6, 0.5, 0.75, 0.95], [0.3, 0.1, 0.35, 0.25]])  \n",
    "b2 = np.array([1.0, 0.8, 0.95, 0.87]) \n"
   ]
  },
  {
   "cell_type": "code",
   "execution_count": 57,
   "id": "e96b079a",
   "metadata": {},
   "outputs": [
    {
     "data": {
      "text/plain": [
       "(4,)"
      ]
     },
     "execution_count": 57,
     "metadata": {},
     "output_type": "execute_result"
    }
   ],
   "source": [
    "b2.shape"
   ]
  },
  {
   "cell_type": "code",
   "execution_count": 58,
   "id": "20281e6f",
   "metadata": {},
   "outputs": [],
   "source": [
    "a2 = np.dot(z1, w2) + b2  # linear combination\n",
    "z2 = sigmoid(a2)  # apply the sigmoid activation function"
   ]
  },
  {
   "cell_type": "markdown",
   "id": "0579a0e3",
   "metadata": {},
   "source": [
    "a2"
   ]
  },
  {
   "cell_type": "code",
   "execution_count": 59,
   "id": "81f6f922",
   "metadata": {},
   "outputs": [
    {
     "data": {
      "text/plain": [
       "array([2.08554471, 1.3929415 , 1.82862037, 1.97956467])"
      ]
     },
     "execution_count": 59,
     "metadata": {},
     "output_type": "execute_result"
    }
   ],
   "source": [
    "a2"
   ]
  },
  {
   "cell_type": "code",
   "execution_count": 60,
   "id": "b20f894f",
   "metadata": {},
   "outputs": [
    {
     "data": {
      "text/plain": [
       "array([0.88949024, 0.80106142, 0.86159729, 0.87863475])"
      ]
     },
     "execution_count": 60,
     "metadata": {},
     "output_type": "execute_result"
    }
   ],
   "source": [
    "z2"
   ]
  },
  {
   "cell_type": "code",
   "execution_count": 116,
   "id": "bac7fa3a",
   "metadata": {},
   "outputs": [],
   "source": [
    "w3 = np.array([[0.1],[0.2],[0.3], [0.4]])\n",
    "b3 = np.array([0.14091 ])"
   ]
  },
  {
   "cell_type": "code",
   "execution_count": 117,
   "id": "40298815",
   "metadata": {},
   "outputs": [
    {
     "data": {
      "text/plain": [
       "(4, 1)"
      ]
     },
     "execution_count": 117,
     "metadata": {},
     "output_type": "execute_result"
    }
   ],
   "source": [
    "w3.shape"
   ]
  },
  {
   "cell_type": "code",
   "execution_count": 118,
   "id": "7b4e033d",
   "metadata": {},
   "outputs": [
    {
     "data": {
      "text/plain": [
       "array([[0.1],\n",
       "       [0.2],\n",
       "       [0.3],\n",
       "       [0.4]])"
      ]
     },
     "execution_count": 118,
     "metadata": {},
     "output_type": "execute_result"
    }
   ],
   "source": [
    "w3"
   ]
  },
  {
   "cell_type": "code",
   "execution_count": 119,
   "id": "3b857870",
   "metadata": {},
   "outputs": [
    {
     "data": {
      "text/plain": [
       "array([0.14091])"
      ]
     },
     "execution_count": 119,
     "metadata": {},
     "output_type": "execute_result"
    }
   ],
   "source": [
    "b3"
   ]
  },
  {
   "cell_type": "code",
   "execution_count": 120,
   "id": "412f7631",
   "metadata": {},
   "outputs": [],
   "source": [
    "a3 = np.dot(z2, w3) + b3"
   ]
  },
  {
   "cell_type": "code",
   "execution_count": 121,
   "id": "20860132",
   "metadata": {},
   "outputs": [
    {
     "name": "stdout",
     "output_type": "stream",
     "text": [
      "[1.0000044]\n"
     ]
    }
   ],
   "source": [
    "print(a3)"
   ]
  },
  {
   "cell_type": "code",
   "execution_count": null,
   "id": "e318fcd2",
   "metadata": {},
   "outputs": [],
   "source": []
  }
 ],
 "metadata": {
  "kernelspec": {
   "display_name": "Python 3 (ipykernel)",
   "language": "python",
   "name": "python3"
  },
  "language_info": {
   "codemirror_mode": {
    "name": "ipython",
    "version": 3
   },
   "file_extension": ".py",
   "mimetype": "text/x-python",
   "name": "python",
   "nbconvert_exporter": "python",
   "pygments_lexer": "ipython3",
   "version": "3.11.1"
  }
 },
 "nbformat": 4,
 "nbformat_minor": 5
}
