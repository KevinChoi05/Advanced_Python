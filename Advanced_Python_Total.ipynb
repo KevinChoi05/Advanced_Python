{
 "cells": [
  {
   "cell_type": "markdown",
   "id": "1e58d17a",
   "metadata": {},
   "source": [
    "# Advanced_Python_week_01"
   ]
  },
  {
   "cell_type": "code",
   "execution_count": 151,
   "id": "3350a959",
   "metadata": {},
   "outputs": [],
   "source": [
    "import numpy as np\n",
    "import pandas as pd"
   ]
  },
  {
   "cell_type": "code",
   "execution_count": 152,
   "id": "3d3a6bbb",
   "metadata": {},
   "outputs": [],
   "source": [
    "from sklearn.datasets import load_iris"
   ]
  },
  {
   "cell_type": "code",
   "execution_count": 153,
   "id": "56331d65",
   "metadata": {},
   "outputs": [],
   "source": [
    "import matplotlib.pyplot as plt"
   ]
  },
  {
   "cell_type": "code",
   "execution_count": 154,
   "id": "e990b268",
   "metadata": {},
   "outputs": [],
   "source": [
    "iris = load_iris()"
   ]
  },
  {
   "cell_type": "code",
   "execution_count": 155,
   "id": "ad94bedd",
   "metadata": {},
   "outputs": [
    {
     "data": {
      "text/plain": [
       "dict_keys(['data', 'target', 'frame', 'target_names', 'DESCR', 'feature_names', 'filename', 'data_module'])"
      ]
     },
     "execution_count": 155,
     "metadata": {},
     "output_type": "execute_result"
    }
   ],
   "source": [
    "iris.keys()\n"
   ]
  },
  {
   "cell_type": "code",
   "execution_count": 156,
   "id": "35631052",
   "metadata": {},
   "outputs": [],
   "source": [
    "features = iris['data']\n",
    "label = iris['target']\n",
    "feature_names = iris['feature_names']"
   ]
  },
  {
   "cell_type": "code",
   "execution_count": 157,
   "id": "0b288e58",
   "metadata": {},
   "outputs": [
    {
     "data": {
      "text/html": [
       "<div>\n",
       "<style scoped>\n",
       "    .dataframe tbody tr th:only-of-type {\n",
       "        vertical-align: middle;\n",
       "    }\n",
       "\n",
       "    .dataframe tbody tr th {\n",
       "        vertical-align: top;\n",
       "    }\n",
       "\n",
       "    .dataframe thead th {\n",
       "        text-align: right;\n",
       "    }\n",
       "</style>\n",
       "<table border=\"1\" class=\"dataframe\">\n",
       "  <thead>\n",
       "    <tr style=\"text-align: right;\">\n",
       "      <th></th>\n",
       "      <th>sepal length (cm)</th>\n",
       "      <th>sepal width (cm)</th>\n",
       "      <th>petal length (cm)</th>\n",
       "      <th>petal width (cm)</th>\n",
       "    </tr>\n",
       "  </thead>\n",
       "  <tbody>\n",
       "    <tr>\n",
       "      <th>0</th>\n",
       "      <td>5.1</td>\n",
       "      <td>3.5</td>\n",
       "      <td>1.4</td>\n",
       "      <td>0.2</td>\n",
       "    </tr>\n",
       "    <tr>\n",
       "      <th>1</th>\n",
       "      <td>4.9</td>\n",
       "      <td>3.0</td>\n",
       "      <td>1.4</td>\n",
       "      <td>0.2</td>\n",
       "    </tr>\n",
       "    <tr>\n",
       "      <th>2</th>\n",
       "      <td>4.7</td>\n",
       "      <td>3.2</td>\n",
       "      <td>1.3</td>\n",
       "      <td>0.2</td>\n",
       "    </tr>\n",
       "  </tbody>\n",
       "</table>\n",
       "</div>"
      ],
      "text/plain": [
       "   sepal length (cm)  sepal width (cm)  petal length (cm)  petal width (cm)\n",
       "0                5.1               3.5                1.4               0.2\n",
       "1                4.9               3.0                1.4               0.2\n",
       "2                4.7               3.2                1.3               0.2"
      ]
     },
     "execution_count": 157,
     "metadata": {},
     "output_type": "execute_result"
    }
   ],
   "source": [
    "df = pd.DataFrame(features, columns=feature_names)\n",
    "df.head(3)"
   ]
  },
  {
   "cell_type": "code",
   "execution_count": 158,
   "id": "e1501776",
   "metadata": {},
   "outputs": [],
   "source": [
    "df['target'] = label"
   ]
  },
  {
   "cell_type": "code",
   "execution_count": 159,
   "id": "3e4e21c2",
   "metadata": {},
   "outputs": [
    {
     "data": {
      "text/html": [
       "<div>\n",
       "<style scoped>\n",
       "    .dataframe tbody tr th:only-of-type {\n",
       "        vertical-align: middle;\n",
       "    }\n",
       "\n",
       "    .dataframe tbody tr th {\n",
       "        vertical-align: top;\n",
       "    }\n",
       "\n",
       "    .dataframe thead th {\n",
       "        text-align: right;\n",
       "    }\n",
       "</style>\n",
       "<table border=\"1\" class=\"dataframe\">\n",
       "  <thead>\n",
       "    <tr style=\"text-align: right;\">\n",
       "      <th></th>\n",
       "      <th>sepal length (cm)</th>\n",
       "      <th>sepal width (cm)</th>\n",
       "      <th>petal length (cm)</th>\n",
       "      <th>petal width (cm)</th>\n",
       "      <th>target</th>\n",
       "    </tr>\n",
       "  </thead>\n",
       "  <tbody>\n",
       "    <tr>\n",
       "      <th>count</th>\n",
       "      <td>150.000000</td>\n",
       "      <td>150.000000</td>\n",
       "      <td>150.000000</td>\n",
       "      <td>150.000000</td>\n",
       "      <td>150.000000</td>\n",
       "    </tr>\n",
       "    <tr>\n",
       "      <th>mean</th>\n",
       "      <td>5.843333</td>\n",
       "      <td>3.057333</td>\n",
       "      <td>3.758000</td>\n",
       "      <td>1.199333</td>\n",
       "      <td>1.000000</td>\n",
       "    </tr>\n",
       "    <tr>\n",
       "      <th>std</th>\n",
       "      <td>0.828066</td>\n",
       "      <td>0.435866</td>\n",
       "      <td>1.765298</td>\n",
       "      <td>0.762238</td>\n",
       "      <td>0.819232</td>\n",
       "    </tr>\n",
       "    <tr>\n",
       "      <th>min</th>\n",
       "      <td>4.300000</td>\n",
       "      <td>2.000000</td>\n",
       "      <td>1.000000</td>\n",
       "      <td>0.100000</td>\n",
       "      <td>0.000000</td>\n",
       "    </tr>\n",
       "    <tr>\n",
       "      <th>25%</th>\n",
       "      <td>5.100000</td>\n",
       "      <td>2.800000</td>\n",
       "      <td>1.600000</td>\n",
       "      <td>0.300000</td>\n",
       "      <td>0.000000</td>\n",
       "    </tr>\n",
       "    <tr>\n",
       "      <th>50%</th>\n",
       "      <td>5.800000</td>\n",
       "      <td>3.000000</td>\n",
       "      <td>4.350000</td>\n",
       "      <td>1.300000</td>\n",
       "      <td>1.000000</td>\n",
       "    </tr>\n",
       "    <tr>\n",
       "      <th>75%</th>\n",
       "      <td>6.400000</td>\n",
       "      <td>3.300000</td>\n",
       "      <td>5.100000</td>\n",
       "      <td>1.800000</td>\n",
       "      <td>2.000000</td>\n",
       "    </tr>\n",
       "    <tr>\n",
       "      <th>max</th>\n",
       "      <td>7.900000</td>\n",
       "      <td>4.400000</td>\n",
       "      <td>6.900000</td>\n",
       "      <td>2.500000</td>\n",
       "      <td>2.000000</td>\n",
       "    </tr>\n",
       "  </tbody>\n",
       "</table>\n",
       "</div>"
      ],
      "text/plain": [
       "       sepal length (cm)  sepal width (cm)  petal length (cm)  \\\n",
       "count         150.000000        150.000000         150.000000   \n",
       "mean            5.843333          3.057333           3.758000   \n",
       "std             0.828066          0.435866           1.765298   \n",
       "min             4.300000          2.000000           1.000000   \n",
       "25%             5.100000          2.800000           1.600000   \n",
       "50%             5.800000          3.000000           4.350000   \n",
       "75%             6.400000          3.300000           5.100000   \n",
       "max             7.900000          4.400000           6.900000   \n",
       "\n",
       "       petal width (cm)      target  \n",
       "count        150.000000  150.000000  \n",
       "mean           1.199333    1.000000  \n",
       "std            0.762238    0.819232  \n",
       "min            0.100000    0.000000  \n",
       "25%            0.300000    0.000000  \n",
       "50%            1.300000    1.000000  \n",
       "75%            1.800000    2.000000  \n",
       "max            2.500000    2.000000  "
      ]
     },
     "execution_count": 159,
     "metadata": {},
     "output_type": "execute_result"
    }
   ],
   "source": [
    "df.describe()"
   ]
  },
  {
   "cell_type": "code",
   "execution_count": 160,
   "id": "05501c2d",
   "metadata": {},
   "outputs": [],
   "source": [
    "df0 = df[df['target']==0]\n",
    "df1 = df[df['target']==1]\n",
    "df2 = df[df['target']==2]"
   ]
  },
  {
   "cell_type": "markdown",
   "id": "871425c6",
   "metadata": {},
   "source": [
    "# (1)Histogram"
   ]
  },
  {
   "cell_type": "code",
   "execution_count": 161,
   "id": "9312a2de",
   "metadata": {},
   "outputs": [
    {
     "data": {
      "image/png": "[encoded data removed]",
      "text/plain": [
       "<Figure size 600x400 with 1 Axes>"
      ]
     },
     "metadata": {},
     "output_type": "display_data"
    }
   ],
   "source": [
    "plt.figure(figsize=(6,4))\n",
    "plt.hist(df0['sepal length (cm)'])\n",
    "plt.title('Sepal length (cm) of Iris Setosa')\n",
    "plt.show()"
   ]
  },
  {
   "cell_type": "markdown",
   "id": "8a075287",
   "metadata": {},
   "source": [
    "# (2) line graph"
   ]
  },
  {
   "cell_type": "code",
   "execution_count": 162,
   "id": "594270eb",
   "metadata": {},
   "outputs": [
    {
     "data": {
      "image/png": "[encoded data removed]",
      "text/plain": [
       "<Figure size 600x400 with 1 Axes>"
      ]
     },
     "metadata": {},
     "output_type": "display_data"
    }
   ],
   "source": [
    "plt.figure(figsize=(6,4))\n",
    "plt.plot(df0['sepal length (cm)'])\n",
    "plt.title('Line graph of sepal length of Iris Setosa')\n",
    "plt.show()"
   ]
  },
  {
   "cell_type": "markdown",
   "id": "d72300c4",
   "metadata": {},
   "source": [
    "# (3) bar graph"
   ]
  },
  {
   "cell_type": "code",
   "execution_count": 163,
   "id": "60dce4d4",
   "metadata": {},
   "outputs": [
    {
     "data": {
      "image/png": "[encoded data removed]",
      "text/plain": [
       "<Figure size 600x400 with 1 Axes>"
      ]
     },
     "metadata": {},
     "output_type": "display_data"
    }
   ],
   "source": [
    "x = np.arange(len(df0)) # bar graph의 x값을 넣어줘야 해서 만들어봤어요.\n",
    "plt.figure(figsize=(6,4))\n",
    "plt.bar(x, df0['sepal length (cm)'])\n",
    "plt.title('bar graph of sepal length of iris setosa')\n",
    "plt.show()"
   ]
  },
  {
   "cell_type": "markdown",
   "id": "38064e99",
   "metadata": {},
   "source": [
    "# (4) box plot"
   ]
  },
  {
   "cell_type": "code",
   "execution_count": 164,
   "id": "d997c837",
   "metadata": {},
   "outputs": [
    {
     "data": {
      "text/plain": [
       "<Figure size 600x400 with 0 Axes>"
      ]
     },
     "metadata": {},
     "output_type": "display_data"
    },
    {
     "data": {
      "image/png": "[encoded data removed]",
      "text/plain": [
       "<Figure size 640x480 with 1 Axes>"
      ]
     },
     "metadata": {},
     "output_type": "display_data"
    }
   ],
   "source": [
    "plt.figure(figsize=(6,4))\n",
    "fig, ax = plt.subplots()\n",
    "ax.boxplot(df0['sepal length (cm)'])\n",
    "plt.title('boxplot of sepal length of iris setosa')\n",
    "plt.show()"
   ]
  },
  {
   "cell_type": "markdown",
   "id": "8dd1c457",
   "metadata": {},
   "source": [
    "# Advanced_Python_week_02"
   ]
  },
  {
   "cell_type": "code",
   "execution_count": 165,
   "id": "3f0fe979",
   "metadata": {},
   "outputs": [],
   "source": [
    "import matplotlib.pyplot as plt\n",
    "import seaborn as sns"
   ]
  },
  {
   "cell_type": "markdown",
   "id": "d6cfd6b6",
   "metadata": {},
   "source": [
    "# (1) Pie Chart"
   ]
  },
  {
   "cell_type": "code",
   "execution_count": 166,
   "id": "b120e4b4",
   "metadata": {},
   "outputs": [
    {
     "data": {
      "image/png": "[encoded data removed]",
      "text/plain": [
       "<Figure size 600x400 with 1 Axes>"
      ]
     },
     "metadata": {},
     "output_type": "display_data"
    }
   ],
   "source": [
    "plt.figure(figsize=(6,4))\n",
    "ratio = [len(df0), len(df1), len(df2)]\n",
    "labels =['setosa', 'versicolor', 'virginica']\n",
    "plt.pie(ratio, labels = labels, autopct ='%.1f%%')\n",
    "plt.title('Pie chart among three types of iris')\n",
    "plt.legend(loc ='best', bbox_to_anchor=(1,1))\n",
    "plt.show()"
   ]
  },
  {
   "cell_type": "markdown",
   "id": "863494ad",
   "metadata": {},
   "source": [
    "# (2)box plot"
   ]
  },
  {
   "cell_type": "code",
   "execution_count": 167,
   "id": "da064aa7",
   "metadata": {},
   "outputs": [
    {
     "data": {
      "text/plain": [
       "<Figure size 600x400 with 0 Axes>"
      ]
     },
     "metadata": {},
     "output_type": "display_data"
    },
    {
     "data": {
      "image/png": "[encoded data removed]",
      "text/plain": [
       "<Figure size 640x480 with 1 Axes>"
      ]
     },
     "metadata": {},
     "output_type": "display_data"
    }
   ],
   "source": [
    "plt.figure(figsize = (6,4))\n",
    "fig, ax = plt.subplots()\n",
    "ax.boxplot([df0['sepal length (cm)'], df1['sepal length (cm)'],df2['sepal length (cm)']])\n",
    "plt.xticks([1,2,3], ['sepal length of Setosa', 'sepal length of Versicolor', 'sepal length of virginica'])\n",
    "plt.title('box plot among three types of iris')\n",
    "plt.tight_layout()\n",
    "plt.show()"
   ]
  },
  {
   "cell_type": "markdown",
   "id": "79f3d561",
   "metadata": {},
   "source": [
    "# (3) Scatter Plot"
   ]
  },
  {
   "cell_type": "code",
   "execution_count": 168,
   "id": "a55b2c07",
   "metadata": {},
   "outputs": [
    {
     "data": {
      "image/png": "[encoded data removed]",
      "text/plain": [
       "<Figure size 1000x800 with 1 Axes>"
      ]
     },
     "metadata": {},
     "output_type": "display_data"
    }
   ],
   "source": [
    "plt.figure(figsize=(10,8))\n",
    "sns.scatterplot(data=df, x='sepal length (cm)', y='sepal width (cm)', hue = df['target'], palette = 'muted')\n",
    "plt.title('scatterplot of sepal length and sepal width')\n",
    "plt.show()"
   ]
  },
  {
   "cell_type": "markdown",
   "id": "b525d4d9",
   "metadata": {},
   "source": [
    "# (4)Histogram"
   ]
  },
  {
   "cell_type": "code",
   "execution_count": 169,
   "id": "c0224be5",
   "metadata": {},
   "outputs": [
    {
     "data": {
      "image/png": "[encoded data removed]",
      "text/plain": [
       "<Figure size 600x400 with 1 Axes>"
      ]
     },
     "metadata": {},
     "output_type": "display_data"
    }
   ],
   "source": [
    "plt.figure(figsize=(6,4))\n",
    "plt.hist(df0['sepal length (cm)'], alpha = 0.5, label = 'Setosa')\n",
    "plt.hist(df1['sepal length (cm)'], alpha = 0.5, label = 'Versicolor')\n",
    "plt.hist(df2['sepal length (cm)'], alpha = 0.5, label = 'Virginica')\n",
    "plt.title('Historgram of sepal legth of three types of iris')\n",
    "plt.legend()\n",
    "plt.show()"
   ]
  },
  {
   "cell_type": "markdown",
   "id": "99e5bf14",
   "metadata": {},
   "source": [
    "# Advanced_Python_week_03"
   ]
  },
  {
   "cell_type": "markdown",
   "id": "1f96e33f",
   "metadata": {},
   "source": [
    "# 01 Correlation Analysis"
   ]
  },
  {
   "cell_type": "code",
   "execution_count": 170,
   "id": "b242c356",
   "metadata": {},
   "outputs": [
    {
     "data": {
      "image/png": "[encoded data removed]",
      "text/plain": [
       "<Figure size 600x600 with 1 Axes>"
      ]
     },
     "metadata": {},
     "output_type": "display_data"
    },
    {
     "data": {
      "image/png": "[encoded data removed]",
      "text/plain": [
       "<Figure size 600x400 with 1 Axes>"
      ]
     },
     "metadata": {},
     "output_type": "display_data"
    }
   ],
   "source": [
    "plt.figure(figsize=(6,6))\n",
    "sns.scatterplot(data=df, x='sepal length (cm)', y='sepal width (cm)',\n",
    "                hue=df['target'], palette='muted')\n",
    "plt.title('sepal length ~ sepal width')\n",
    "plt.show()\n",
    "plt.figure(figsize=(6,4))\n",
    "sns.scatterplot(data=df, x='petal length (cm)', y='petal width (cm)',\n",
    "                hue=df['target'], palette='muted')\n",
    "plt.title('petal length ~ petal width')\n",
    "plt.show()"
   ]
  },
  {
   "cell_type": "markdown",
   "id": "2843b053",
   "metadata": {},
   "source": [
    "# Pearson correlation"
   ]
  },
  {
   "cell_type": "markdown",
   "id": "1819dac2",
   "metadata": {},
   "source": [
    "(1) scipy"
   ]
  },
  {
   "cell_type": "code",
   "execution_count": 171,
   "id": "5f2f3c16",
   "metadata": {},
   "outputs": [],
   "source": [
    "from scipy.stats import pearsonr"
   ]
  },
  {
   "cell_type": "code",
   "execution_count": 172,
   "id": "53f1cc97",
   "metadata": {},
   "outputs": [
    {
     "data": {
      "text/plain": [
       "PearsonRResult(statistic=-0.11756978413300195, pvalue=0.15189826071144857)"
      ]
     },
     "execution_count": 172,
     "metadata": {},
     "output_type": "execute_result"
    }
   ],
   "source": [
    "# sepal length ~ sepal width\n",
    "pearsonr(df['sepal length (cm)'], df['sepal width (cm)'])"
   ]
  },
  {
   "cell_type": "code",
   "execution_count": 173,
   "id": "e64d9f61",
   "metadata": {},
   "outputs": [
    {
     "data": {
      "text/plain": [
       "PearsonRResult(statistic=0.9628654314027969, pvalue=4.6750039073204644e-86)"
      ]
     },
     "execution_count": 173,
     "metadata": {},
     "output_type": "execute_result"
    }
   ],
   "source": [
    "# petal length ~ petal width\n",
    "pearsonr(df['petal length (cm)'], df['petal width (cm)'])"
   ]
  },
  {
   "cell_type": "markdown",
   "id": "700082ab",
   "metadata": {},
   "source": [
    "(2) numpy"
   ]
  },
  {
   "cell_type": "code",
   "execution_count": 174,
   "id": "702caae5",
   "metadata": {},
   "outputs": [
    {
     "data": {
      "text/plain": [
       "-0.11756978413300198"
      ]
     },
     "execution_count": 174,
     "metadata": {},
     "output_type": "execute_result"
    }
   ],
   "source": [
    "# sepal length ~ sepal width\n",
    "np.corrcoef(df['sepal length (cm)'], df['sepal width (cm)'])[0][1]"
   ]
  },
  {
   "cell_type": "code",
   "execution_count": 175,
   "id": "34664f6d",
   "metadata": {},
   "outputs": [
    {
     "data": {
      "text/plain": [
       "0.9628654314027963"
      ]
     },
     "execution_count": 175,
     "metadata": {},
     "output_type": "execute_result"
    }
   ],
   "source": [
    "# petal length ~ petal width\n",
    "np.corrcoef(df['petal length (cm)'], df['petal width (cm)'])[0][1]"
   ]
  },
  {
   "cell_type": "markdown",
   "id": "fcb9596c",
   "metadata": {},
   "source": [
    "(3) pandas"
   ]
  },
  {
   "cell_type": "code",
   "execution_count": 176,
   "id": "e107aaef",
   "metadata": {},
   "outputs": [
    {
     "data": {
      "text/html": [
       "<div>\n",
       "<style scoped>\n",
       "    .dataframe tbody tr th:only-of-type {\n",
       "        vertical-align: middle;\n",
       "    }\n",
       "\n",
       "    .dataframe tbody tr th {\n",
       "        vertical-align: top;\n",
       "    }\n",
       "\n",
       "    .dataframe thead th {\n",
       "        text-align: right;\n",
       "    }\n",
       "</style>\n",
       "<table border=\"1\" class=\"dataframe\">\n",
       "  <thead>\n",
       "    <tr style=\"text-align: right;\">\n",
       "      <th></th>\n",
       "      <th>sepal length (cm)</th>\n",
       "      <th>sepal width (cm)</th>\n",
       "    </tr>\n",
       "  </thead>\n",
       "  <tbody>\n",
       "    <tr>\n",
       "      <th>sepal length (cm)</th>\n",
       "      <td>1.00000</td>\n",
       "      <td>-0.11757</td>\n",
       "    </tr>\n",
       "    <tr>\n",
       "      <th>sepal width (cm)</th>\n",
       "      <td>-0.11757</td>\n",
       "      <td>1.00000</td>\n",
       "    </tr>\n",
       "  </tbody>\n",
       "</table>\n",
       "</div>"
      ],
      "text/plain": [
       "                   sepal length (cm)  sepal width (cm)\n",
       "sepal length (cm)            1.00000          -0.11757\n",
       "sepal width (cm)            -0.11757           1.00000"
      ]
     },
     "execution_count": 176,
     "metadata": {},
     "output_type": "execute_result"
    }
   ],
   "source": [
    "# iloc (index로 location)\n",
    "df_sepal = df.iloc[:, :2]\n",
    "df_sepal.corr(method='pearson')"
   ]
  },
  {
   "cell_type": "code",
   "execution_count": 177,
   "id": "4e25e313",
   "metadata": {},
   "outputs": [
    {
     "data": {
      "text/html": [
       "<div>\n",
       "<style scoped>\n",
       "    .dataframe tbody tr th:only-of-type {\n",
       "        vertical-align: middle;\n",
       "    }\n",
       "\n",
       "    .dataframe tbody tr th {\n",
       "        vertical-align: top;\n",
       "    }\n",
       "\n",
       "    .dataframe thead th {\n",
       "        text-align: right;\n",
       "    }\n",
       "</style>\n",
       "<table border=\"1\" class=\"dataframe\">\n",
       "  <thead>\n",
       "    <tr style=\"text-align: right;\">\n",
       "      <th></th>\n",
       "      <th>petal length (cm)</th>\n",
       "      <th>petal width (cm)</th>\n",
       "    </tr>\n",
       "  </thead>\n",
       "  <tbody>\n",
       "    <tr>\n",
       "      <th>petal length (cm)</th>\n",
       "      <td>1.000000</td>\n",
       "      <td>0.962865</td>\n",
       "    </tr>\n",
       "    <tr>\n",
       "      <th>petal width (cm)</th>\n",
       "      <td>0.962865</td>\n",
       "      <td>1.000000</td>\n",
       "    </tr>\n",
       "  </tbody>\n",
       "</table>\n",
       "</div>"
      ],
      "text/plain": [
       "                   petal length (cm)  petal width (cm)\n",
       "petal length (cm)           1.000000          0.962865\n",
       "petal width (cm)            0.962865          1.000000"
      ]
     },
     "execution_count": 177,
     "metadata": {},
     "output_type": "execute_result"
    }
   ],
   "source": [
    "df_petal = df.iloc[:, 2:4]\n",
    "df_petal.corr(method='pearson')"
   ]
  },
  {
   "cell_type": "markdown",
   "id": "99a428b8",
   "metadata": {},
   "source": [
    "# Spearman Correlation"
   ]
  },
  {
   "cell_type": "markdown",
   "id": "27ff237e",
   "metadata": {},
   "source": [
    " (1) scipy"
   ]
  },
  {
   "cell_type": "code",
   "execution_count": 178,
   "id": "d434cc78",
   "metadata": {},
   "outputs": [],
   "source": [
    "from scipy.stats import spearmanr"
   ]
  },
  {
   "cell_type": "code",
   "execution_count": 179,
   "id": "7e03dca5",
   "metadata": {},
   "outputs": [
    {
     "data": {
      "text/plain": [
       "SignificanceResult(statistic=-0.166777658283235, pvalue=0.04136799424884587)"
      ]
     },
     "execution_count": 179,
     "metadata": {},
     "output_type": "execute_result"
    }
   ],
   "source": [
    "# sepal length ~ sepal width\n",
    "spearmanr(df['sepal length (cm)'], df['sepal width (cm)'])"
   ]
  },
  {
   "cell_type": "code",
   "execution_count": 180,
   "id": "e291d6b1",
   "metadata": {},
   "outputs": [
    {
     "data": {
      "text/plain": [
       "SignificanceResult(statistic=0.9376668235763412, pvalue=8.156596854126675e-70)"
      ]
     },
     "execution_count": 180,
     "metadata": {},
     "output_type": "execute_result"
    }
   ],
   "source": [
    "# petal length ~ petal width\n",
    "spearmanr(df['petal length (cm)'], df['petal width (cm)'])"
   ]
  },
  {
   "cell_type": "markdown",
   "id": "a6c9f83f",
   "metadata": {},
   "source": [
    " (2) pandas"
   ]
  },
  {
   "cell_type": "code",
   "execution_count": 181,
   "id": "11cd2f07",
   "metadata": {},
   "outputs": [
    {
     "data": {
      "text/html": [
       "<div>\n",
       "<style scoped>\n",
       "    .dataframe tbody tr th:only-of-type {\n",
       "        vertical-align: middle;\n",
       "    }\n",
       "\n",
       "    .dataframe tbody tr th {\n",
       "        vertical-align: top;\n",
       "    }\n",
       "\n",
       "    .dataframe thead th {\n",
       "        text-align: right;\n",
       "    }\n",
       "</style>\n",
       "<table border=\"1\" class=\"dataframe\">\n",
       "  <thead>\n",
       "    <tr style=\"text-align: right;\">\n",
       "      <th></th>\n",
       "      <th>sepal length (cm)</th>\n",
       "      <th>sepal width (cm)</th>\n",
       "    </tr>\n",
       "  </thead>\n",
       "  <tbody>\n",
       "    <tr>\n",
       "      <th>sepal length (cm)</th>\n",
       "      <td>1.000000</td>\n",
       "      <td>-0.166778</td>\n",
       "    </tr>\n",
       "    <tr>\n",
       "      <th>sepal width (cm)</th>\n",
       "      <td>-0.166778</td>\n",
       "      <td>1.000000</td>\n",
       "    </tr>\n",
       "  </tbody>\n",
       "</table>\n",
       "</div>"
      ],
      "text/plain": [
       "                   sepal length (cm)  sepal width (cm)\n",
       "sepal length (cm)           1.000000         -0.166778\n",
       "sepal width (cm)           -0.166778          1.000000"
      ]
     },
     "execution_count": 181,
     "metadata": {},
     "output_type": "execute_result"
    }
   ],
   "source": [
    "df_sepal.corr(method='spearman')"
   ]
  },
  {
   "cell_type": "code",
   "execution_count": 182,
   "id": "e69093df",
   "metadata": {},
   "outputs": [
    {
     "data": {
      "text/html": [
       "<div>\n",
       "<style scoped>\n",
       "    .dataframe tbody tr th:only-of-type {\n",
       "        vertical-align: middle;\n",
       "    }\n",
       "\n",
       "    .dataframe tbody tr th {\n",
       "        vertical-align: top;\n",
       "    }\n",
       "\n",
       "    .dataframe thead th {\n",
       "        text-align: right;\n",
       "    }\n",
       "</style>\n",
       "<table border=\"1\" class=\"dataframe\">\n",
       "  <thead>\n",
       "    <tr style=\"text-align: right;\">\n",
       "      <th></th>\n",
       "      <th>petal length (cm)</th>\n",
       "      <th>petal width (cm)</th>\n",
       "    </tr>\n",
       "  </thead>\n",
       "  <tbody>\n",
       "    <tr>\n",
       "      <th>petal length (cm)</th>\n",
       "      <td>1.000000</td>\n",
       "      <td>0.937667</td>\n",
       "    </tr>\n",
       "    <tr>\n",
       "      <th>petal width (cm)</th>\n",
       "      <td>0.937667</td>\n",
       "      <td>1.000000</td>\n",
       "    </tr>\n",
       "  </tbody>\n",
       "</table>\n",
       "</div>"
      ],
      "text/plain": [
       "                   petal length (cm)  petal width (cm)\n",
       "petal length (cm)           1.000000          0.937667\n",
       "petal width (cm)            0.937667          1.000000"
      ]
     },
     "execution_count": 182,
     "metadata": {},
     "output_type": "execute_result"
    }
   ],
   "source": [
    "df_petal.corr(method='spearman')"
   ]
  },
  {
   "cell_type": "markdown",
   "id": "68d0ce9b",
   "metadata": {},
   "source": [
    "# Normality Test"
   ]
  },
  {
   "cell_type": "code",
   "execution_count": 183,
   "id": "11640dde",
   "metadata": {},
   "outputs": [],
   "source": [
    "# Crafting data\n",
    "rand_normal = np.random.normal(loc=1, scale=2, size=1000)\n",
    "rand_uniform = np.random.uniform(low=0, high=2, size=1000)\n",
    "rand_f = np.random.f(dfnum=10, dfden=10, size=1000)"
   ]
  },
  {
   "cell_type": "code",
   "execution_count": 184,
   "id": "7d883d6d",
   "metadata": {},
   "outputs": [
    {
     "data": {
      "image/png": "[encoded data removed]",
      "text/plain": [
       "<Figure size 1000x500 with 1 Axes>"
      ]
     },
     "metadata": {},
     "output_type": "display_data"
    }
   ],
   "source": [
    "#data plotting\n",
    "plt.figure(figsize=(10,5))\n",
    "sns.kdeplot(data=rand_normal, color='red', fill=True)\n",
    "sns.kdeplot(data=rand_uniform, color='green', fill=True)\n",
    "sns.kdeplot(data=rand_f, color='blue', fill=True)\n",
    "\n",
    "plt.show()"
   ]
  },
  {
   "cell_type": "markdown",
   "id": "dafe1802",
   "metadata": {},
   "source": [
    "# QQplot"
   ]
  },
  {
   "cell_type": "code",
   "execution_count": 185,
   "id": "bcdc13a5",
   "metadata": {},
   "outputs": [],
   "source": [
    "import scipy.stats as stats"
   ]
  },
  {
   "cell_type": "code",
   "execution_count": 186,
   "id": "d263e594",
   "metadata": {},
   "outputs": [
    {
     "name": "stderr",
     "output_type": "stream",
     "text": [
      "/var/folders/yz/0g34_v5d6dq2n08tpswpb8sw0000gn/T/ipykernel_83653/3278245815.py:11: UserWarning: \n",
      "\n",
      "`distplot` is a deprecated function and will be removed in seaborn v0.14.0.\n",
      "\n",
      "Please adapt your code to use either `displot` (a figure-level function with\n",
      "similar flexibility) or `histplot` (an axes-level function for histograms).\n",
      "\n",
      "For a guide to updating your code to use the new functions, please see\n",
      "https://gist.github.com/mwaskom/de44147ed2974457ad6372750bbe5751\n",
      "\n",
      "  sns.distplot(ax=ax2, a=rand_uniform, color='red', label = 'uniform distribution')\n"
     ]
    },
    {
     "data": {
      "image/png": "[encoded data removed]",
      "text/plain": [
       "<Figure size 1000x500 with 2 Axes>"
      ]
     },
     "metadata": {},
     "output_type": "display_data"
    }
   ],
   "source": [
    "fig = plt.figure(figsize=(10,5))\n",
    "ax1 = fig.add_subplot(1, 2, 1)\n",
    "ax2 = fig.add_subplot(1, 2, 2)\n",
    "\n",
    "## QQ plot\n",
    "stats.probplot(rand_uniform, dist=stats.norm, plot=ax1)\n",
    "\n",
    "## normal distribution vs. uniform distribution\n",
    "\n",
    "# uniform distribution\n",
    "sns.distplot(ax=ax2, a=rand_uniform, color='red', label = 'uniform distribution')\n",
    "\n",
    "# normal distribution\n",
    "mu = rand_uniform.mean() # average\n",
    "variance = rand_uniform.var()\n",
    "std = variance**0.5\n",
    "\n",
    "x = np.linspace(mu-3*std, mu+3*std, 1000)\n",
    "ax2.plot(x, stats.norm.pdf(x, mu, std), label = 'normal distribution')\n",
    "\n",
    "ax2.legend()\n",
    "\n",
    "plt.show()"
   ]
  },
  {
   "cell_type": "markdown",
   "id": "47281fd8",
   "metadata": {},
   "source": [
    "# Kolmogorov-Sminorv Test"
   ]
  },
  {
   "cell_type": "code",
   "execution_count": 187,
   "id": "dcdd2b86",
   "metadata": {},
   "outputs": [],
   "source": [
    "#-H0 (null hypothesis): The sample follows a normal distribution\n",
    "\n",
    "#-If the KS test yields a p-value less than 0.05, we reject H0, \n",
    "#indicating that the sample does not follow a normal distribution.\n",
    "\n",
    "#-If the KS test yields a p-value greater than 0.05, we fail to reject H0,\n",
    "#indicating that the sample follows a normal distribution."
   ]
  },
  {
   "cell_type": "code",
   "execution_count": 188,
   "id": "d8e76cfc",
   "metadata": {},
   "outputs": [
    {
     "data": {
      "text/plain": [
       "KstestResult(statistic=0.027760596483648814, pvalue=0.4164931268503388, statistic_location=1.0419462610934356, statistic_sign=1)"
      ]
     },
     "execution_count": 188,
     "metadata": {},
     "output_type": "execute_result"
    }
   ],
   "source": [
    "stats.kstest(rand_normal, 'norm', args=(rand_normal.mean(), rand_normal.var()**0.5))"
   ]
  },
  {
   "cell_type": "code",
   "execution_count": 189,
   "id": "f2470a41",
   "metadata": {},
   "outputs": [
    {
     "data": {
      "text/plain": [
       "KstestResult(statistic=0.0660494910083837, pvalue=0.0003088833184788767, statistic_location=0.5434126117294127, statistic_sign=1)"
      ]
     },
     "execution_count": 189,
     "metadata": {},
     "output_type": "execute_result"
    }
   ],
   "source": [
    "stats.kstest(rand_uniform, 'norm', args=(rand_uniform.mean(), rand_uniform.var()**0.5))"
   ]
  },
  {
   "cell_type": "code",
   "execution_count": 190,
   "id": "068d8384",
   "metadata": {},
   "outputs": [
    {
     "data": {
      "text/plain": [
       "KstestResult(statistic=0.14944198187044488, pvalue=5.838173086800714e-20, statistic_location=1.1243040581031771, statistic_sign=1)"
      ]
     },
     "execution_count": 190,
     "metadata": {},
     "output_type": "execute_result"
    }
   ],
   "source": [
    "stats.kstest(rand_f, 'norm', args=(rand_f.mean(), rand_f.var()**0.5))"
   ]
  },
  {
   "cell_type": "markdown",
   "id": "26544d75",
   "metadata": {},
   "source": [
    "# Shapiro-Wilk Test"
   ]
  },
  {
   "cell_type": "code",
   "execution_count": 191,
   "id": "509d7a7b",
   "metadata": {},
   "outputs": [
    {
     "data": {
      "text/plain": [
       "ShapiroResult(statistic=0.9978631138801575, pvalue=0.22996579110622406)"
      ]
     },
     "execution_count": 191,
     "metadata": {},
     "output_type": "execute_result"
    }
   ],
   "source": [
    "stats.shapiro(rand_normal)"
   ]
  },
  {
   "cell_type": "code",
   "execution_count": 192,
   "id": "7534b50f",
   "metadata": {},
   "outputs": [
    {
     "data": {
      "text/plain": [
       "ShapiroResult(statistic=0.9558193683624268, pvalue=8.617827687162029e-17)"
      ]
     },
     "execution_count": 192,
     "metadata": {},
     "output_type": "execute_result"
    }
   ],
   "source": [
    "stats.shapiro(rand_uniform)"
   ]
  },
  {
   "cell_type": "code",
   "execution_count": 193,
   "id": "67c55bee",
   "metadata": {},
   "outputs": [
    {
     "data": {
      "text/plain": [
       "ShapiroResult(statistic=0.7759438753128052, pvalue=7.367002175820784e-35)"
      ]
     },
     "execution_count": 193,
     "metadata": {},
     "output_type": "execute_result"
    }
   ],
   "source": [
    "stats.shapiro(rand_f)"
   ]
  },
  {
   "cell_type": "markdown",
   "id": "afb99d0b",
   "metadata": {},
   "source": [
    "# Advanced_Python_week_04"
   ]
  },
  {
   "cell_type": "code",
   "execution_count": 194,
   "id": "1c2f5a27",
   "metadata": {},
   "outputs": [],
   "source": [
    "setosa = df[df['target'] == 0]\n",
    "versicolor = df[df['target'] == 1]\n",
    "virginica = df[df['target'] == 2]"
   ]
  },
  {
   "cell_type": "markdown",
   "id": "7577d2b0",
   "metadata": {},
   "source": [
    "# 01 Anova"
   ]
  },
  {
   "cell_type": "code",
   "execution_count": 195,
   "id": "1efd3af5",
   "metadata": {},
   "outputs": [],
   "source": [
    "setosa_sep_len = setosa['sepal length (cm)']\n",
    "versicolor_sep_len = versicolor['sepal length (cm)']\n",
    "virginica_sep_len = virginica['sepal length (cm)']"
   ]
  },
  {
   "cell_type": "code",
   "execution_count": 196,
   "id": "e2346cc8",
   "metadata": {},
   "outputs": [],
   "source": [
    "newData = pd.concat([df.iloc[:, 0], df.iloc[:, -1]], axis=1)\n",
    "newData = np.array(newData)"
   ]
  },
  {
   "cell_type": "code",
   "execution_count": 197,
   "id": "9e0feaa8",
   "metadata": {},
   "outputs": [],
   "source": [
    "setosa_array = newData[newData[:, 1] == 0]\n",
    "versicolor_array = newData[newData[:, 1] == 1]\n",
    "virginica_array = newData[newData[:, 1] == 2]"
   ]
  },
  {
   "cell_type": "code",
   "execution_count": 198,
   "id": "960a6032",
   "metadata": {},
   "outputs": [],
   "source": [
    "from scipy import stats"
   ]
  },
  {
   "cell_type": "code",
   "execution_count": 199,
   "id": "e5e76c87",
   "metadata": {},
   "outputs": [],
   "source": [
    "F_statistics, p_val = stats.f_oneway(setosa_array[:, 0],\n",
    "                                     versicolor_array[:, 0],\n",
    "                                     virginica_array[:, 0])"
   ]
  },
  {
   "cell_type": "code",
   "execution_count": 200,
   "id": "a04ebd6c",
   "metadata": {},
   "outputs": [
    {
     "name": "stdout",
     "output_type": "stream",
     "text": [
      "F statistics is: 119.26450218450468 p-value is: 1.6696691907693826e-31\n"
     ]
    }
   ],
   "source": [
    "print('F statistics is:', F_statistics, 'p-value is:', p_val)\n"
   ]
  },
  {
   "cell_type": "markdown",
   "id": "81a2501f",
   "metadata": {},
   "source": [
    "Since the p-value is less than 0.05, we reject H0.\n",
    "\n",
    "H0 was \"the mean sepal length of setosa, versicolor, and virginica are all the same.\"\n",
    "\n",
    "By rejecting H0, we can conclude that the mean sepal length of setosa, versicolor, and virginica are different."
   ]
  },
  {
   "cell_type": "markdown",
   "id": "093de99a",
   "metadata": {},
   "source": [
    "# 02 Linear Regression"
   ]
  },
  {
   "cell_type": "code",
   "execution_count": 201,
   "id": "5fabfe23",
   "metadata": {},
   "outputs": [],
   "source": [
    "data = pd.read_csv('train.csv')"
   ]
  },
  {
   "cell_type": "code",
   "execution_count": 202,
   "id": "e9e0de14",
   "metadata": {},
   "outputs": [],
   "source": [
    "from sklearn.linear_model import LinearRegression\n",
    "import statsmodels.api as sm"
   ]
  },
  {
   "cell_type": "code",
   "execution_count": 203,
   "id": "9a0320d6",
   "metadata": {},
   "outputs": [],
   "source": [
    "y = data.SalePrice # response variable \n",
    "x = data.YearBuilt #predictor variable"
   ]
  },
  {
   "cell_type": "code",
   "execution_count": 204,
   "id": "77d39e2e",
   "metadata": {},
   "outputs": [
    {
     "data": {
      "text/html": [
       "<div>\n",
       "<style scoped>\n",
       "    .dataframe tbody tr th:only-of-type {\n",
       "        vertical-align: middle;\n",
       "    }\n",
       "\n",
       "    .dataframe tbody tr th {\n",
       "        vertical-align: top;\n",
       "    }\n",
       "\n",
       "    .dataframe thead th {\n",
       "        text-align: right;\n",
       "    }\n",
       "</style>\n",
       "<table border=\"1\" class=\"dataframe\">\n",
       "  <thead>\n",
       "    <tr style=\"text-align: right;\">\n",
       "      <th></th>\n",
       "      <th>const</th>\n",
       "      <th>YearBuilt</th>\n",
       "    </tr>\n",
       "  </thead>\n",
       "  <tbody>\n",
       "    <tr>\n",
       "      <th>0</th>\n",
       "      <td>1.0</td>\n",
       "      <td>2003</td>\n",
       "    </tr>\n",
       "    <tr>\n",
       "      <th>1</th>\n",
       "      <td>1.0</td>\n",
       "      <td>1976</td>\n",
       "    </tr>\n",
       "    <tr>\n",
       "      <th>2</th>\n",
       "      <td>1.0</td>\n",
       "      <td>2001</td>\n",
       "    </tr>\n",
       "    <tr>\n",
       "      <th>3</th>\n",
       "      <td>1.0</td>\n",
       "      <td>1915</td>\n",
       "    </tr>\n",
       "    <tr>\n",
       "      <th>4</th>\n",
       "      <td>1.0</td>\n",
       "      <td>2000</td>\n",
       "    </tr>\n",
       "    <tr>\n",
       "      <th>...</th>\n",
       "      <td>...</td>\n",
       "      <td>...</td>\n",
       "    </tr>\n",
       "    <tr>\n",
       "      <th>1455</th>\n",
       "      <td>1.0</td>\n",
       "      <td>1999</td>\n",
       "    </tr>\n",
       "    <tr>\n",
       "      <th>1456</th>\n",
       "      <td>1.0</td>\n",
       "      <td>1978</td>\n",
       "    </tr>\n",
       "    <tr>\n",
       "      <th>1457</th>\n",
       "      <td>1.0</td>\n",
       "      <td>1941</td>\n",
       "    </tr>\n",
       "    <tr>\n",
       "      <th>1458</th>\n",
       "      <td>1.0</td>\n",
       "      <td>1950</td>\n",
       "    </tr>\n",
       "    <tr>\n",
       "      <th>1459</th>\n",
       "      <td>1.0</td>\n",
       "      <td>1965</td>\n",
       "    </tr>\n",
       "  </tbody>\n",
       "</table>\n",
       "<p>1460 rows × 2 columns</p>\n",
       "</div>"
      ],
      "text/plain": [
       "      const  YearBuilt\n",
       "0       1.0       2003\n",
       "1       1.0       1976\n",
       "2       1.0       2001\n",
       "3       1.0       1915\n",
       "4       1.0       2000\n",
       "...     ...        ...\n",
       "1455    1.0       1999\n",
       "1456    1.0       1978\n",
       "1457    1.0       1941\n",
       "1458    1.0       1950\n",
       "1459    1.0       1965\n",
       "\n",
       "[1460 rows x 2 columns]"
      ]
     },
     "execution_count": 204,
     "metadata": {},
     "output_type": "execute_result"
    }
   ],
   "source": [
    "x = sm.add_constant(x) # y = ax+b.\n",
    "x"
   ]
  },
  {
   "cell_type": "code",
   "execution_count": 205,
   "id": "7bcc5b25",
   "metadata": {},
   "outputs": [
    {
     "name": "stdout",
     "output_type": "stream",
     "text": [
      "                            OLS Regression Results                            \n",
      "==============================================================================\n",
      "Dep. Variable:              SalePrice   R-squared:                       0.273\n",
      "Model:                            OLS   Adj. R-squared:                  0.273\n",
      "Method:                 Least Squares   F-statistic:                     548.7\n",
      "Date:                Mon, 24 Jul 2023   Prob (F-statistic):          2.99e-103\n",
      "Time:                        17:33:31   Log-Likelihood:                -18311.\n",
      "No. Observations:                1460   AIC:                         3.663e+04\n",
      "Df Residuals:                    1458   BIC:                         3.664e+04\n",
      "Df Model:                           1                                         \n",
      "Covariance Type:            nonrobust                                         \n",
      "==============================================================================\n",
      "                 coef    std err          t      P>|t|      [0.025      0.975]\n",
      "------------------------------------------------------------------------------\n",
      "const       -2.53e+06   1.16e+05    -21.858      0.000   -2.76e+06    -2.3e+06\n",
      "YearBuilt   1375.3735     58.717     23.424      0.000    1260.194    1490.553\n",
      "==============================================================================\n",
      "Omnibus:                      761.903   Durbin-Watson:                   1.984\n",
      "Prob(Omnibus):                  0.000   Jarque-Bera (JB):             6856.947\n",
      "Skew:                           2.264   Prob(JB):                         0.00\n",
      "Kurtosis:                      12.603   Cond. No.                     1.29e+05\n",
      "==============================================================================\n",
      "\n",
      "Notes:\n",
      "[1] Standard Errors assume that the covariance matrix of the errors is correctly specified.\n",
      "[2] The condition number is large, 1.29e+05. This might indicate that there are\n",
      "strong multicollinearity or other numerical problems.\n"
     ]
    }
   ],
   "source": [
    "model = sm.OLS(y, x).fit()\n",
    "print(model.summary())"
   ]
  },
  {
   "cell_type": "markdown",
   "id": "cec9b4fa",
   "metadata": {},
   "source": [
    "# 02-1 predicting value"
   ]
  },
  {
   "cell_type": "code",
   "execution_count": 206,
   "id": "317954a9",
   "metadata": {},
   "outputs": [
    {
     "data": {
      "text/plain": [
       "array([[2003],\n",
       "       [1976],\n",
       "       [2001],\n",
       "       ...,\n",
       "       [1941],\n",
       "       [1950],\n",
       "       [1965]])"
      ]
     },
     "execution_count": 206,
     "metadata": {},
     "output_type": "execute_result"
    }
   ],
   "source": [
    "y = data.SalePrice\n",
    "x = data.YearBuilt\n",
    "x.values.reshape(-1, 1)"
   ]
  },
  {
   "cell_type": "code",
   "execution_count": 207,
   "id": "7d29c082",
   "metadata": {},
   "outputs": [
    {
     "data": {
      "text/html": [
       "<style>#sk-container-id-9 {color: black;background-color: white;}#sk-container-id-9 pre{padding: 0;}#sk-container-id-9 div.sk-toggleable {background-color: white;}#sk-container-id-9 label.sk-toggleable__label {cursor: pointer;display: block;width: 100%;margin-bottom: 0;padding: 0.3em;box-sizing: border-box;text-align: center;}#sk-container-id-9 label.sk-toggleable__label-arrow:before {content: \"▸\";float: left;margin-right: 0.25em;color: #696969;}#sk-container-id-9 label.sk-toggleable__label-arrow:hover:before {color: black;}#sk-container-id-9 div.sk-estimator:hover label.sk-toggleable__label-arrow:before {color: black;}#sk-container-id-9 div.sk-toggleable__content {max-height: 0;max-width: 0;overflow: hidden;text-align: left;background-color: #f0f8ff;}#sk-container-id-9 div.sk-toggleable__content pre {margin: 0.2em;color: black;border-radius: 0.25em;background-color: #f0f8ff;}#sk-container-id-9 input.sk-toggleable__control:checked~div.sk-toggleable__content {max-height: 200px;max-width: 100%;overflow: auto;}#sk-container-id-9 input.sk-toggleable__control:checked~label.sk-toggleable__label-arrow:before {content: \"▾\";}#sk-container-id-9 div.sk-estimator input.sk-toggleable__control:checked~label.sk-toggleable__label {background-color: #d4ebff;}#sk-container-id-9 div.sk-label input.sk-toggleable__control:checked~label.sk-toggleable__label {background-color: #d4ebff;}#sk-container-id-9 input.sk-hidden--visually {border: 0;clip: rect(1px 1px 1px 1px);clip: rect(1px, 1px, 1px, 1px);height: 1px;margin: -1px;overflow: hidden;padding: 0;position: absolute;width: 1px;}#sk-container-id-9 div.sk-estimator {font-family: monospace;background-color: #f0f8ff;border: 1px dotted black;border-radius: 0.25em;box-sizing: border-box;margin-bottom: 0.5em;}#sk-container-id-9 div.sk-estimator:hover {background-color: #d4ebff;}#sk-container-id-9 div.sk-parallel-item::after {content: \"\";width: 100%;border-bottom: 1px solid gray;flex-grow: 1;}#sk-container-id-9 div.sk-label:hover label.sk-toggleable__label {background-color: #d4ebff;}#sk-container-id-9 div.sk-serial::before {content: \"\";position: absolute;border-left: 1px solid gray;box-sizing: border-box;top: 0;bottom: 0;left: 50%;z-index: 0;}#sk-container-id-9 div.sk-serial {display: flex;flex-direction: column;align-items: center;background-color: white;padding-right: 0.2em;padding-left: 0.2em;position: relative;}#sk-container-id-9 div.sk-item {position: relative;z-index: 1;}#sk-container-id-9 div.sk-parallel {display: flex;align-items: stretch;justify-content: center;background-color: white;position: relative;}#sk-container-id-9 div.sk-item::before, #sk-container-id-9 div.sk-parallel-item::before {content: \"\";position: absolute;border-left: 1px solid gray;box-sizing: border-box;top: 0;bottom: 0;left: 50%;z-index: -1;}#sk-container-id-9 div.sk-parallel-item {display: flex;flex-direction: column;z-index: 1;position: relative;background-color: white;}#sk-container-id-9 div.sk-parallel-item:first-child::after {align-self: flex-end;width: 50%;}#sk-container-id-9 div.sk-parallel-item:last-child::after {align-self: flex-start;width: 50%;}#sk-container-id-9 div.sk-parallel-item:only-child::after {width: 0;}#sk-container-id-9 div.sk-dashed-wrapped {border: 1px dashed gray;margin: 0 0.4em 0.5em 0.4em;box-sizing: border-box;padding-bottom: 0.4em;background-color: white;}#sk-container-id-9 div.sk-label label {font-family: monospace;font-weight: bold;display: inline-block;line-height: 1.2em;}#sk-container-id-9 div.sk-label-container {text-align: center;}#sk-container-id-9 div.sk-container {/* jupyter's `normalize.less` sets `[hidden] { display: none; }` but bootstrap.min.css set `[hidden] { display: none !important; }` so we also need the `!important` here to be able to override the default hidden behavior on the sphinx rendered scikit-learn.org. See: https://github.com/scikit-learn/scikit-learn/issues/21755 */display: inline-block !important;position: relative;}#sk-container-id-9 div.sk-text-repr-fallback {display: none;}</style><div id=\"sk-container-id-9\" class=\"sk-top-container\"><div class=\"sk-text-repr-fallback\"><pre>LinearRegression()</pre><b>In a Jupyter environment, please rerun this cell to show the HTML representation or trust the notebook. <br />On GitHub, the HTML representation is unable to render, please try loading this page with nbviewer.org.</b></div><div class=\"sk-container\" hidden><div class=\"sk-item\"><div class=\"sk-estimator sk-toggleable\"><input class=\"sk-toggleable__control sk-hidden--visually\" id=\"sk-estimator-id-9\" type=\"checkbox\" checked><label for=\"sk-estimator-id-9\" class=\"sk-toggleable__label sk-toggleable__label-arrow\">LinearRegression</label><div class=\"sk-toggleable__content\"><pre>LinearRegression()</pre></div></div></div></div></div>"
      ],
      "text/plain": [
       "LinearRegression()"
      ]
     },
     "execution_count": 207,
     "metadata": {},
     "output_type": "execute_result"
    }
   ],
   "source": [
    "model = LinearRegression()\n",
    "model.fit(x.values.reshape(-1, 1), y)"
   ]
  },
  {
   "cell_type": "code",
   "execution_count": 208,
   "id": "634eb69d",
   "metadata": {},
   "outputs": [
    {
     "data": {
      "text/plain": [
       "252072.27990397625"
      ]
     },
     "execution_count": 208,
     "metadata": {},
     "output_type": "execute_result"
    }
   ],
   "source": [
    "model.predict([[2023]])[0]"
   ]
  },
  {
   "cell_type": "markdown",
   "id": "d04b454d",
   "metadata": {},
   "source": [
    "# Advanced_Python_week_05"
   ]
  },
  {
   "cell_type": "code",
   "execution_count": 209,
   "id": "8b47edf4",
   "metadata": {},
   "outputs": [],
   "source": [
    "seto = df[df['target']==0]\n",
    "versi = df[df['target']==1]\n",
    "virgi = df[df['target']==2]"
   ]
  },
  {
   "cell_type": "code",
   "execution_count": 210,
   "id": "05c37457",
   "metadata": {},
   "outputs": [],
   "source": [
    "seto_sepal_length = seto['sepal length (cm)']\n",
    "versi_sepal_length = versi['sepal length (cm)']"
   ]
  },
  {
   "cell_type": "markdown",
   "id": "48f97bac",
   "metadata": {},
   "source": [
    "# normality test"
   ]
  },
  {
   "cell_type": "code",
   "execution_count": 211,
   "id": "5b965d9d",
   "metadata": {},
   "outputs": [],
   "source": [
    "from scipy import stats"
   ]
  },
  {
   "cell_type": "code",
   "execution_count": 212,
   "id": "476fee12",
   "metadata": {},
   "outputs": [
    {
     "data": {
      "text/plain": [
       "ShapiroResult(statistic=0.9776986837387085, pvalue=0.4595174193382263)"
      ]
     },
     "execution_count": 212,
     "metadata": {},
     "output_type": "execute_result"
    }
   ],
   "source": [
    "stats.shapiro(seto_sepal_length)\n",
    "# cant reject HO so it follows the normal distribution"
   ]
  },
  {
   "cell_type": "code",
   "execution_count": 213,
   "id": "5c538b19",
   "metadata": {},
   "outputs": [
    {
     "data": {
      "text/plain": [
       "ShapiroResult(statistic=0.9778358340263367, pvalue=0.46474313735961914)"
      ]
     },
     "execution_count": 213,
     "metadata": {},
     "output_type": "execute_result"
    }
   ],
   "source": [
    "stats.shapiro(versi_sepal_length)\n",
    "# cant reject HO so it follows the normal distribution"
   ]
  },
  {
   "cell_type": "markdown",
   "id": "ec2609e1",
   "metadata": {},
   "source": [
    "# Homogeneity of variance test"
   ]
  },
  {
   "cell_type": "code",
   "execution_count": 214,
   "id": "7000d20a",
   "metadata": {},
   "outputs": [
    {
     "data": {
      "text/plain": [
       "LeveneResult(statistic=8.172720533728683, pvalue=0.005195521631017526)"
      ]
     },
     "execution_count": 214,
     "metadata": {},
     "output_type": "execute_result"
    }
   ],
   "source": [
    "stats.levene(seto_sepal_length, versi_sepal_length)\n",
    "#reject HO the variance is different"
   ]
  },
  {
   "cell_type": "markdown",
   "id": "52c74c96",
   "metadata": {},
   "source": [
    "# t-test"
   ]
  },
  {
   "cell_type": "code",
   "execution_count": 215,
   "id": "1bde761e",
   "metadata": {},
   "outputs": [
    {
     "data": {
      "text/plain": [
       "Ttest_indResult(statistic=-10.52098626754911, pvalue=3.746742613983842e-17)"
      ]
     },
     "execution_count": 215,
     "metadata": {},
     "output_type": "execute_result"
    }
   ],
   "source": [
    "stats.ttest_ind(seto_sepal_length, versi_sepal_length, equal_var = False)\n",
    "#since smaller 0than 0.05 it rejects HO and means the avg is different"
   ]
  },
  {
   "cell_type": "markdown",
   "id": "07458336",
   "metadata": {},
   "source": [
    "# Advanced_Python_week_06"
   ]
  },
  {
   "cell_type": "code",
   "execution_count": 216,
   "id": "cbbb99a2",
   "metadata": {},
   "outputs": [],
   "source": [
    "data = pd.read_csv('train.csv')"
   ]
  },
  {
   "cell_type": "markdown",
   "id": "1a239119",
   "metadata": {},
   "source": [
    "# 01 Multiple Linear Regression"
   ]
  },
  {
   "cell_type": "code",
   "execution_count": 217,
   "id": "d558f750",
   "metadata": {},
   "outputs": [],
   "source": [
    "data_new = data[['YearBuilt', 'LotFrontage', 'LotArea', 'SalePrice']].dropna()"
   ]
  },
  {
   "cell_type": "code",
   "execution_count": 218,
   "id": "6cddef06",
   "metadata": {},
   "outputs": [],
   "source": [
    "y = data_new.SalePrice\n",
    "X = data_new[['YearBuilt', 'LotFrontage', 'LotArea']]"
   ]
  },
  {
   "cell_type": "code",
   "execution_count": 219,
   "id": "976c707b",
   "metadata": {},
   "outputs": [],
   "source": [
    "X = sm.add_constant(X)"
   ]
  },
  {
   "cell_type": "code",
   "execution_count": 220,
   "id": "e017430f",
   "metadata": {},
   "outputs": [],
   "source": [
    "# make linear regression model\n",
    "model_sm = sm.OLS(y, X).fit()"
   ]
  },
  {
   "cell_type": "code",
   "execution_count": 221,
   "id": "7fc5caed",
   "metadata": {},
   "outputs": [
    {
     "data": {
      "text/html": [
       "<table class=\"simpletable\">\n",
       "<caption>OLS Regression Results</caption>\n",
       "<tr>\n",
       "  <th>Dep. Variable:</th>        <td>SalePrice</td>    <th>  R-squared:         </th> <td>   0.406</td> \n",
       "</tr>\n",
       "<tr>\n",
       "  <th>Model:</th>                   <td>OLS</td>       <th>  Adj. R-squared:    </th> <td>   0.404</td> \n",
       "</tr>\n",
       "<tr>\n",
       "  <th>Method:</th>             <td>Least Squares</td>  <th>  F-statistic:       </th> <td>   272.2</td> \n",
       "</tr>\n",
       "<tr>\n",
       "  <th>Date:</th>             <td>Mon, 24 Jul 2023</td> <th>  Prob (F-statistic):</th> <td>1.13e-134</td>\n",
       "</tr>\n",
       "<tr>\n",
       "  <th>Time:</th>                 <td>17:33:35</td>     <th>  Log-Likelihood:    </th> <td> -15000.</td> \n",
       "</tr>\n",
       "<tr>\n",
       "  <th>No. Observations:</th>      <td>  1201</td>      <th>  AIC:               </th> <td>3.001e+04</td>\n",
       "</tr>\n",
       "<tr>\n",
       "  <th>Df Residuals:</th>          <td>  1197</td>      <th>  BIC:               </th> <td>3.003e+04</td>\n",
       "</tr>\n",
       "<tr>\n",
       "  <th>Df Model:</th>              <td>     3</td>      <th>                     </th>     <td> </td>    \n",
       "</tr>\n",
       "<tr>\n",
       "  <th>Covariance Type:</th>      <td>nonrobust</td>    <th>                     </th>     <td> </td>    \n",
       "</tr>\n",
       "</table>\n",
       "<table class=\"simpletable\">\n",
       "<tr>\n",
       "       <td></td>          <th>coef</th>     <th>std err</th>      <th>t</th>      <th>P>|t|</th>  <th>[0.025</th>    <th>0.975]</th>  \n",
       "</tr>\n",
       "<tr>\n",
       "  <th>const</th>       <td>-2.497e+06</td> <td> 1.16e+05</td> <td>  -21.579</td> <td> 0.000</td> <td>-2.72e+06</td> <td>-2.27e+06</td>\n",
       "</tr>\n",
       "<tr>\n",
       "  <th>YearBuilt</th>   <td> 1323.0906</td> <td>   58.980</td> <td>   22.433</td> <td> 0.000</td> <td> 1207.375</td> <td> 1438.806</td>\n",
       "</tr>\n",
       "<tr>\n",
       "  <th>LotFrontage</th> <td>  703.2789</td> <td>   85.131</td> <td>    8.261</td> <td> 0.000</td> <td>  536.256</td> <td>  870.302</td>\n",
       "</tr>\n",
       "<tr>\n",
       "  <th>LotArea</th>     <td>    2.0955</td> <td>    0.259</td> <td>    8.084</td> <td> 0.000</td> <td>    1.587</td> <td>    2.604</td>\n",
       "</tr>\n",
       "</table>\n",
       "<table class=\"simpletable\">\n",
       "<tr>\n",
       "  <th>Omnibus:</th>       <td>545.978</td> <th>  Durbin-Watson:     </th> <td>   1.998</td>\n",
       "</tr>\n",
       "<tr>\n",
       "  <th>Prob(Omnibus):</th> <td> 0.000</td>  <th>  Jarque-Bera (JB):  </th> <td>5166.920</td>\n",
       "</tr>\n",
       "<tr>\n",
       "  <th>Skew:</th>          <td> 1.860</td>  <th>  Prob(JB):          </th> <td>    0.00</td>\n",
       "</tr>\n",
       "<tr>\n",
       "  <th>Kurtosis:</th>      <td>12.456</td>  <th>  Cond. No.          </th> <td>7.98e+05</td>\n",
       "</tr>\n",
       "</table><br/><br/>Notes:<br/>[1] Standard Errors assume that the covariance matrix of the errors is correctly specified.<br/>[2] The condition number is large, 7.98e+05. This might indicate that there are<br/>strong multicollinearity or other numerical problems."
      ],
      "text/latex": [
       "\\begin{center}\n",
       "\\begin{tabular}{lclc}\n",
       "\\toprule\n",
       "\\textbf{Dep. Variable:}    &    SalePrice     & \\textbf{  R-squared:         } &     0.406   \\\\\n",
       "\\textbf{Model:}            &       OLS        & \\textbf{  Adj. R-squared:    } &     0.404   \\\\\n",
       "\\textbf{Method:}           &  Least Squares   & \\textbf{  F-statistic:       } &     272.2   \\\\\n",
       "\\textbf{Date:}             & Mon, 24 Jul 2023 & \\textbf{  Prob (F-statistic):} & 1.13e-134   \\\\\n",
       "\\textbf{Time:}             &     17:33:35     & \\textbf{  Log-Likelihood:    } &   -15000.   \\\\\n",
       "\\textbf{No. Observations:} &        1201      & \\textbf{  AIC:               } & 3.001e+04   \\\\\n",
       "\\textbf{Df Residuals:}     &        1197      & \\textbf{  BIC:               } & 3.003e+04   \\\\\n",
       "\\textbf{Df Model:}         &           3      & \\textbf{                     } &             \\\\\n",
       "\\textbf{Covariance Type:}  &    nonrobust     & \\textbf{                     } &             \\\\\n",
       "\\bottomrule\n",
       "\\end{tabular}\n",
       "\\begin{tabular}{lcccccc}\n",
       "                     & \\textbf{coef} & \\textbf{std err} & \\textbf{t} & \\textbf{P$> |$t$|$} & \\textbf{[0.025} & \\textbf{0.975]}  \\\\\n",
       "\\midrule\n",
       "\\textbf{const}       &   -2.497e+06  &     1.16e+05     &   -21.579  &         0.000        &    -2.72e+06    &    -2.27e+06     \\\\\n",
       "\\textbf{YearBuilt}   &    1323.0906  &       58.980     &    22.433  &         0.000        &     1207.375    &     1438.806     \\\\\n",
       "\\textbf{LotFrontage} &     703.2789  &       85.131     &     8.261  &         0.000        &      536.256    &      870.302     \\\\\n",
       "\\textbf{LotArea}     &       2.0955  &        0.259     &     8.084  &         0.000        &        1.587    &        2.604     \\\\\n",
       "\\bottomrule\n",
       "\\end{tabular}\n",
       "\\begin{tabular}{lclc}\n",
       "\\textbf{Omnibus:}       & 545.978 & \\textbf{  Durbin-Watson:     } &    1.998  \\\\\n",
       "\\textbf{Prob(Omnibus):} &   0.000 & \\textbf{  Jarque-Bera (JB):  } & 5166.920  \\\\\n",
       "\\textbf{Skew:}          &   1.860 & \\textbf{  Prob(JB):          } &     0.00  \\\\\n",
       "\\textbf{Kurtosis:}      &  12.456 & \\textbf{  Cond. No.          } & 7.98e+05  \\\\\n",
       "\\bottomrule\n",
       "\\end{tabular}\n",
       "%\\caption{OLS Regression Results}\n",
       "\\end{center}\n",
       "\n",
       "Notes: \\newline\n",
       " [1] Standard Errors assume that the covariance matrix of the errors is correctly specified. \\newline\n",
       " [2] The condition number is large, 7.98e+05. This might indicate that there are \\newline\n",
       " strong multicollinearity or other numerical problems."
      ],
      "text/plain": [
       "<class 'statsmodels.iolib.summary.Summary'>\n",
       "\"\"\"\n",
       "                            OLS Regression Results                            \n",
       "==============================================================================\n",
       "Dep. Variable:              SalePrice   R-squared:                       0.406\n",
       "Model:                            OLS   Adj. R-squared:                  0.404\n",
       "Method:                 Least Squares   F-statistic:                     272.2\n",
       "Date:                Mon, 24 Jul 2023   Prob (F-statistic):          1.13e-134\n",
       "Time:                        17:33:35   Log-Likelihood:                -15000.\n",
       "No. Observations:                1201   AIC:                         3.001e+04\n",
       "Df Residuals:                    1197   BIC:                         3.003e+04\n",
       "Df Model:                           3                                         \n",
       "Covariance Type:            nonrobust                                         \n",
       "===============================================================================\n",
       "                  coef    std err          t      P>|t|      [0.025      0.975]\n",
       "-------------------------------------------------------------------------------\n",
       "const       -2.497e+06   1.16e+05    -21.579      0.000   -2.72e+06   -2.27e+06\n",
       "YearBuilt    1323.0906     58.980     22.433      0.000    1207.375    1438.806\n",
       "LotFrontage   703.2789     85.131      8.261      0.000     536.256     870.302\n",
       "LotArea         2.0955      0.259      8.084      0.000       1.587       2.604\n",
       "==============================================================================\n",
       "Omnibus:                      545.978   Durbin-Watson:                   1.998\n",
       "Prob(Omnibus):                  0.000   Jarque-Bera (JB):             5166.920\n",
       "Skew:                           1.860   Prob(JB):                         0.00\n",
       "Kurtosis:                      12.456   Cond. No.                     7.98e+05\n",
       "==============================================================================\n",
       "\n",
       "Notes:\n",
       "[1] Standard Errors assume that the covariance matrix of the errors is correctly specified.\n",
       "[2] The condition number is large, 7.98e+05. This might indicate that there are\n",
       "strong multicollinearity or other numerical problems.\n",
       "\"\"\""
      ]
     },
     "execution_count": 221,
     "metadata": {},
     "output_type": "execute_result"
    }
   ],
   "source": [
    "model_sm.summary()"
   ]
  },
  {
   "cell_type": "markdown",
   "id": "87678062",
   "metadata": {},
   "source": [
    "# Advanced_Python_week_07"
   ]
  },
  {
   "cell_type": "code",
   "execution_count": 222,
   "id": "409a37bb",
   "metadata": {},
   "outputs": [
    {
     "data": {
      "text/html": [
       "<div>\n",
       "<style scoped>\n",
       "    .dataframe tbody tr th:only-of-type {\n",
       "        vertical-align: middle;\n",
       "    }\n",
       "\n",
       "    .dataframe tbody tr th {\n",
       "        vertical-align: top;\n",
       "    }\n",
       "\n",
       "    .dataframe thead th {\n",
       "        text-align: right;\n",
       "    }\n",
       "</style>\n",
       "<table border=\"1\" class=\"dataframe\">\n",
       "  <thead>\n",
       "    <tr style=\"text-align: right;\">\n",
       "      <th></th>\n",
       "      <th>PassengerId</th>\n",
       "      <th>Survived</th>\n",
       "      <th>Pclass</th>\n",
       "      <th>Name</th>\n",
       "      <th>Sex</th>\n",
       "      <th>Age</th>\n",
       "      <th>SibSp</th>\n",
       "      <th>Parch</th>\n",
       "      <th>Ticket</th>\n",
       "      <th>Fare</th>\n",
       "      <th>Cabin</th>\n",
       "      <th>Embarked</th>\n",
       "    </tr>\n",
       "  </thead>\n",
       "  <tbody>\n",
       "    <tr>\n",
       "      <th>0</th>\n",
       "      <td>1</td>\n",
       "      <td>0</td>\n",
       "      <td>3</td>\n",
       "      <td>Braund, Mr. Owen Harris</td>\n",
       "      <td>male</td>\n",
       "      <td>22.0</td>\n",
       "      <td>1</td>\n",
       "      <td>0</td>\n",
       "      <td>A/5 21171</td>\n",
       "      <td>7.2500</td>\n",
       "      <td>NaN</td>\n",
       "      <td>S</td>\n",
       "    </tr>\n",
       "    <tr>\n",
       "      <th>1</th>\n",
       "      <td>2</td>\n",
       "      <td>1</td>\n",
       "      <td>1</td>\n",
       "      <td>Cumings, Mrs. John Bradley (Florence Briggs Th...</td>\n",
       "      <td>female</td>\n",
       "      <td>38.0</td>\n",
       "      <td>1</td>\n",
       "      <td>0</td>\n",
       "      <td>PC 17599</td>\n",
       "      <td>71.2833</td>\n",
       "      <td>C85</td>\n",
       "      <td>C</td>\n",
       "    </tr>\n",
       "    <tr>\n",
       "      <th>2</th>\n",
       "      <td>3</td>\n",
       "      <td>1</td>\n",
       "      <td>3</td>\n",
       "      <td>Heikkinen, Miss. Laina</td>\n",
       "      <td>female</td>\n",
       "      <td>26.0</td>\n",
       "      <td>0</td>\n",
       "      <td>0</td>\n",
       "      <td>STON/O2. 3101282</td>\n",
       "      <td>7.9250</td>\n",
       "      <td>NaN</td>\n",
       "      <td>S</td>\n",
       "    </tr>\n",
       "    <tr>\n",
       "      <th>3</th>\n",
       "      <td>4</td>\n",
       "      <td>1</td>\n",
       "      <td>1</td>\n",
       "      <td>Futrelle, Mrs. Jacques Heath (Lily May Peel)</td>\n",
       "      <td>female</td>\n",
       "      <td>35.0</td>\n",
       "      <td>1</td>\n",
       "      <td>0</td>\n",
       "      <td>113803</td>\n",
       "      <td>53.1000</td>\n",
       "      <td>C123</td>\n",
       "      <td>S</td>\n",
       "    </tr>\n",
       "    <tr>\n",
       "      <th>4</th>\n",
       "      <td>5</td>\n",
       "      <td>0</td>\n",
       "      <td>3</td>\n",
       "      <td>Allen, Mr. William Henry</td>\n",
       "      <td>male</td>\n",
       "      <td>35.0</td>\n",
       "      <td>0</td>\n",
       "      <td>0</td>\n",
       "      <td>373450</td>\n",
       "      <td>8.0500</td>\n",
       "      <td>NaN</td>\n",
       "      <td>S</td>\n",
       "    </tr>\n",
       "  </tbody>\n",
       "</table>\n",
       "</div>"
      ],
      "text/plain": [
       "   PassengerId  Survived  Pclass  \\\n",
       "0            1         0       3   \n",
       "1            2         1       1   \n",
       "2            3         1       3   \n",
       "3            4         1       1   \n",
       "4            5         0       3   \n",
       "\n",
       "                                                Name     Sex   Age  SibSp  \\\n",
       "0                            Braund, Mr. Owen Harris    male  22.0      1   \n",
       "1  Cumings, Mrs. John Bradley (Florence Briggs Th...  female  38.0      1   \n",
       "2                             Heikkinen, Miss. Laina  female  26.0      0   \n",
       "3       Futrelle, Mrs. Jacques Heath (Lily May Peel)  female  35.0      1   \n",
       "4                           Allen, Mr. William Henry    male  35.0      0   \n",
       "\n",
       "   Parch            Ticket     Fare Cabin Embarked  \n",
       "0      0         A/5 21171   7.2500   NaN        S  \n",
       "1      0          PC 17599  71.2833   C85        C  \n",
       "2      0  STON/O2. 3101282   7.9250   NaN        S  \n",
       "3      0            113803  53.1000  C123        S  \n",
       "4      0            373450   8.0500   NaN        S  "
      ]
     },
     "execution_count": 222,
     "metadata": {},
     "output_type": "execute_result"
    }
   ],
   "source": [
    "df = pd.read_csv('titanic.csv')\n",
    "df.head()"
   ]
  },
  {
   "cell_type": "code",
   "execution_count": 223,
   "id": "2b848c86",
   "metadata": {},
   "outputs": [],
   "source": [
    "sex_mapping = {'male':0, 'female':1}\n",
    "df['Sex'] = df['Sex'].map(sex_mapping)"
   ]
  },
  {
   "cell_type": "code",
   "execution_count": 224,
   "id": "d33c93df",
   "metadata": {},
   "outputs": [],
   "source": [
    "df.drop(['PassengerId', 'Name', 'Ticket', 'Cabin'], axis=1, inplace=True)"
   ]
  },
  {
   "cell_type": "code",
   "execution_count": 225,
   "id": "0abb5056",
   "metadata": {},
   "outputs": [],
   "source": [
    "# imputaion with median value\n",
    "df['Age'] = df['Age'].fillna(df['Age'].mode()[0])"
   ]
  },
  {
   "cell_type": "code",
   "execution_count": 226,
   "id": "8820eb43",
   "metadata": {},
   "outputs": [],
   "source": [
    "df['Embarked'].mode()[0]\n",
    "df['Embarked'] = df['Embarked'].fillna(df['Embarked'].mode()[0])"
   ]
  },
  {
   "cell_type": "code",
   "execution_count": 227,
   "id": "afba70f1",
   "metadata": {},
   "outputs": [],
   "source": [
    "embarked_mapping = {'Q':0, 'S':1, 'C':2}\n",
    "df['Embarked'] = df['Embarked'].map(embarked_mapping)"
   ]
  },
  {
   "cell_type": "code",
   "execution_count": 228,
   "id": "74dbf041",
   "metadata": {},
   "outputs": [],
   "source": [
    "Q1 = df['Fare'].quantile(0.25)\n",
    "Q3 = df['Fare'].quantile(0.75)\n",
    "IQR = Q3 - Q1"
   ]
  },
  {
   "cell_type": "code",
   "execution_count": 229,
   "id": "8a4970e5",
   "metadata": {},
   "outputs": [],
   "source": [
    "whisker_width = 1.5\n",
    "lower_whisker = Q1-whisker_width*IQR\n",
    "upper_whisker = Q3+whisker_width*IQR\n",
    "fare_outliers = df[(df['Fare'] < Q1-whisker_width*IQR)|(df['Fare'] > Q3+whisker_width*IQR)]"
   ]
  },
  {
   "cell_type": "code",
   "execution_count": 230,
   "id": "59b0d931",
   "metadata": {},
   "outputs": [
    {
     "data": {
      "text/html": [
       "<div>\n",
       "<style scoped>\n",
       "    .dataframe tbody tr th:only-of-type {\n",
       "        vertical-align: middle;\n",
       "    }\n",
       "\n",
       "    .dataframe tbody tr th {\n",
       "        vertical-align: top;\n",
       "    }\n",
       "\n",
       "    .dataframe thead th {\n",
       "        text-align: right;\n",
       "    }\n",
       "</style>\n",
       "<table border=\"1\" class=\"dataframe\">\n",
       "  <thead>\n",
       "    <tr style=\"text-align: right;\">\n",
       "      <th></th>\n",
       "      <th>Survived</th>\n",
       "      <th>Pclass</th>\n",
       "      <th>Sex</th>\n",
       "      <th>Age</th>\n",
       "      <th>SibSp</th>\n",
       "      <th>Parch</th>\n",
       "      <th>Fare</th>\n",
       "      <th>Embarked</th>\n",
       "    </tr>\n",
       "  </thead>\n",
       "  <tbody>\n",
       "    <tr>\n",
       "      <th>1</th>\n",
       "      <td>1</td>\n",
       "      <td>1</td>\n",
       "      <td>1</td>\n",
       "      <td>38.0</td>\n",
       "      <td>1</td>\n",
       "      <td>0</td>\n",
       "      <td>71.2833</td>\n",
       "      <td>2</td>\n",
       "    </tr>\n",
       "    <tr>\n",
       "      <th>27</th>\n",
       "      <td>0</td>\n",
       "      <td>1</td>\n",
       "      <td>0</td>\n",
       "      <td>19.0</td>\n",
       "      <td>3</td>\n",
       "      <td>2</td>\n",
       "      <td>263.0000</td>\n",
       "      <td>1</td>\n",
       "    </tr>\n",
       "    <tr>\n",
       "      <th>31</th>\n",
       "      <td>1</td>\n",
       "      <td>1</td>\n",
       "      <td>1</td>\n",
       "      <td>24.0</td>\n",
       "      <td>1</td>\n",
       "      <td>0</td>\n",
       "      <td>146.5208</td>\n",
       "      <td>2</td>\n",
       "    </tr>\n",
       "    <tr>\n",
       "      <th>34</th>\n",
       "      <td>0</td>\n",
       "      <td>1</td>\n",
       "      <td>0</td>\n",
       "      <td>28.0</td>\n",
       "      <td>1</td>\n",
       "      <td>0</td>\n",
       "      <td>82.1708</td>\n",
       "      <td>2</td>\n",
       "    </tr>\n",
       "    <tr>\n",
       "      <th>52</th>\n",
       "      <td>1</td>\n",
       "      <td>1</td>\n",
       "      <td>1</td>\n",
       "      <td>49.0</td>\n",
       "      <td>1</td>\n",
       "      <td>0</td>\n",
       "      <td>76.7292</td>\n",
       "      <td>2</td>\n",
       "    </tr>\n",
       "    <tr>\n",
       "      <th>...</th>\n",
       "      <td>...</td>\n",
       "      <td>...</td>\n",
       "      <td>...</td>\n",
       "      <td>...</td>\n",
       "      <td>...</td>\n",
       "      <td>...</td>\n",
       "      <td>...</td>\n",
       "      <td>...</td>\n",
       "    </tr>\n",
       "    <tr>\n",
       "      <th>846</th>\n",
       "      <td>0</td>\n",
       "      <td>3</td>\n",
       "      <td>0</td>\n",
       "      <td>24.0</td>\n",
       "      <td>8</td>\n",
       "      <td>2</td>\n",
       "      <td>69.5500</td>\n",
       "      <td>1</td>\n",
       "    </tr>\n",
       "    <tr>\n",
       "      <th>849</th>\n",
       "      <td>1</td>\n",
       "      <td>1</td>\n",
       "      <td>1</td>\n",
       "      <td>24.0</td>\n",
       "      <td>1</td>\n",
       "      <td>0</td>\n",
       "      <td>89.1042</td>\n",
       "      <td>2</td>\n",
       "    </tr>\n",
       "    <tr>\n",
       "      <th>856</th>\n",
       "      <td>1</td>\n",
       "      <td>1</td>\n",
       "      <td>1</td>\n",
       "      <td>45.0</td>\n",
       "      <td>1</td>\n",
       "      <td>1</td>\n",
       "      <td>164.8667</td>\n",
       "      <td>1</td>\n",
       "    </tr>\n",
       "    <tr>\n",
       "      <th>863</th>\n",
       "      <td>0</td>\n",
       "      <td>3</td>\n",
       "      <td>1</td>\n",
       "      <td>24.0</td>\n",
       "      <td>8</td>\n",
       "      <td>2</td>\n",
       "      <td>69.5500</td>\n",
       "      <td>1</td>\n",
       "    </tr>\n",
       "    <tr>\n",
       "      <th>879</th>\n",
       "      <td>1</td>\n",
       "      <td>1</td>\n",
       "      <td>1</td>\n",
       "      <td>56.0</td>\n",
       "      <td>0</td>\n",
       "      <td>1</td>\n",
       "      <td>83.1583</td>\n",
       "      <td>2</td>\n",
       "    </tr>\n",
       "  </tbody>\n",
       "</table>\n",
       "<p>116 rows × 8 columns</p>\n",
       "</div>"
      ],
      "text/plain": [
       "     Survived  Pclass  Sex   Age  SibSp  Parch      Fare  Embarked\n",
       "1           1       1    1  38.0      1      0   71.2833         2\n",
       "27          0       1    0  19.0      3      2  263.0000         1\n",
       "31          1       1    1  24.0      1      0  146.5208         2\n",
       "34          0       1    0  28.0      1      0   82.1708         2\n",
       "52          1       1    1  49.0      1      0   76.7292         2\n",
       "..        ...     ...  ...   ...    ...    ...       ...       ...\n",
       "846         0       3    0  24.0      8      2   69.5500         1\n",
       "849         1       1    1  24.0      1      0   89.1042         2\n",
       "856         1       1    1  45.0      1      1  164.8667         1\n",
       "863         0       3    1  24.0      8      2   69.5500         1\n",
       "879         1       1    1  56.0      0      1   83.1583         2\n",
       "\n",
       "[116 rows x 8 columns]"
      ]
     },
     "execution_count": 230,
     "metadata": {},
     "output_type": "execute_result"
    }
   ],
   "source": [
    "fare_outliers"
   ]
  },
  {
   "cell_type": "code",
   "execution_count": 231,
   "id": "a58fcecd",
   "metadata": {},
   "outputs": [],
   "source": [
    "Fare_no_ouliers = df[(df['Fare'] > lower_whisker)&(df['Fare'] < upper_whisker)]\n",
    "\n",
    "df = Fare_no_ouliers.reset_index().iloc[:, 1:]\n",
    "corr_mat = df.corr(method='pearson')"
   ]
  },
  {
   "cell_type": "code",
   "execution_count": 232,
   "id": "7469469b",
   "metadata": {},
   "outputs": [
    {
     "data": {
      "text/plain": [
       "Survived    1.000000\n",
       "Sex         0.499888\n",
       "Fare        0.234422\n",
       "Parch       0.098575\n",
       "Embarked    0.050164\n",
       "SibSp      -0.003156\n",
       "Age        -0.109055\n",
       "Pclass     -0.238532\n",
       "Name: Survived, dtype: float64"
      ]
     },
     "execution_count": 232,
     "metadata": {},
     "output_type": "execute_result"
    }
   ],
   "source": [
    "corr_mat['Survived'].sort_values(ascending=False)"
   ]
  },
  {
   "cell_type": "code",
   "execution_count": 233,
   "id": "8ee9e8df",
   "metadata": {},
   "outputs": [],
   "source": [
    "df.drop(['Embarked', 'SibSp'],axis=1, inplace=True)"
   ]
  },
  {
   "cell_type": "code",
   "execution_count": 234,
   "id": "55fec527",
   "metadata": {},
   "outputs": [],
   "source": [
    "from sklearn.preprocessing import StandardScaler"
   ]
  },
  {
   "cell_type": "code",
   "execution_count": 235,
   "id": "a96270b4",
   "metadata": {},
   "outputs": [],
   "source": [
    "scaler = StandardScaler()"
   ]
  },
  {
   "cell_type": "code",
   "execution_count": 236,
   "id": "f607f40a",
   "metadata": {},
   "outputs": [],
   "source": [
    "fare_array = np.array(df['Fare']).reshape(-1,1)"
   ]
  },
  {
   "cell_type": "code",
   "execution_count": 237,
   "id": "140e0282",
   "metadata": {},
   "outputs": [
    {
     "data": {
      "text/html": [
       "<style>#sk-container-id-10 {color: black;background-color: white;}#sk-container-id-10 pre{padding: 0;}#sk-container-id-10 div.sk-toggleable {background-color: white;}#sk-container-id-10 label.sk-toggleable__label {cursor: pointer;display: block;width: 100%;margin-bottom: 0;padding: 0.3em;box-sizing: border-box;text-align: center;}#sk-container-id-10 label.sk-toggleable__label-arrow:before {content: \"▸\";float: left;margin-right: 0.25em;color: #696969;}#sk-container-id-10 label.sk-toggleable__label-arrow:hover:before {color: black;}#sk-container-id-10 div.sk-estimator:hover label.sk-toggleable__label-arrow:before {color: black;}#sk-container-id-10 div.sk-toggleable__content {max-height: 0;max-width: 0;overflow: hidden;text-align: left;background-color: #f0f8ff;}#sk-container-id-10 div.sk-toggleable__content pre {margin: 0.2em;color: black;border-radius: 0.25em;background-color: #f0f8ff;}#sk-container-id-10 input.sk-toggleable__control:checked~div.sk-toggleable__content {max-height: 200px;max-width: 100%;overflow: auto;}#sk-container-id-10 input.sk-toggleable__control:checked~label.sk-toggleable__label-arrow:before {content: \"▾\";}#sk-container-id-10 div.sk-estimator input.sk-toggleable__control:checked~label.sk-toggleable__label {background-color: #d4ebff;}#sk-container-id-10 div.sk-label input.sk-toggleable__control:checked~label.sk-toggleable__label {background-color: #d4ebff;}#sk-container-id-10 input.sk-hidden--visually {border: 0;clip: rect(1px 1px 1px 1px);clip: rect(1px, 1px, 1px, 1px);height: 1px;margin: -1px;overflow: hidden;padding: 0;position: absolute;width: 1px;}#sk-container-id-10 div.sk-estimator {font-family: monospace;background-color: #f0f8ff;border: 1px dotted black;border-radius: 0.25em;box-sizing: border-box;margin-bottom: 0.5em;}#sk-container-id-10 div.sk-estimator:hover {background-color: #d4ebff;}#sk-container-id-10 div.sk-parallel-item::after {content: \"\";width: 100%;border-bottom: 1px solid gray;flex-grow: 1;}#sk-container-id-10 div.sk-label:hover label.sk-toggleable__label {background-color: #d4ebff;}#sk-container-id-10 div.sk-serial::before {content: \"\";position: absolute;border-left: 1px solid gray;box-sizing: border-box;top: 0;bottom: 0;left: 50%;z-index: 0;}#sk-container-id-10 div.sk-serial {display: flex;flex-direction: column;align-items: center;background-color: white;padding-right: 0.2em;padding-left: 0.2em;position: relative;}#sk-container-id-10 div.sk-item {position: relative;z-index: 1;}#sk-container-id-10 div.sk-parallel {display: flex;align-items: stretch;justify-content: center;background-color: white;position: relative;}#sk-container-id-10 div.sk-item::before, #sk-container-id-10 div.sk-parallel-item::before {content: \"\";position: absolute;border-left: 1px solid gray;box-sizing: border-box;top: 0;bottom: 0;left: 50%;z-index: -1;}#sk-container-id-10 div.sk-parallel-item {display: flex;flex-direction: column;z-index: 1;position: relative;background-color: white;}#sk-container-id-10 div.sk-parallel-item:first-child::after {align-self: flex-end;width: 50%;}#sk-container-id-10 div.sk-parallel-item:last-child::after {align-self: flex-start;width: 50%;}#sk-container-id-10 div.sk-parallel-item:only-child::after {width: 0;}#sk-container-id-10 div.sk-dashed-wrapped {border: 1px dashed gray;margin: 0 0.4em 0.5em 0.4em;box-sizing: border-box;padding-bottom: 0.4em;background-color: white;}#sk-container-id-10 div.sk-label label {font-family: monospace;font-weight: bold;display: inline-block;line-height: 1.2em;}#sk-container-id-10 div.sk-label-container {text-align: center;}#sk-container-id-10 div.sk-container {/* jupyter's `normalize.less` sets `[hidden] { display: none; }` but bootstrap.min.css set `[hidden] { display: none !important; }` so we also need the `!important` here to be able to override the default hidden behavior on the sphinx rendered scikit-learn.org. See: https://github.com/scikit-learn/scikit-learn/issues/21755 */display: inline-block !important;position: relative;}#sk-container-id-10 div.sk-text-repr-fallback {display: none;}</style><div id=\"sk-container-id-10\" class=\"sk-top-container\"><div class=\"sk-text-repr-fallback\"><pre>StandardScaler()</pre><b>In a Jupyter environment, please rerun this cell to show the HTML representation or trust the notebook. <br />On GitHub, the HTML representation is unable to render, please try loading this page with nbviewer.org.</b></div><div class=\"sk-container\" hidden><div class=\"sk-item\"><div class=\"sk-estimator sk-toggleable\"><input class=\"sk-toggleable__control sk-hidden--visually\" id=\"sk-estimator-id-10\" type=\"checkbox\" checked><label for=\"sk-estimator-id-10\" class=\"sk-toggleable__label sk-toggleable__label-arrow\">StandardScaler</label><div class=\"sk-toggleable__content\"><pre>StandardScaler()</pre></div></div></div></div></div>"
      ],
      "text/plain": [
       "StandardScaler()"
      ]
     },
     "execution_count": 237,
     "metadata": {},
     "output_type": "execute_result"
    }
   ],
   "source": [
    "scaler.fit(fare_array)"
   ]
  },
  {
   "cell_type": "code",
   "execution_count": 238,
   "id": "ac98c1fc",
   "metadata": {},
   "outputs": [],
   "source": [
    "df['Fare'] = pd.Series(scaler.transform(fare_array).reshape(-1))\n"
   ]
  },
  {
   "cell_type": "markdown",
   "id": "16518749",
   "metadata": {},
   "source": [
    "# Logistic Regression"
   ]
  },
  {
   "cell_type": "code",
   "execution_count": 239,
   "id": "8ffea50f",
   "metadata": {},
   "outputs": [],
   "source": [
    "features = df[['Pclass', 'Sex', 'Age', 'Parch', 'Fare']] #df\n",
    "target = df['Survived'] #pandas series"
   ]
  },
  {
   "cell_type": "code",
   "execution_count": 240,
   "id": "e944c96d",
   "metadata": {},
   "outputs": [],
   "source": [
    "from sklearn.model_selection import train_test_split"
   ]
  },
  {
   "cell_type": "code",
   "execution_count": 241,
   "id": "df9cf294",
   "metadata": {},
   "outputs": [],
   "source": [
    "train_features, test_features, train_labels, test_labels = train_test_split(features, target)"
   ]
  },
  {
   "cell_type": "code",
   "execution_count": 242,
   "id": "5ceb30e3",
   "metadata": {},
   "outputs": [],
   "source": [
    "scaler = StandardScaler()"
   ]
  },
  {
   "cell_type": "code",
   "execution_count": 243,
   "id": "9d4e072d",
   "metadata": {},
   "outputs": [],
   "source": [
    "train_features = scaler.fit_transform(train_features)\n",
    "test_features = scaler.fit_transform(test_features)"
   ]
  },
  {
   "cell_type": "code",
   "execution_count": 244,
   "id": "61987af6",
   "metadata": {},
   "outputs": [],
   "source": [
    "from sklearn.linear_model import LogisticRegression"
   ]
  },
  {
   "cell_type": "code",
   "execution_count": 245,
   "id": "e7544cb0",
   "metadata": {},
   "outputs": [],
   "source": [
    "model = LogisticRegression()"
   ]
  },
  {
   "cell_type": "code",
   "execution_count": 246,
   "id": "b6919743",
   "metadata": {
    "scrolled": true
   },
   "outputs": [
    {
     "data": {
      "text/html": [
       "<style>#sk-container-id-11 {color: black;background-color: white;}#sk-container-id-11 pre{padding: 0;}#sk-container-id-11 div.sk-toggleable {background-color: white;}#sk-container-id-11 label.sk-toggleable__label {cursor: pointer;display: block;width: 100%;margin-bottom: 0;padding: 0.3em;box-sizing: border-box;text-align: center;}#sk-container-id-11 label.sk-toggleable__label-arrow:before {content: \"▸\";float: left;margin-right: 0.25em;color: #696969;}#sk-container-id-11 label.sk-toggleable__label-arrow:hover:before {color: black;}#sk-container-id-11 div.sk-estimator:hover label.sk-toggleable__label-arrow:before {color: black;}#sk-container-id-11 div.sk-toggleable__content {max-height: 0;max-width: 0;overflow: hidden;text-align: left;background-color: #f0f8ff;}#sk-container-id-11 div.sk-toggleable__content pre {margin: 0.2em;color: black;border-radius: 0.25em;background-color: #f0f8ff;}#sk-container-id-11 input.sk-toggleable__control:checked~div.sk-toggleable__content {max-height: 200px;max-width: 100%;overflow: auto;}#sk-container-id-11 input.sk-toggleable__control:checked~label.sk-toggleable__label-arrow:before {content: \"▾\";}#sk-container-id-11 div.sk-estimator input.sk-toggleable__control:checked~label.sk-toggleable__label {background-color: #d4ebff;}#sk-container-id-11 div.sk-label input.sk-toggleable__control:checked~label.sk-toggleable__label {background-color: #d4ebff;}#sk-container-id-11 input.sk-hidden--visually {border: 0;clip: rect(1px 1px 1px 1px);clip: rect(1px, 1px, 1px, 1px);height: 1px;margin: -1px;overflow: hidden;padding: 0;position: absolute;width: 1px;}#sk-container-id-11 div.sk-estimator {font-family: monospace;background-color: #f0f8ff;border: 1px dotted black;border-radius: 0.25em;box-sizing: border-box;margin-bottom: 0.5em;}#sk-container-id-11 div.sk-estimator:hover {background-color: #d4ebff;}#sk-container-id-11 div.sk-parallel-item::after {content: \"\";width: 100%;border-bottom: 1px solid gray;flex-grow: 1;}#sk-container-id-11 div.sk-label:hover label.sk-toggleable__label {background-color: #d4ebff;}#sk-container-id-11 div.sk-serial::before {content: \"\";position: absolute;border-left: 1px solid gray;box-sizing: border-box;top: 0;bottom: 0;left: 50%;z-index: 0;}#sk-container-id-11 div.sk-serial {display: flex;flex-direction: column;align-items: center;background-color: white;padding-right: 0.2em;padding-left: 0.2em;position: relative;}#sk-container-id-11 div.sk-item {position: relative;z-index: 1;}#sk-container-id-11 div.sk-parallel {display: flex;align-items: stretch;justify-content: center;background-color: white;position: relative;}#sk-container-id-11 div.sk-item::before, #sk-container-id-11 div.sk-parallel-item::before {content: \"\";position: absolute;border-left: 1px solid gray;box-sizing: border-box;top: 0;bottom: 0;left: 50%;z-index: -1;}#sk-container-id-11 div.sk-parallel-item {display: flex;flex-direction: column;z-index: 1;position: relative;background-color: white;}#sk-container-id-11 div.sk-parallel-item:first-child::after {align-self: flex-end;width: 50%;}#sk-container-id-11 div.sk-parallel-item:last-child::after {align-self: flex-start;width: 50%;}#sk-container-id-11 div.sk-parallel-item:only-child::after {width: 0;}#sk-container-id-11 div.sk-dashed-wrapped {border: 1px dashed gray;margin: 0 0.4em 0.5em 0.4em;box-sizing: border-box;padding-bottom: 0.4em;background-color: white;}#sk-container-id-11 div.sk-label label {font-family: monospace;font-weight: bold;display: inline-block;line-height: 1.2em;}#sk-container-id-11 div.sk-label-container {text-align: center;}#sk-container-id-11 div.sk-container {/* jupyter's `normalize.less` sets `[hidden] { display: none; }` but bootstrap.min.css set `[hidden] { display: none !important; }` so we also need the `!important` here to be able to override the default hidden behavior on the sphinx rendered scikit-learn.org. See: https://github.com/scikit-learn/scikit-learn/issues/21755 */display: inline-block !important;position: relative;}#sk-container-id-11 div.sk-text-repr-fallback {display: none;}</style><div id=\"sk-container-id-11\" class=\"sk-top-container\"><div class=\"sk-text-repr-fallback\"><pre>LogisticRegression()</pre><b>In a Jupyter environment, please rerun this cell to show the HTML representation or trust the notebook. <br />On GitHub, the HTML representation is unable to render, please try loading this page with nbviewer.org.</b></div><div class=\"sk-container\" hidden><div class=\"sk-item\"><div class=\"sk-estimator sk-toggleable\"><input class=\"sk-toggleable__control sk-hidden--visually\" id=\"sk-estimator-id-11\" type=\"checkbox\" checked><label for=\"sk-estimator-id-11\" class=\"sk-toggleable__label sk-toggleable__label-arrow\">LogisticRegression</label><div class=\"sk-toggleable__content\"><pre>LogisticRegression()</pre></div></div></div></div></div>"
      ],
      "text/plain": [
       "LogisticRegression()"
      ]
     },
     "execution_count": 246,
     "metadata": {},
     "output_type": "execute_result"
    }
   ],
   "source": [
    "model.fit(train_features, train_labels)\n"
   ]
  },
  {
   "cell_type": "code",
   "execution_count": 247,
   "id": "b34d8283",
   "metadata": {},
   "outputs": [
    {
     "name": "stdout",
     "output_type": "stream",
     "text": [
      "0.7938144329896907\n"
     ]
    }
   ],
   "source": [
    "print(model.score(test_features, test_labels))\n",
    "#model performance"
   ]
  },
  {
   "cell_type": "code",
   "execution_count": 248,
   "id": "c4d3e7ea",
   "metadata": {},
   "outputs": [],
   "source": [
    "#predict survival\n",
    "Jack = np.array([3, 0, 20, 0, 70])\n",
    "Rose = np.array([2, 1, 17, 1, 70])\n",
    "me = np.array([2, 1, 26, 1, 80])"
   ]
  },
  {
   "cell_type": "code",
   "execution_count": 249,
   "id": "c1f8d553",
   "metadata": {},
   "outputs": [],
   "source": [
    "sample_passengers = np.array([Jack, Rose, me])"
   ]
  },
  {
   "cell_type": "code",
   "execution_count": 250,
   "id": "951ddc65",
   "metadata": {},
   "outputs": [],
   "source": [
    "#scaling\n",
    "scaler = StandardScaler()\n",
    "sample_passengers = scaler.fit_transform(sample_passengers)"
   ]
  },
  {
   "cell_type": "code",
   "execution_count": 251,
   "id": "d0c93712",
   "metadata": {},
   "outputs": [
    {
     "name": "stdout",
     "output_type": "stream",
     "text": [
      "[0 1 0]\n"
     ]
    }
   ],
   "source": [
    "#prediction\n",
    "print(model.predict(sample_passengers))"
   ]
  },
  {
   "cell_type": "markdown",
   "id": "a5281e3f",
   "metadata": {},
   "source": [
    "# SVM"
   ]
  },
  {
   "cell_type": "code",
   "execution_count": 252,
   "id": "4070c358",
   "metadata": {},
   "outputs": [],
   "source": [
    "from sklearn.svm import SVC"
   ]
  },
  {
   "cell_type": "code",
   "execution_count": 253,
   "id": "e1767e9e",
   "metadata": {},
   "outputs": [],
   "source": [
    "#kernel difference\n",
    "svm_linear = SVC(kernel = 'linear', C = 8, gamma =1)\n",
    "svm_poly = SVC(kernel = 'poly', C = 8, gamma =1)\n",
    "svm_rbf = SVC(kernel = 'rbf', C = 8, gamma =1)"
   ]
  },
  {
   "cell_type": "code",
   "execution_count": 254,
   "id": "37883cf3",
   "metadata": {},
   "outputs": [
    {
     "data": {
      "text/html": [
       "<style>#sk-container-id-12 {color: black;background-color: white;}#sk-container-id-12 pre{padding: 0;}#sk-container-id-12 div.sk-toggleable {background-color: white;}#sk-container-id-12 label.sk-toggleable__label {cursor: pointer;display: block;width: 100%;margin-bottom: 0;padding: 0.3em;box-sizing: border-box;text-align: center;}#sk-container-id-12 label.sk-toggleable__label-arrow:before {content: \"▸\";float: left;margin-right: 0.25em;color: #696969;}#sk-container-id-12 label.sk-toggleable__label-arrow:hover:before {color: black;}#sk-container-id-12 div.sk-estimator:hover label.sk-toggleable__label-arrow:before {color: black;}#sk-container-id-12 div.sk-toggleable__content {max-height: 0;max-width: 0;overflow: hidden;text-align: left;background-color: #f0f8ff;}#sk-container-id-12 div.sk-toggleable__content pre {margin: 0.2em;color: black;border-radius: 0.25em;background-color: #f0f8ff;}#sk-container-id-12 input.sk-toggleable__control:checked~div.sk-toggleable__content {max-height: 200px;max-width: 100%;overflow: auto;}#sk-container-id-12 input.sk-toggleable__control:checked~label.sk-toggleable__label-arrow:before {content: \"▾\";}#sk-container-id-12 div.sk-estimator input.sk-toggleable__control:checked~label.sk-toggleable__label {background-color: #d4ebff;}#sk-container-id-12 div.sk-label input.sk-toggleable__control:checked~label.sk-toggleable__label {background-color: #d4ebff;}#sk-container-id-12 input.sk-hidden--visually {border: 0;clip: rect(1px 1px 1px 1px);clip: rect(1px, 1px, 1px, 1px);height: 1px;margin: -1px;overflow: hidden;padding: 0;position: absolute;width: 1px;}#sk-container-id-12 div.sk-estimator {font-family: monospace;background-color: #f0f8ff;border: 1px dotted black;border-radius: 0.25em;box-sizing: border-box;margin-bottom: 0.5em;}#sk-container-id-12 div.sk-estimator:hover {background-color: #d4ebff;}#sk-container-id-12 div.sk-parallel-item::after {content: \"\";width: 100%;border-bottom: 1px solid gray;flex-grow: 1;}#sk-container-id-12 div.sk-label:hover label.sk-toggleable__label {background-color: #d4ebff;}#sk-container-id-12 div.sk-serial::before {content: \"\";position: absolute;border-left: 1px solid gray;box-sizing: border-box;top: 0;bottom: 0;left: 50%;z-index: 0;}#sk-container-id-12 div.sk-serial {display: flex;flex-direction: column;align-items: center;background-color: white;padding-right: 0.2em;padding-left: 0.2em;position: relative;}#sk-container-id-12 div.sk-item {position: relative;z-index: 1;}#sk-container-id-12 div.sk-parallel {display: flex;align-items: stretch;justify-content: center;background-color: white;position: relative;}#sk-container-id-12 div.sk-item::before, #sk-container-id-12 div.sk-parallel-item::before {content: \"\";position: absolute;border-left: 1px solid gray;box-sizing: border-box;top: 0;bottom: 0;left: 50%;z-index: -1;}#sk-container-id-12 div.sk-parallel-item {display: flex;flex-direction: column;z-index: 1;position: relative;background-color: white;}#sk-container-id-12 div.sk-parallel-item:first-child::after {align-self: flex-end;width: 50%;}#sk-container-id-12 div.sk-parallel-item:last-child::after {align-self: flex-start;width: 50%;}#sk-container-id-12 div.sk-parallel-item:only-child::after {width: 0;}#sk-container-id-12 div.sk-dashed-wrapped {border: 1px dashed gray;margin: 0 0.4em 0.5em 0.4em;box-sizing: border-box;padding-bottom: 0.4em;background-color: white;}#sk-container-id-12 div.sk-label label {font-family: monospace;font-weight: bold;display: inline-block;line-height: 1.2em;}#sk-container-id-12 div.sk-label-container {text-align: center;}#sk-container-id-12 div.sk-container {/* jupyter's `normalize.less` sets `[hidden] { display: none; }` but bootstrap.min.css set `[hidden] { display: none !important; }` so we also need the `!important` here to be able to override the default hidden behavior on the sphinx rendered scikit-learn.org. See: https://github.com/scikit-learn/scikit-learn/issues/21755 */display: inline-block !important;position: relative;}#sk-container-id-12 div.sk-text-repr-fallback {display: none;}</style><div id=\"sk-container-id-12\" class=\"sk-top-container\"><div class=\"sk-text-repr-fallback\"><pre>SVC(C=8, gamma=1)</pre><b>In a Jupyter environment, please rerun this cell to show the HTML representation or trust the notebook. <br />On GitHub, the HTML representation is unable to render, please try loading this page with nbviewer.org.</b></div><div class=\"sk-container\" hidden><div class=\"sk-item\"><div class=\"sk-estimator sk-toggleable\"><input class=\"sk-toggleable__control sk-hidden--visually\" id=\"sk-estimator-id-12\" type=\"checkbox\" checked><label for=\"sk-estimator-id-12\" class=\"sk-toggleable__label sk-toggleable__label-arrow\">SVC</label><div class=\"sk-toggleable__content\"><pre>SVC(C=8, gamma=1)</pre></div></div></div></div></div>"
      ],
      "text/plain": [
       "SVC(C=8, gamma=1)"
      ]
     },
     "execution_count": 254,
     "metadata": {},
     "output_type": "execute_result"
    }
   ],
   "source": [
    "svm_linear.fit(train_features, train_labels)\n",
    "svm_poly.fit(train_features, train_labels)\n",
    "svm_rbf.fit(train_features, train_labels)"
   ]
  },
  {
   "cell_type": "code",
   "execution_count": 255,
   "id": "c8892498",
   "metadata": {},
   "outputs": [],
   "source": [
    "## predict\n",
    "y_pred_linear = svm_linear.predict(test_features)\n",
    "y_pred_poly = svm_poly.predict(test_features)\n",
    "y_pred_rbf = svm_rbf.predict(test_features)"
   ]
  },
  {
   "cell_type": "code",
   "execution_count": 256,
   "id": "944c479f",
   "metadata": {},
   "outputs": [
    {
     "data": {
      "text/plain": [
       "0.8041237113402062"
      ]
     },
     "execution_count": 256,
     "metadata": {},
     "output_type": "execute_result"
    }
   ],
   "source": [
    "np.mean(y_pred_linear == test_labels.values)"
   ]
  },
  {
   "cell_type": "code",
   "execution_count": 257,
   "id": "5b77de33",
   "metadata": {},
   "outputs": [
    {
     "name": "stdout",
     "output_type": "stream",
     "text": [
      "prediction accuracy of linear kernel : 0.8041237113402062\n",
      "prediction accuracy of polynomial kernel : 0.7989690721649485\n",
      "prediction accuracy of rbf kernel : 0.7835051546391752\n"
     ]
    }
   ],
   "source": [
    "print(\"prediction accuracy of linear kernel : {0}\".format(np.mean(y_pred_linear == test_labels.values)))\n",
    "print(\"prediction accuracy of polynomial kernel : {0}\".format(np.mean(y_pred_poly == test_labels.values)))\n",
    "print(\"prediction accuracy of rbf kernel : {0}\".format(np.mean(y_pred_rbf == test_labels.values)))"
   ]
  },
  {
   "cell_type": "markdown",
   "id": "f44f2b41",
   "metadata": {},
   "source": [
    "# Advanced_Python_week_08"
   ]
  },
  {
   "cell_type": "markdown",
   "id": "267f0195",
   "metadata": {},
   "source": [
    "# KNN"
   ]
  },
  {
   "cell_type": "code",
   "execution_count": 258,
   "id": "1f92a57e",
   "metadata": {},
   "outputs": [],
   "source": [
    "import pandas as pd\n",
    "import matplotlib.pyplot as plt\n",
    "import numpy as np\n",
    "import seaborn as sns\n",
    "from sklearn.datasets import load_iris\n",
    "import matplotlib.pyplot as plt\n",
    "\n",
    "iris = load_iris()\n",
    "features = iris['data']\n",
    "feature_names = iris['feature_names']\n",
    "label = iris['target']\n",
    "\n",
    "df = pd.DataFrame(features, columns = feature_names)\n",
    "df['target'] = label"
   ]
  },
  {
   "cell_type": "code",
   "execution_count": 259,
   "id": "071eb4df",
   "metadata": {},
   "outputs": [],
   "source": [
    "#preprocessing\n",
    "X = df.iloc[:, :-1].values\n",
    "y = df.iloc[:, -1].values"
   ]
  },
  {
   "cell_type": "code",
   "execution_count": 260,
   "id": "75b6e961",
   "metadata": {},
   "outputs": [],
   "source": [
    "#Train-test split\n",
    "from sklearn.model_selection import train_test_split\n",
    "X_train, X_test, y_train, y_test = train_test_split(X, y, test_size=0.2)"
   ]
  },
  {
   "cell_type": "code",
   "execution_count": 261,
   "id": "3f734d99",
   "metadata": {},
   "outputs": [],
   "source": [
    "from sklearn.preprocessing import StandardScaler\n",
    "scaler = StandardScaler()\n",
    "scaler.fit(X_train)\n",
    "\n",
    "X_train = scaler.transform(X_train)\n",
    "X_test = scaler.transform(X_test)"
   ]
  },
  {
   "cell_type": "code",
   "execution_count": 262,
   "id": "2b06e5d2",
   "metadata": {},
   "outputs": [],
   "source": [
    "from sklearn.neighbors import KNeighborsClassifier\n",
    "\n",
    "classifier = KNeighborsClassifier(n_neighbors=5)\n",
    "\n",
    "classifier.fit(X_train, y_train)\n",
    "\n",
    "y_pred = classifier.predict(X_test)"
   ]
  },
  {
   "cell_type": "code",
   "execution_count": 263,
   "id": "85ec6a5e",
   "metadata": {},
   "outputs": [
    {
     "data": {
      "text/plain": [
       "array([2, 1, 0, 1, 1, 0, 1, 1, 0, 1, 1, 1, 2, 1, 0, 1, 1, 0, 1, 0, 0, 2,\n",
       "       1, 0, 0, 0, 2, 1, 2, 1])"
      ]
     },
     "execution_count": 263,
     "metadata": {},
     "output_type": "execute_result"
    }
   ],
   "source": [
    "y_pred"
   ]
  },
  {
   "cell_type": "code",
   "execution_count": 264,
   "id": "c50481d8",
   "metadata": {},
   "outputs": [
    {
     "name": "stdout",
     "output_type": "stream",
     "text": [
      "              precision    recall  f1-score   support\n",
      "\n",
      "           0       1.00      1.00      1.00        10\n",
      "           1       0.93      1.00      0.97        14\n",
      "           2       1.00      0.83      0.91         6\n",
      "\n",
      "    accuracy                           0.97        30\n",
      "   macro avg       0.98      0.94      0.96        30\n",
      "weighted avg       0.97      0.97      0.97        30\n",
      "\n"
     ]
    }
   ],
   "source": [
    "#evaluating\n",
    "from sklearn.metrics import classification_report\n",
    "print(classification_report(y_test, y_pred))"
   ]
  },
  {
   "cell_type": "markdown",
   "id": "1074b5e3",
   "metadata": {},
   "source": [
    "# Advanced_Python_week_09"
   ]
  },
  {
   "cell_type": "code",
   "execution_count": 265,
   "id": "79ab3509",
   "metadata": {},
   "outputs": [],
   "source": [
    "from sklearn.datasets import load_iris\n",
    "import pandas as pd\n",
    "import numpy as np\n",
    "import matplotlib.pyplot as plt\n",
    "import seaborn as sns\n",
    "\n",
    "import os\n",
    "os.environ['PATH'] = os.pathsep+'/opt/homebrew/bin'"
   ]
  },
  {
   "cell_type": "markdown",
   "id": "32740086",
   "metadata": {},
   "source": [
    "# Decesion Tree"
   ]
  },
  {
   "cell_type": "code",
   "execution_count": 266,
   "id": "1b0d65db",
   "metadata": {},
   "outputs": [],
   "source": [
    "from sklearn.tree import DecisionTreeClassifier\n",
    "from sklearn.tree import export_graphviz\n",
    "import graphviz"
   ]
  },
  {
   "cell_type": "code",
   "execution_count": 267,
   "id": "42539abf",
   "metadata": {},
   "outputs": [],
   "source": [
    "tree_model = DecisionTreeClassifier(max_depth=3) # tree model generated\n"
   ]
  },
  {
   "cell_type": "code",
   "execution_count": 268,
   "id": "a20488d2",
   "metadata": {},
   "outputs": [
    {
     "data": {
      "text/html": [
       "<style>#sk-container-id-13 {color: black;background-color: white;}#sk-container-id-13 pre{padding: 0;}#sk-container-id-13 div.sk-toggleable {background-color: white;}#sk-container-id-13 label.sk-toggleable__label {cursor: pointer;display: block;width: 100%;margin-bottom: 0;padding: 0.3em;box-sizing: border-box;text-align: center;}#sk-container-id-13 label.sk-toggleable__label-arrow:before {content: \"▸\";float: left;margin-right: 0.25em;color: #696969;}#sk-container-id-13 label.sk-toggleable__label-arrow:hover:before {color: black;}#sk-container-id-13 div.sk-estimator:hover label.sk-toggleable__label-arrow:before {color: black;}#sk-container-id-13 div.sk-toggleable__content {max-height: 0;max-width: 0;overflow: hidden;text-align: left;background-color: #f0f8ff;}#sk-container-id-13 div.sk-toggleable__content pre {margin: 0.2em;color: black;border-radius: 0.25em;background-color: #f0f8ff;}#sk-container-id-13 input.sk-toggleable__control:checked~div.sk-toggleable__content {max-height: 200px;max-width: 100%;overflow: auto;}#sk-container-id-13 input.sk-toggleable__control:checked~label.sk-toggleable__label-arrow:before {content: \"▾\";}#sk-container-id-13 div.sk-estimator input.sk-toggleable__control:checked~label.sk-toggleable__label {background-color: #d4ebff;}#sk-container-id-13 div.sk-label input.sk-toggleable__control:checked~label.sk-toggleable__label {background-color: #d4ebff;}#sk-container-id-13 input.sk-hidden--visually {border: 0;clip: rect(1px 1px 1px 1px);clip: rect(1px, 1px, 1px, 1px);height: 1px;margin: -1px;overflow: hidden;padding: 0;position: absolute;width: 1px;}#sk-container-id-13 div.sk-estimator {font-family: monospace;background-color: #f0f8ff;border: 1px dotted black;border-radius: 0.25em;box-sizing: border-box;margin-bottom: 0.5em;}#sk-container-id-13 div.sk-estimator:hover {background-color: #d4ebff;}#sk-container-id-13 div.sk-parallel-item::after {content: \"\";width: 100%;border-bottom: 1px solid gray;flex-grow: 1;}#sk-container-id-13 div.sk-label:hover label.sk-toggleable__label {background-color: #d4ebff;}#sk-container-id-13 div.sk-serial::before {content: \"\";position: absolute;border-left: 1px solid gray;box-sizing: border-box;top: 0;bottom: 0;left: 50%;z-index: 0;}#sk-container-id-13 div.sk-serial {display: flex;flex-direction: column;align-items: center;background-color: white;padding-right: 0.2em;padding-left: 0.2em;position: relative;}#sk-container-id-13 div.sk-item {position: relative;z-index: 1;}#sk-container-id-13 div.sk-parallel {display: flex;align-items: stretch;justify-content: center;background-color: white;position: relative;}#sk-container-id-13 div.sk-item::before, #sk-container-id-13 div.sk-parallel-item::before {content: \"\";position: absolute;border-left: 1px solid gray;box-sizing: border-box;top: 0;bottom: 0;left: 50%;z-index: -1;}#sk-container-id-13 div.sk-parallel-item {display: flex;flex-direction: column;z-index: 1;position: relative;background-color: white;}#sk-container-id-13 div.sk-parallel-item:first-child::after {align-self: flex-end;width: 50%;}#sk-container-id-13 div.sk-parallel-item:last-child::after {align-self: flex-start;width: 50%;}#sk-container-id-13 div.sk-parallel-item:only-child::after {width: 0;}#sk-container-id-13 div.sk-dashed-wrapped {border: 1px dashed gray;margin: 0 0.4em 0.5em 0.4em;box-sizing: border-box;padding-bottom: 0.4em;background-color: white;}#sk-container-id-13 div.sk-label label {font-family: monospace;font-weight: bold;display: inline-block;line-height: 1.2em;}#sk-container-id-13 div.sk-label-container {text-align: center;}#sk-container-id-13 div.sk-container {/* jupyter's `normalize.less` sets `[hidden] { display: none; }` but bootstrap.min.css set `[hidden] { display: none !important; }` so we also need the `!important` here to be able to override the default hidden behavior on the sphinx rendered scikit-learn.org. See: https://github.com/scikit-learn/scikit-learn/issues/21755 */display: inline-block !important;position: relative;}#sk-container-id-13 div.sk-text-repr-fallback {display: none;}</style><div id=\"sk-container-id-13\" class=\"sk-top-container\"><div class=\"sk-text-repr-fallback\"><pre>DecisionTreeClassifier(max_depth=3)</pre><b>In a Jupyter environment, please rerun this cell to show the HTML representation or trust the notebook. <br />On GitHub, the HTML representation is unable to render, please try loading this page with nbviewer.org.</b></div><div class=\"sk-container\" hidden><div class=\"sk-item\"><div class=\"sk-estimator sk-toggleable\"><input class=\"sk-toggleable__control sk-hidden--visually\" id=\"sk-estimator-id-13\" type=\"checkbox\" checked><label for=\"sk-estimator-id-13\" class=\"sk-toggleable__label sk-toggleable__label-arrow\">DecisionTreeClassifier</label><div class=\"sk-toggleable__content\"><pre>DecisionTreeClassifier(max_depth=3)</pre></div></div></div></div></div>"
      ],
      "text/plain": [
       "DecisionTreeClassifier(max_depth=3)"
      ]
     },
     "execution_count": 268,
     "metadata": {},
     "output_type": "execute_result"
    }
   ],
   "source": [
    "tree_model.fit(X_train, y_train)\n"
   ]
  },
  {
   "cell_type": "code",
   "execution_count": 269,
   "id": "db6685bd",
   "metadata": {},
   "outputs": [],
   "source": [
    "dot_data = export_graphviz(\n",
    "    tree_model,\n",
    "    out_file = None,\n",
    "    feature_names = df.columns[:-1],\n",
    "    class_names = df.columns[-1],\n",
    "    rounded = True, \n",
    "    filled = True\n",
    ")"
   ]
  },
  {
   "cell_type": "code",
   "execution_count": 270,
   "id": "f1ac8dc8",
   "metadata": {},
   "outputs": [],
   "source": [
    "graph = graphviz.Source(dot_data)\n"
   ]
  },
  {
   "cell_type": "code",
   "execution_count": 271,
   "id": "f1199a4a",
   "metadata": {},
   "outputs": [
    {
     "data": {
      "text/plain": [
       "'iris_decision_tree.png'"
      ]
     },
     "execution_count": 271,
     "metadata": {},
     "output_type": "execute_result"
    }
   ],
   "source": [
    "graph.render(filename = 'iris_decision_tree', directory='./', format='png')\n"
   ]
  },
  {
   "cell_type": "code",
   "execution_count": 272,
   "id": "04f7147e",
   "metadata": {},
   "outputs": [
    {
     "name": "stdout",
     "output_type": "stream",
     "text": [
      "/Library/Frameworks/Python.framework/Versions/3.11/lib/python3.11/site-packages/graphviz/__init__.py\n"
     ]
    }
   ],
   "source": [
    "import inspect\n",
    "print(inspect.getfile(graphviz))"
   ]
  },
  {
   "cell_type": "markdown",
   "id": "cccbc1c0",
   "metadata": {},
   "source": [
    "# Advanced_Python_week_10"
   ]
  },
  {
   "cell_type": "markdown",
   "id": "f255a8d7",
   "metadata": {},
   "source": [
    "# Random forest"
   ]
  },
  {
   "cell_type": "code",
   "execution_count": 273,
   "id": "abcdab39",
   "metadata": {},
   "outputs": [],
   "source": [
    "from sklearn.ensemble import RandomForestClassifier\n",
    "from sklearn.metrics import classification_report"
   ]
  },
  {
   "cell_type": "code",
   "execution_count": 274,
   "id": "97409f8c",
   "metadata": {},
   "outputs": [],
   "source": [
    "rf = RandomForestClassifier()\n"
   ]
  },
  {
   "cell_type": "code",
   "execution_count": 275,
   "id": "d2a590f4",
   "metadata": {},
   "outputs": [
    {
     "data": {
      "text/html": [
       "<style>#sk-container-id-14 {color: black;background-color: white;}#sk-container-id-14 pre{padding: 0;}#sk-container-id-14 div.sk-toggleable {background-color: white;}#sk-container-id-14 label.sk-toggleable__label {cursor: pointer;display: block;width: 100%;margin-bottom: 0;padding: 0.3em;box-sizing: border-box;text-align: center;}#sk-container-id-14 label.sk-toggleable__label-arrow:before {content: \"▸\";float: left;margin-right: 0.25em;color: #696969;}#sk-container-id-14 label.sk-toggleable__label-arrow:hover:before {color: black;}#sk-container-id-14 div.sk-estimator:hover label.sk-toggleable__label-arrow:before {color: black;}#sk-container-id-14 div.sk-toggleable__content {max-height: 0;max-width: 0;overflow: hidden;text-align: left;background-color: #f0f8ff;}#sk-container-id-14 div.sk-toggleable__content pre {margin: 0.2em;color: black;border-radius: 0.25em;background-color: #f0f8ff;}#sk-container-id-14 input.sk-toggleable__control:checked~div.sk-toggleable__content {max-height: 200px;max-width: 100%;overflow: auto;}#sk-container-id-14 input.sk-toggleable__control:checked~label.sk-toggleable__label-arrow:before {content: \"▾\";}#sk-container-id-14 div.sk-estimator input.sk-toggleable__control:checked~label.sk-toggleable__label {background-color: #d4ebff;}#sk-container-id-14 div.sk-label input.sk-toggleable__control:checked~label.sk-toggleable__label {background-color: #d4ebff;}#sk-container-id-14 input.sk-hidden--visually {border: 0;clip: rect(1px 1px 1px 1px);clip: rect(1px, 1px, 1px, 1px);height: 1px;margin: -1px;overflow: hidden;padding: 0;position: absolute;width: 1px;}#sk-container-id-14 div.sk-estimator {font-family: monospace;background-color: #f0f8ff;border: 1px dotted black;border-radius: 0.25em;box-sizing: border-box;margin-bottom: 0.5em;}#sk-container-id-14 div.sk-estimator:hover {background-color: #d4ebff;}#sk-container-id-14 div.sk-parallel-item::after {content: \"\";width: 100%;border-bottom: 1px solid gray;flex-grow: 1;}#sk-container-id-14 div.sk-label:hover label.sk-toggleable__label {background-color: #d4ebff;}#sk-container-id-14 div.sk-serial::before {content: \"\";position: absolute;border-left: 1px solid gray;box-sizing: border-box;top: 0;bottom: 0;left: 50%;z-index: 0;}#sk-container-id-14 div.sk-serial {display: flex;flex-direction: column;align-items: center;background-color: white;padding-right: 0.2em;padding-left: 0.2em;position: relative;}#sk-container-id-14 div.sk-item {position: relative;z-index: 1;}#sk-container-id-14 div.sk-parallel {display: flex;align-items: stretch;justify-content: center;background-color: white;position: relative;}#sk-container-id-14 div.sk-item::before, #sk-container-id-14 div.sk-parallel-item::before {content: \"\";position: absolute;border-left: 1px solid gray;box-sizing: border-box;top: 0;bottom: 0;left: 50%;z-index: -1;}#sk-container-id-14 div.sk-parallel-item {display: flex;flex-direction: column;z-index: 1;position: relative;background-color: white;}#sk-container-id-14 div.sk-parallel-item:first-child::after {align-self: flex-end;width: 50%;}#sk-container-id-14 div.sk-parallel-item:last-child::after {align-self: flex-start;width: 50%;}#sk-container-id-14 div.sk-parallel-item:only-child::after {width: 0;}#sk-container-id-14 div.sk-dashed-wrapped {border: 1px dashed gray;margin: 0 0.4em 0.5em 0.4em;box-sizing: border-box;padding-bottom: 0.4em;background-color: white;}#sk-container-id-14 div.sk-label label {font-family: monospace;font-weight: bold;display: inline-block;line-height: 1.2em;}#sk-container-id-14 div.sk-label-container {text-align: center;}#sk-container-id-14 div.sk-container {/* jupyter's `normalize.less` sets `[hidden] { display: none; }` but bootstrap.min.css set `[hidden] { display: none !important; }` so we also need the `!important` here to be able to override the default hidden behavior on the sphinx rendered scikit-learn.org. See: https://github.com/scikit-learn/scikit-learn/issues/21755 */display: inline-block !important;position: relative;}#sk-container-id-14 div.sk-text-repr-fallback {display: none;}</style><div id=\"sk-container-id-14\" class=\"sk-top-container\"><div class=\"sk-text-repr-fallback\"><pre>RandomForestClassifier()</pre><b>In a Jupyter environment, please rerun this cell to show the HTML representation or trust the notebook. <br />On GitHub, the HTML representation is unable to render, please try loading this page with nbviewer.org.</b></div><div class=\"sk-container\" hidden><div class=\"sk-item\"><div class=\"sk-estimator sk-toggleable\"><input class=\"sk-toggleable__control sk-hidden--visually\" id=\"sk-estimator-id-14\" type=\"checkbox\" checked><label for=\"sk-estimator-id-14\" class=\"sk-toggleable__label sk-toggleable__label-arrow\">RandomForestClassifier</label><div class=\"sk-toggleable__content\"><pre>RandomForestClassifier()</pre></div></div></div></div></div>"
      ],
      "text/plain": [
       "RandomForestClassifier()"
      ]
     },
     "execution_count": 275,
     "metadata": {},
     "output_type": "execute_result"
    }
   ],
   "source": [
    "rf.fit(X_train,  y_train)\n"
   ]
  },
  {
   "cell_type": "code",
   "execution_count": 276,
   "id": "e1fe03f8",
   "metadata": {},
   "outputs": [
    {
     "data": {
      "text/plain": [
       "array([2, 2, 0, 1, 1, 0, 1, 1, 0, 1, 1, 1, 2, 1, 0, 1, 1, 0, 1, 0, 0, 2,\n",
       "       1, 0, 0, 0, 2, 1, 2, 1])"
      ]
     },
     "execution_count": 276,
     "metadata": {},
     "output_type": "execute_result"
    }
   ],
   "source": [
    "prediction = rf.predict(X_test)\n",
    "prediction"
   ]
  },
  {
   "cell_type": "code",
   "execution_count": 277,
   "id": "f0f929e5",
   "metadata": {},
   "outputs": [
    {
     "data": {
      "text/plain": [
       "array([ True,  True,  True,  True,  True,  True,  True,  True,  True,\n",
       "        True,  True,  True,  True,  True,  True,  True,  True,  True,\n",
       "        True,  True,  True,  True,  True,  True,  True,  True,  True,\n",
       "        True,  True,  True])"
      ]
     },
     "execution_count": 277,
     "metadata": {},
     "output_type": "execute_result"
    }
   ],
   "source": [
    "prediction == y_test"
   ]
  },
  {
   "cell_type": "code",
   "execution_count": 278,
   "id": "2097f154",
   "metadata": {},
   "outputs": [
    {
     "name": "stdout",
     "output_type": "stream",
     "text": [
      "accuracy of random forest (default setting):  1.0\n"
     ]
    }
   ],
   "source": [
    "print(\"accuracy of random forest (default setting): \" , np.sum(prediction==y_test)/len(y_test))"
   ]
  },
  {
   "cell_type": "markdown",
   "id": "4d11a878",
   "metadata": {},
   "source": [
    "# XG boost"
   ]
  },
  {
   "cell_type": "code",
   "execution_count": 279,
   "id": "f7600327",
   "metadata": {},
   "outputs": [],
   "source": [
    "from xgboost import XGBClassifier"
   ]
  },
  {
   "cell_type": "code",
   "execution_count": 280,
   "id": "77149325",
   "metadata": {},
   "outputs": [
    {
     "data": {
      "text/html": [
       "<style>#sk-container-id-15 {color: black;background-color: white;}#sk-container-id-15 pre{padding: 0;}#sk-container-id-15 div.sk-toggleable {background-color: white;}#sk-container-id-15 label.sk-toggleable__label {cursor: pointer;display: block;width: 100%;margin-bottom: 0;padding: 0.3em;box-sizing: border-box;text-align: center;}#sk-container-id-15 label.sk-toggleable__label-arrow:before {content: \"▸\";float: left;margin-right: 0.25em;color: #696969;}#sk-container-id-15 label.sk-toggleable__label-arrow:hover:before {color: black;}#sk-container-id-15 div.sk-estimator:hover label.sk-toggleable__label-arrow:before {color: black;}#sk-container-id-15 div.sk-toggleable__content {max-height: 0;max-width: 0;overflow: hidden;text-align: left;background-color: #f0f8ff;}#sk-container-id-15 div.sk-toggleable__content pre {margin: 0.2em;color: black;border-radius: 0.25em;background-color: #f0f8ff;}#sk-container-id-15 input.sk-toggleable__control:checked~div.sk-toggleable__content {max-height: 200px;max-width: 100%;overflow: auto;}#sk-container-id-15 input.sk-toggleable__control:checked~label.sk-toggleable__label-arrow:before {content: \"▾\";}#sk-container-id-15 div.sk-estimator input.sk-toggleable__control:checked~label.sk-toggleable__label {background-color: #d4ebff;}#sk-container-id-15 div.sk-label input.sk-toggleable__control:checked~label.sk-toggleable__label {background-color: #d4ebff;}#sk-container-id-15 input.sk-hidden--visually {border: 0;clip: rect(1px 1px 1px 1px);clip: rect(1px, 1px, 1px, 1px);height: 1px;margin: -1px;overflow: hidden;padding: 0;position: absolute;width: 1px;}#sk-container-id-15 div.sk-estimator {font-family: monospace;background-color: #f0f8ff;border: 1px dotted black;border-radius: 0.25em;box-sizing: border-box;margin-bottom: 0.5em;}#sk-container-id-15 div.sk-estimator:hover {background-color: #d4ebff;}#sk-container-id-15 div.sk-parallel-item::after {content: \"\";width: 100%;border-bottom: 1px solid gray;flex-grow: 1;}#sk-container-id-15 div.sk-label:hover label.sk-toggleable__label {background-color: #d4ebff;}#sk-container-id-15 div.sk-serial::before {content: \"\";position: absolute;border-left: 1px solid gray;box-sizing: border-box;top: 0;bottom: 0;left: 50%;z-index: 0;}#sk-container-id-15 div.sk-serial {display: flex;flex-direction: column;align-items: center;background-color: white;padding-right: 0.2em;padding-left: 0.2em;position: relative;}#sk-container-id-15 div.sk-item {position: relative;z-index: 1;}#sk-container-id-15 div.sk-parallel {display: flex;align-items: stretch;justify-content: center;background-color: white;position: relative;}#sk-container-id-15 div.sk-item::before, #sk-container-id-15 div.sk-parallel-item::before {content: \"\";position: absolute;border-left: 1px solid gray;box-sizing: border-box;top: 0;bottom: 0;left: 50%;z-index: -1;}#sk-container-id-15 div.sk-parallel-item {display: flex;flex-direction: column;z-index: 1;position: relative;background-color: white;}#sk-container-id-15 div.sk-parallel-item:first-child::after {align-self: flex-end;width: 50%;}#sk-container-id-15 div.sk-parallel-item:last-child::after {align-self: flex-start;width: 50%;}#sk-container-id-15 div.sk-parallel-item:only-child::after {width: 0;}#sk-container-id-15 div.sk-dashed-wrapped {border: 1px dashed gray;margin: 0 0.4em 0.5em 0.4em;box-sizing: border-box;padding-bottom: 0.4em;background-color: white;}#sk-container-id-15 div.sk-label label {font-family: monospace;font-weight: bold;display: inline-block;line-height: 1.2em;}#sk-container-id-15 div.sk-label-container {text-align: center;}#sk-container-id-15 div.sk-container {/* jupyter's `normalize.less` sets `[hidden] { display: none; }` but bootstrap.min.css set `[hidden] { display: none !important; }` so we also need the `!important` here to be able to override the default hidden behavior on the sphinx rendered scikit-learn.org. See: https://github.com/scikit-learn/scikit-learn/issues/21755 */display: inline-block !important;position: relative;}#sk-container-id-15 div.sk-text-repr-fallback {display: none;}</style><div id=\"sk-container-id-15\" class=\"sk-top-container\"><div class=\"sk-text-repr-fallback\"><pre>XGBClassifier(base_score=None, booster=None, callbacks=None,\n",
       "              colsample_bylevel=None, colsample_bynode=None,\n",
       "              colsample_bytree=None, early_stopping_rounds=None,\n",
       "              enable_categorical=False, eval_metric=None, feature_types=None,\n",
       "              gamma=None, gpu_id=None, grow_policy=None, importance_type=None,\n",
       "              interaction_constraints=None, learning_rate=None, max_bin=None,\n",
       "              max_cat_threshold=None, max_cat_to_onehot=None,\n",
       "              max_delta_step=None, max_depth=None, max_leaves=None,\n",
       "              min_child_weight=None, missing=nan, monotone_constraints=None,\n",
       "              n_estimators=100, n_jobs=None, num_parallel_tree=None,\n",
       "              predictor=None, random_state=None, ...)</pre><b>In a Jupyter environment, please rerun this cell to show the HTML representation or trust the notebook. <br />On GitHub, the HTML representation is unable to render, please try loading this page with nbviewer.org.</b></div><div class=\"sk-container\" hidden><div class=\"sk-item\"><div class=\"sk-estimator sk-toggleable\"><input class=\"sk-toggleable__control sk-hidden--visually\" id=\"sk-estimator-id-15\" type=\"checkbox\" checked><label for=\"sk-estimator-id-15\" class=\"sk-toggleable__label sk-toggleable__label-arrow\">XGBClassifier</label><div class=\"sk-toggleable__content\"><pre>XGBClassifier(base_score=None, booster=None, callbacks=None,\n",
       "              colsample_bylevel=None, colsample_bynode=None,\n",
       "              colsample_bytree=None, early_stopping_rounds=None,\n",
       "              enable_categorical=False, eval_metric=None, feature_types=None,\n",
       "              gamma=None, gpu_id=None, grow_policy=None, importance_type=None,\n",
       "              interaction_constraints=None, learning_rate=None, max_bin=None,\n",
       "              max_cat_threshold=None, max_cat_to_onehot=None,\n",
       "              max_delta_step=None, max_depth=None, max_leaves=None,\n",
       "              min_child_weight=None, missing=nan, monotone_constraints=None,\n",
       "              n_estimators=100, n_jobs=None, num_parallel_tree=None,\n",
       "              predictor=None, random_state=None, ...)</pre></div></div></div></div></div>"
      ],
      "text/plain": [
       "XGBClassifier(base_score=None, booster=None, callbacks=None,\n",
       "              colsample_bylevel=None, colsample_bynode=None,\n",
       "              colsample_bytree=None, early_stopping_rounds=None,\n",
       "              enable_categorical=False, eval_metric=None, feature_types=None,\n",
       "              gamma=None, gpu_id=None, grow_policy=None, importance_type=None,\n",
       "              interaction_constraints=None, learning_rate=None, max_bin=None,\n",
       "              max_cat_threshold=None, max_cat_to_onehot=None,\n",
       "              max_delta_step=None, max_depth=None, max_leaves=None,\n",
       "              min_child_weight=None, missing=nan, monotone_constraints=None,\n",
       "              n_estimators=100, n_jobs=None, num_parallel_tree=None,\n",
       "              predictor=None, random_state=None, ...)"
      ]
     },
     "execution_count": 280,
     "metadata": {},
     "output_type": "execute_result"
    }
   ],
   "source": [
    "xgb = XGBClassifier()\n",
    "xgb"
   ]
  },
  {
   "cell_type": "code",
   "execution_count": 281,
   "id": "963ba150",
   "metadata": {},
   "outputs": [
    {
     "data": {
      "text/html": [
       "<style>#sk-container-id-16 {color: black;background-color: white;}#sk-container-id-16 pre{padding: 0;}#sk-container-id-16 div.sk-toggleable {background-color: white;}#sk-container-id-16 label.sk-toggleable__label {cursor: pointer;display: block;width: 100%;margin-bottom: 0;padding: 0.3em;box-sizing: border-box;text-align: center;}#sk-container-id-16 label.sk-toggleable__label-arrow:before {content: \"▸\";float: left;margin-right: 0.25em;color: #696969;}#sk-container-id-16 label.sk-toggleable__label-arrow:hover:before {color: black;}#sk-container-id-16 div.sk-estimator:hover label.sk-toggleable__label-arrow:before {color: black;}#sk-container-id-16 div.sk-toggleable__content {max-height: 0;max-width: 0;overflow: hidden;text-align: left;background-color: #f0f8ff;}#sk-container-id-16 div.sk-toggleable__content pre {margin: 0.2em;color: black;border-radius: 0.25em;background-color: #f0f8ff;}#sk-container-id-16 input.sk-toggleable__control:checked~div.sk-toggleable__content {max-height: 200px;max-width: 100%;overflow: auto;}#sk-container-id-16 input.sk-toggleable__control:checked~label.sk-toggleable__label-arrow:before {content: \"▾\";}#sk-container-id-16 div.sk-estimator input.sk-toggleable__control:checked~label.sk-toggleable__label {background-color: #d4ebff;}#sk-container-id-16 div.sk-label input.sk-toggleable__control:checked~label.sk-toggleable__label {background-color: #d4ebff;}#sk-container-id-16 input.sk-hidden--visually {border: 0;clip: rect(1px 1px 1px 1px);clip: rect(1px, 1px, 1px, 1px);height: 1px;margin: -1px;overflow: hidden;padding: 0;position: absolute;width: 1px;}#sk-container-id-16 div.sk-estimator {font-family: monospace;background-color: #f0f8ff;border: 1px dotted black;border-radius: 0.25em;box-sizing: border-box;margin-bottom: 0.5em;}#sk-container-id-16 div.sk-estimator:hover {background-color: #d4ebff;}#sk-container-id-16 div.sk-parallel-item::after {content: \"\";width: 100%;border-bottom: 1px solid gray;flex-grow: 1;}#sk-container-id-16 div.sk-label:hover label.sk-toggleable__label {background-color: #d4ebff;}#sk-container-id-16 div.sk-serial::before {content: \"\";position: absolute;border-left: 1px solid gray;box-sizing: border-box;top: 0;bottom: 0;left: 50%;z-index: 0;}#sk-container-id-16 div.sk-serial {display: flex;flex-direction: column;align-items: center;background-color: white;padding-right: 0.2em;padding-left: 0.2em;position: relative;}#sk-container-id-16 div.sk-item {position: relative;z-index: 1;}#sk-container-id-16 div.sk-parallel {display: flex;align-items: stretch;justify-content: center;background-color: white;position: relative;}#sk-container-id-16 div.sk-item::before, #sk-container-id-16 div.sk-parallel-item::before {content: \"\";position: absolute;border-left: 1px solid gray;box-sizing: border-box;top: 0;bottom: 0;left: 50%;z-index: -1;}#sk-container-id-16 div.sk-parallel-item {display: flex;flex-direction: column;z-index: 1;position: relative;background-color: white;}#sk-container-id-16 div.sk-parallel-item:first-child::after {align-self: flex-end;width: 50%;}#sk-container-id-16 div.sk-parallel-item:last-child::after {align-self: flex-start;width: 50%;}#sk-container-id-16 div.sk-parallel-item:only-child::after {width: 0;}#sk-container-id-16 div.sk-dashed-wrapped {border: 1px dashed gray;margin: 0 0.4em 0.5em 0.4em;box-sizing: border-box;padding-bottom: 0.4em;background-color: white;}#sk-container-id-16 div.sk-label label {font-family: monospace;font-weight: bold;display: inline-block;line-height: 1.2em;}#sk-container-id-16 div.sk-label-container {text-align: center;}#sk-container-id-16 div.sk-container {/* jupyter's `normalize.less` sets `[hidden] { display: none; }` but bootstrap.min.css set `[hidden] { display: none !important; }` so we also need the `!important` here to be able to override the default hidden behavior on the sphinx rendered scikit-learn.org. See: https://github.com/scikit-learn/scikit-learn/issues/21755 */display: inline-block !important;position: relative;}#sk-container-id-16 div.sk-text-repr-fallback {display: none;}</style><div id=\"sk-container-id-16\" class=\"sk-top-container\"><div class=\"sk-text-repr-fallback\"><pre>XGBClassifier(base_score=None, booster=None, callbacks=None,\n",
       "              colsample_bylevel=None, colsample_bynode=None,\n",
       "              colsample_bytree=None, early_stopping_rounds=None,\n",
       "              enable_categorical=False, eval_metric=None, feature_types=None,\n",
       "              gamma=None, gpu_id=None, grow_policy=None, importance_type=None,\n",
       "              interaction_constraints=None, learning_rate=None, max_bin=None,\n",
       "              max_cat_threshold=None, max_cat_to_onehot=None,\n",
       "              max_delta_step=None, max_depth=None, max_leaves=None,\n",
       "              min_child_weight=None, missing=nan, monotone_constraints=None,\n",
       "              n_estimators=100, n_jobs=None, num_parallel_tree=None,\n",
       "              objective=&#x27;multi:softprob&#x27;, predictor=None, ...)</pre><b>In a Jupyter environment, please rerun this cell to show the HTML representation or trust the notebook. <br />On GitHub, the HTML representation is unable to render, please try loading this page with nbviewer.org.</b></div><div class=\"sk-container\" hidden><div class=\"sk-item\"><div class=\"sk-estimator sk-toggleable\"><input class=\"sk-toggleable__control sk-hidden--visually\" id=\"sk-estimator-id-16\" type=\"checkbox\" checked><label for=\"sk-estimator-id-16\" class=\"sk-toggleable__label sk-toggleable__label-arrow\">XGBClassifier</label><div class=\"sk-toggleable__content\"><pre>XGBClassifier(base_score=None, booster=None, callbacks=None,\n",
       "              colsample_bylevel=None, colsample_bynode=None,\n",
       "              colsample_bytree=None, early_stopping_rounds=None,\n",
       "              enable_categorical=False, eval_metric=None, feature_types=None,\n",
       "              gamma=None, gpu_id=None, grow_policy=None, importance_type=None,\n",
       "              interaction_constraints=None, learning_rate=None, max_bin=None,\n",
       "              max_cat_threshold=None, max_cat_to_onehot=None,\n",
       "              max_delta_step=None, max_depth=None, max_leaves=None,\n",
       "              min_child_weight=None, missing=nan, monotone_constraints=None,\n",
       "              n_estimators=100, n_jobs=None, num_parallel_tree=None,\n",
       "              objective=&#x27;multi:softprob&#x27;, predictor=None, ...)</pre></div></div></div></div></div>"
      ],
      "text/plain": [
       "XGBClassifier(base_score=None, booster=None, callbacks=None,\n",
       "              colsample_bylevel=None, colsample_bynode=None,\n",
       "              colsample_bytree=None, early_stopping_rounds=None,\n",
       "              enable_categorical=False, eval_metric=None, feature_types=None,\n",
       "              gamma=None, gpu_id=None, grow_policy=None, importance_type=None,\n",
       "              interaction_constraints=None, learning_rate=None, max_bin=None,\n",
       "              max_cat_threshold=None, max_cat_to_onehot=None,\n",
       "              max_delta_step=None, max_depth=None, max_leaves=None,\n",
       "              min_child_weight=None, missing=nan, monotone_constraints=None,\n",
       "              n_estimators=100, n_jobs=None, num_parallel_tree=None,\n",
       "              objective='multi:softprob', predictor=None, ...)"
      ]
     },
     "execution_count": 281,
     "metadata": {},
     "output_type": "execute_result"
    }
   ],
   "source": [
    "xgb.fit(X_train, y_train)"
   ]
  },
  {
   "cell_type": "code",
   "execution_count": 282,
   "id": "72919d0e",
   "metadata": {},
   "outputs": [],
   "source": [
    "from sklearn import metrics\n"
   ]
  },
  {
   "cell_type": "code",
   "execution_count": 283,
   "id": "6d78f516",
   "metadata": {},
   "outputs": [
    {
     "data": {
      "text/plain": [
       "array([2, 2, 0, 1, 1, 0, 1, 1, 0, 1, 1, 1, 2, 1, 0, 1, 1, 0, 1, 0, 0, 2,\n",
       "       1, 0, 0, 0, 2, 1, 2, 1])"
      ]
     },
     "execution_count": 283,
     "metadata": {},
     "output_type": "execute_result"
    }
   ],
   "source": [
    "y_pred = xgb.predict(X_test)\n",
    "y_pred"
   ]
  },
  {
   "cell_type": "code",
   "execution_count": 284,
   "id": "076c84e3",
   "metadata": {},
   "outputs": [],
   "source": [
    "from sklearn import metrics"
   ]
  },
  {
   "cell_type": "code",
   "execution_count": 285,
   "id": "42305c74",
   "metadata": {},
   "outputs": [
    {
     "name": "stdout",
     "output_type": "stream",
     "text": [
      "1.0\n"
     ]
    }
   ],
   "source": [
    "print(metrics.accuracy_score(y_test, y_pred))"
   ]
  },
  {
   "cell_type": "code",
   "execution_count": 286,
   "id": "4747cc90",
   "metadata": {},
   "outputs": [
    {
     "data": {
      "text/plain": [
       "Index(['sepal length (cm)', 'sepal width (cm)', 'petal length (cm)',\n",
       "       'petal width (cm)', 'target'],\n",
       "      dtype='object')"
      ]
     },
     "execution_count": 286,
     "metadata": {},
     "output_type": "execute_result"
    }
   ],
   "source": [
    "xgb.feature_importances_\n",
    "df.columns"
   ]
  },
  {
   "cell_type": "code",
   "execution_count": 287,
   "id": "8ad1e369",
   "metadata": {},
   "outputs": [],
   "source": [
    "import xgboost"
   ]
  },
  {
   "cell_type": "code",
   "execution_count": 288,
   "id": "bfb1f053",
   "metadata": {},
   "outputs": [
    {
     "data": {
      "text/plain": [
       "<Axes: title={'center': 'Feature importance'}, xlabel='F score', ylabel='Features'>"
      ]
     },
     "execution_count": 288,
     "metadata": {},
     "output_type": "execute_result"
    },
    {
     "data": {
      "image/png": "[encoded data removed]",
      "text/plain": [
       "<Figure size 640x480 with 1 Axes>"
      ]
     },
     "metadata": {},
     "output_type": "display_data"
    }
   ],
   "source": [
    "xgboost.plot_importance(xgb, grid=False)"
   ]
  },
  {
   "cell_type": "markdown",
   "id": "9c6adc47",
   "metadata": {},
   "source": [
    "# Advanced_Python_week_11"
   ]
  },
  {
   "cell_type": "markdown",
   "id": "b63458dd",
   "metadata": {},
   "source": [
    "# K fold cross validation (CV)"
   ]
  },
  {
   "cell_type": "code",
   "execution_count": 289,
   "id": "834499d3",
   "metadata": {},
   "outputs": [],
   "source": [
    "from sklearn.model_selection import KFold\n",
    "from sklearn.model_selection import cross_val_score"
   ]
  },
  {
   "cell_type": "code",
   "execution_count": 290,
   "id": "93fcef99",
   "metadata": {},
   "outputs": [],
   "source": [
    "\n",
    "kfold = KFold(n_splits=5)"
   ]
  },
  {
   "cell_type": "code",
   "execution_count": 291,
   "id": "cf924811",
   "metadata": {},
   "outputs": [],
   "source": [
    "scores = cross_val_score(rf, features, label, cv=kfold)\n"
   ]
  },
  {
   "cell_type": "code",
   "execution_count": 292,
   "id": "e1de0dc9",
   "metadata": {},
   "outputs": [
    {
     "name": "stdout",
     "output_type": "stream",
     "text": [
      "fold accuracy:  [1.         1.         0.86666667 0.93333333 0.73333333]\n"
     ]
    }
   ],
   "source": [
    "print('fold accuracy: ', scores)\n"
   ]
  },
  {
   "cell_type": "code",
   "execution_count": 293,
   "id": "f1d245ea",
   "metadata": {},
   "outputs": [
    {
     "name": "stdout",
     "output_type": "stream",
     "text": [
      "fold mean accuracy:  0.9066666666666666\n"
     ]
    }
   ],
   "source": [
    "print('fold mean accuracy: ', np.mean(scores))\n"
   ]
  },
  {
   "cell_type": "markdown",
   "id": "b63e17cd",
   "metadata": {},
   "source": [
    "# Grid search & K fold CV"
   ]
  },
  {
   "cell_type": "code",
   "execution_count": 294,
   "id": "97ca2081",
   "metadata": {},
   "outputs": [],
   "source": [
    "from sklearn.model_selection import GridSearchCV"
   ]
  },
  {
   "cell_type": "code",
   "execution_count": 295,
   "id": "f9abb72a",
   "metadata": {},
   "outputs": [],
   "source": [
    "param_grid = {\n",
    "    'n_estimators' : [100, 150, 200, 250],\n",
    "    'max_depth' : [None, 6, 9, 12],\n",
    "    'min_samples_split' : [0.01, 0.05, 0.1],\n",
    "    'max_features' : ['auto', 'sqrt']\n",
    "}\n"
   ]
  },
  {
   "cell_type": "code",
   "execution_count": 296,
   "id": "f9dc9d45",
   "metadata": {},
   "outputs": [],
   "source": [
    "#model\n",
    "rf2 = RandomForestClassifier()"
   ]
  },
  {
   "cell_type": "code",
   "execution_count": 297,
   "id": "4a3900f9",
   "metadata": {},
   "outputs": [],
   "source": [
    "kfold2 = KFold(n_splits = 10)"
   ]
  },
  {
   "cell_type": "code",
   "execution_count": 298,
   "id": "e4c21064",
   "metadata": {},
   "outputs": [],
   "source": [
    "grid_search = GridSearchCV(estimator = rf2,\n",
    "                           param_grid = param_grid,\n",
    "                           cv = kfold2)"
   ]
  },
  {
   "cell_type": "code",
   "execution_count": 299,
   "id": "480287c6",
   "metadata": {},
   "outputs": [],
   "source": [
    "import warnings\n",
    "warnings.filterwarnings('ignore', category=FutureWarning)"
   ]
  },
  {
   "cell_type": "code",
   "execution_count": 301,
   "id": "c3b57c4a",
   "metadata": {},
   "outputs": [
    {
     "data": {
      "text/html": [
       "<style>#sk-container-id-18 {color: black;background-color: white;}#sk-container-id-18 pre{padding: 0;}#sk-container-id-18 div.sk-toggleable {background-color: white;}#sk-container-id-18 label.sk-toggleable__label {cursor: pointer;display: block;width: 100%;margin-bottom: 0;padding: 0.3em;box-sizing: border-box;text-align: center;}#sk-container-id-18 label.sk-toggleable__label-arrow:before {content: \"▸\";float: left;margin-right: 0.25em;color: #696969;}#sk-container-id-18 label.sk-toggleable__label-arrow:hover:before {color: black;}#sk-container-id-18 div.sk-estimator:hover label.sk-toggleable__label-arrow:before {color: black;}#sk-container-id-18 div.sk-toggleable__content {max-height: 0;max-width: 0;overflow: hidden;text-align: left;background-color: #f0f8ff;}#sk-container-id-18 div.sk-toggleable__content pre {margin: 0.2em;color: black;border-radius: 0.25em;background-color: #f0f8ff;}#sk-container-id-18 input.sk-toggleable__control:checked~div.sk-toggleable__content {max-height: 200px;max-width: 100%;overflow: auto;}#sk-container-id-18 input.sk-toggleable__control:checked~label.sk-toggleable__label-arrow:before {content: \"▾\";}#sk-container-id-18 div.sk-estimator input.sk-toggleable__control:checked~label.sk-toggleable__label {background-color: #d4ebff;}#sk-container-id-18 div.sk-label input.sk-toggleable__control:checked~label.sk-toggleable__label {background-color: #d4ebff;}#sk-container-id-18 input.sk-hidden--visually {border: 0;clip: rect(1px 1px 1px 1px);clip: rect(1px, 1px, 1px, 1px);height: 1px;margin: -1px;overflow: hidden;padding: 0;position: absolute;width: 1px;}#sk-container-id-18 div.sk-estimator {font-family: monospace;background-color: #f0f8ff;border: 1px dotted black;border-radius: 0.25em;box-sizing: border-box;margin-bottom: 0.5em;}#sk-container-id-18 div.sk-estimator:hover {background-color: #d4ebff;}#sk-container-id-18 div.sk-parallel-item::after {content: \"\";width: 100%;border-bottom: 1px solid gray;flex-grow: 1;}#sk-container-id-18 div.sk-label:hover label.sk-toggleable__label {background-color: #d4ebff;}#sk-container-id-18 div.sk-serial::before {content: \"\";position: absolute;border-left: 1px solid gray;box-sizing: border-box;top: 0;bottom: 0;left: 50%;z-index: 0;}#sk-container-id-18 div.sk-serial {display: flex;flex-direction: column;align-items: center;background-color: white;padding-right: 0.2em;padding-left: 0.2em;position: relative;}#sk-container-id-18 div.sk-item {position: relative;z-index: 1;}#sk-container-id-18 div.sk-parallel {display: flex;align-items: stretch;justify-content: center;background-color: white;position: relative;}#sk-container-id-18 div.sk-item::before, #sk-container-id-18 div.sk-parallel-item::before {content: \"\";position: absolute;border-left: 1px solid gray;box-sizing: border-box;top: 0;bottom: 0;left: 50%;z-index: -1;}#sk-container-id-18 div.sk-parallel-item {display: flex;flex-direction: column;z-index: 1;position: relative;background-color: white;}#sk-container-id-18 div.sk-parallel-item:first-child::after {align-self: flex-end;width: 50%;}#sk-container-id-18 div.sk-parallel-item:last-child::after {align-self: flex-start;width: 50%;}#sk-container-id-18 div.sk-parallel-item:only-child::after {width: 0;}#sk-container-id-18 div.sk-dashed-wrapped {border: 1px dashed gray;margin: 0 0.4em 0.5em 0.4em;box-sizing: border-box;padding-bottom: 0.4em;background-color: white;}#sk-container-id-18 div.sk-label label {font-family: monospace;font-weight: bold;display: inline-block;line-height: 1.2em;}#sk-container-id-18 div.sk-label-container {text-align: center;}#sk-container-id-18 div.sk-container {/* jupyter's `normalize.less` sets `[hidden] { display: none; }` but bootstrap.min.css set `[hidden] { display: none !important; }` so we also need the `!important` here to be able to override the default hidden behavior on the sphinx rendered scikit-learn.org. See: https://github.com/scikit-learn/scikit-learn/issues/21755 */display: inline-block !important;position: relative;}#sk-container-id-18 div.sk-text-repr-fallback {display: none;}</style><div id=\"sk-container-id-18\" class=\"sk-top-container\"><div class=\"sk-text-repr-fallback\"><pre>GridSearchCV(cv=KFold(n_splits=10, random_state=None, shuffle=False),\n",
       "             estimator=RandomForestClassifier(),\n",
       "             param_grid={&#x27;max_depth&#x27;: [None, 6, 9, 12],\n",
       "                         &#x27;max_features&#x27;: [&#x27;auto&#x27;, &#x27;sqrt&#x27;],\n",
       "                         &#x27;min_samples_split&#x27;: [0.01, 0.05, 0.1],\n",
       "                         &#x27;n_estimators&#x27;: [100, 150, 200, 250]})</pre><b>In a Jupyter environment, please rerun this cell to show the HTML representation or trust the notebook. <br />On GitHub, the HTML representation is unable to render, please try loading this page with nbviewer.org.</b></div><div class=\"sk-container\" hidden><div class=\"sk-item sk-dashed-wrapped\"><div class=\"sk-label-container\"><div class=\"sk-label sk-toggleable\"><input class=\"sk-toggleable__control sk-hidden--visually\" id=\"sk-estimator-id-20\" type=\"checkbox\" ><label for=\"sk-estimator-id-20\" class=\"sk-toggleable__label sk-toggleable__label-arrow\">GridSearchCV</label><div class=\"sk-toggleable__content\"><pre>GridSearchCV(cv=KFold(n_splits=10, random_state=None, shuffle=False),\n",
       "             estimator=RandomForestClassifier(),\n",
       "             param_grid={&#x27;max_depth&#x27;: [None, 6, 9, 12],\n",
       "                         &#x27;max_features&#x27;: [&#x27;auto&#x27;, &#x27;sqrt&#x27;],\n",
       "                         &#x27;min_samples_split&#x27;: [0.01, 0.05, 0.1],\n",
       "                         &#x27;n_estimators&#x27;: [100, 150, 200, 250]})</pre></div></div></div><div class=\"sk-parallel\"><div class=\"sk-parallel-item\"><div class=\"sk-item\"><div class=\"sk-label-container\"><div class=\"sk-label sk-toggleable\"><input class=\"sk-toggleable__control sk-hidden--visually\" id=\"sk-estimator-id-21\" type=\"checkbox\" ><label for=\"sk-estimator-id-21\" class=\"sk-toggleable__label sk-toggleable__label-arrow\">estimator: RandomForestClassifier</label><div class=\"sk-toggleable__content\"><pre>RandomForestClassifier()</pre></div></div></div><div class=\"sk-serial\"><div class=\"sk-item\"><div class=\"sk-estimator sk-toggleable\"><input class=\"sk-toggleable__control sk-hidden--visually\" id=\"sk-estimator-id-22\" type=\"checkbox\" ><label for=\"sk-estimator-id-22\" class=\"sk-toggleable__label sk-toggleable__label-arrow\">RandomForestClassifier</label><div class=\"sk-toggleable__content\"><pre>RandomForestClassifier()</pre></div></div></div></div></div></div></div></div></div></div>"
      ],
      "text/plain": [
       "GridSearchCV(cv=KFold(n_splits=10, random_state=None, shuffle=False),\n",
       "             estimator=RandomForestClassifier(),\n",
       "             param_grid={'max_depth': [None, 6, 9, 12],\n",
       "                         'max_features': ['auto', 'sqrt'],\n",
       "                         'min_samples_split': [0.01, 0.05, 0.1],\n",
       "                         'n_estimators': [100, 150, 200, 250]})"
      ]
     },
     "execution_count": 301,
     "metadata": {},
     "output_type": "execute_result"
    }
   ],
   "source": [
    "grid_search.fit(features, label)"
   ]
  },
  {
   "cell_type": "code",
   "execution_count": 303,
   "id": "d998f1fa",
   "metadata": {},
   "outputs": [
    {
     "data": {
      "text/plain": [
       "{'max_depth': None,\n",
       " 'max_features': 'auto',\n",
       " 'min_samples_split': 0.01,\n",
       " 'n_estimators': 100}"
      ]
     },
     "execution_count": 303,
     "metadata": {},
     "output_type": "execute_result"
    }
   ],
   "source": [
    "grid_search.best_params_"
   ]
  },
  {
   "cell_type": "code",
   "execution_count": 304,
   "id": "d02acc5b",
   "metadata": {},
   "outputs": [],
   "source": [
    "#best params\n",
    "rf_best = RandomForestClassifier(max_depth=None,\n",
    "                                 max_features= 'auto',\n",
    "                                 min_samples_split= 0.01,\n",
    "                                 n_estimators= 100)"
   ]
  },
  {
   "cell_type": "markdown",
   "id": "940aa8e2",
   "metadata": {},
   "source": [
    "# Advanced_Python_week_12"
   ]
  },
  {
   "cell_type": "markdown",
   "id": "2c8fa593",
   "metadata": {},
   "source": [
    "# PCA"
   ]
  },
  {
   "cell_type": "code",
   "execution_count": 305,
   "id": "5b3b12c6",
   "metadata": {},
   "outputs": [],
   "source": [
    "from sklearn.decomposition import PCA"
   ]
  },
  {
   "cell_type": "code",
   "execution_count": 306,
   "id": "da52666e",
   "metadata": {},
   "outputs": [
    {
     "data": {
      "text/html": [
       "<style>#sk-container-id-19 {color: black;background-color: white;}#sk-container-id-19 pre{padding: 0;}#sk-container-id-19 div.sk-toggleable {background-color: white;}#sk-container-id-19 label.sk-toggleable__label {cursor: pointer;display: block;width: 100%;margin-bottom: 0;padding: 0.3em;box-sizing: border-box;text-align: center;}#sk-container-id-19 label.sk-toggleable__label-arrow:before {content: \"▸\";float: left;margin-right: 0.25em;color: #696969;}#sk-container-id-19 label.sk-toggleable__label-arrow:hover:before {color: black;}#sk-container-id-19 div.sk-estimator:hover label.sk-toggleable__label-arrow:before {color: black;}#sk-container-id-19 div.sk-toggleable__content {max-height: 0;max-width: 0;overflow: hidden;text-align: left;background-color: #f0f8ff;}#sk-container-id-19 div.sk-toggleable__content pre {margin: 0.2em;color: black;border-radius: 0.25em;background-color: #f0f8ff;}#sk-container-id-19 input.sk-toggleable__control:checked~div.sk-toggleable__content {max-height: 200px;max-width: 100%;overflow: auto;}#sk-container-id-19 input.sk-toggleable__control:checked~label.sk-toggleable__label-arrow:before {content: \"▾\";}#sk-container-id-19 div.sk-estimator input.sk-toggleable__control:checked~label.sk-toggleable__label {background-color: #d4ebff;}#sk-container-id-19 div.sk-label input.sk-toggleable__control:checked~label.sk-toggleable__label {background-color: #d4ebff;}#sk-container-id-19 input.sk-hidden--visually {border: 0;clip: rect(1px 1px 1px 1px);clip: rect(1px, 1px, 1px, 1px);height: 1px;margin: -1px;overflow: hidden;padding: 0;position: absolute;width: 1px;}#sk-container-id-19 div.sk-estimator {font-family: monospace;background-color: #f0f8ff;border: 1px dotted black;border-radius: 0.25em;box-sizing: border-box;margin-bottom: 0.5em;}#sk-container-id-19 div.sk-estimator:hover {background-color: #d4ebff;}#sk-container-id-19 div.sk-parallel-item::after {content: \"\";width: 100%;border-bottom: 1px solid gray;flex-grow: 1;}#sk-container-id-19 div.sk-label:hover label.sk-toggleable__label {background-color: #d4ebff;}#sk-container-id-19 div.sk-serial::before {content: \"\";position: absolute;border-left: 1px solid gray;box-sizing: border-box;top: 0;bottom: 0;left: 50%;z-index: 0;}#sk-container-id-19 div.sk-serial {display: flex;flex-direction: column;align-items: center;background-color: white;padding-right: 0.2em;padding-left: 0.2em;position: relative;}#sk-container-id-19 div.sk-item {position: relative;z-index: 1;}#sk-container-id-19 div.sk-parallel {display: flex;align-items: stretch;justify-content: center;background-color: white;position: relative;}#sk-container-id-19 div.sk-item::before, #sk-container-id-19 div.sk-parallel-item::before {content: \"\";position: absolute;border-left: 1px solid gray;box-sizing: border-box;top: 0;bottom: 0;left: 50%;z-index: -1;}#sk-container-id-19 div.sk-parallel-item {display: flex;flex-direction: column;z-index: 1;position: relative;background-color: white;}#sk-container-id-19 div.sk-parallel-item:first-child::after {align-self: flex-end;width: 50%;}#sk-container-id-19 div.sk-parallel-item:last-child::after {align-self: flex-start;width: 50%;}#sk-container-id-19 div.sk-parallel-item:only-child::after {width: 0;}#sk-container-id-19 div.sk-dashed-wrapped {border: 1px dashed gray;margin: 0 0.4em 0.5em 0.4em;box-sizing: border-box;padding-bottom: 0.4em;background-color: white;}#sk-container-id-19 div.sk-label label {font-family: monospace;font-weight: bold;display: inline-block;line-height: 1.2em;}#sk-container-id-19 div.sk-label-container {text-align: center;}#sk-container-id-19 div.sk-container {/* jupyter's `normalize.less` sets `[hidden] { display: none; }` but bootstrap.min.css set `[hidden] { display: none !important; }` so we also need the `!important` here to be able to override the default hidden behavior on the sphinx rendered scikit-learn.org. See: https://github.com/scikit-learn/scikit-learn/issues/21755 */display: inline-block !important;position: relative;}#sk-container-id-19 div.sk-text-repr-fallback {display: none;}</style><div id=\"sk-container-id-19\" class=\"sk-top-container\"><div class=\"sk-text-repr-fallback\"><pre>PCA(n_components=2)</pre><b>In a Jupyter environment, please rerun this cell to show the HTML representation or trust the notebook. <br />On GitHub, the HTML representation is unable to render, please try loading this page with nbviewer.org.</b></div><div class=\"sk-container\" hidden><div class=\"sk-item\"><div class=\"sk-estimator sk-toggleable\"><input class=\"sk-toggleable__control sk-hidden--visually\" id=\"sk-estimator-id-23\" type=\"checkbox\" checked><label for=\"sk-estimator-id-23\" class=\"sk-toggleable__label sk-toggleable__label-arrow\">PCA</label><div class=\"sk-toggleable__content\"><pre>PCA(n_components=2)</pre></div></div></div></div></div>"
      ],
      "text/plain": [
       "PCA(n_components=2)"
      ]
     },
     "execution_count": 306,
     "metadata": {},
     "output_type": "execute_result"
    }
   ],
   "source": [
    "pca = PCA(n_components=2)\n",
    "pca.fit(X)"
   ]
  },
  {
   "cell_type": "code",
   "execution_count": 307,
   "id": "09ca6251",
   "metadata": {},
   "outputs": [
    {
     "name": "stdout",
     "output_type": "stream",
     "text": [
      "[4.22824171 0.24267075]\n"
     ]
    }
   ],
   "source": [
    "print(pca.explained_variance_)"
   ]
  },
  {
   "cell_type": "code",
   "execution_count": 308,
   "id": "f804d0ee",
   "metadata": {},
   "outputs": [],
   "source": [
    "PCscore = pca.transform(X)"
   ]
  },
  {
   "cell_type": "code",
   "execution_count": 309,
   "id": "3bf4c2dd",
   "metadata": {},
   "outputs": [
    {
     "data": {
      "image/png": "[encoded data removed]",
      "text/plain": [
       "<Figure size 640x480 with 1 Axes>"
      ]
     },
     "metadata": {},
     "output_type": "display_data"
    }
   ],
   "source": [
    "#PC score scatter plot\n",
    "plt.scatter(PCscore[:,0], PCscore[:,1])\n",
    "plt.xlabel('PC1')\n",
    "plt.show()"
   ]
  },
  {
   "cell_type": "markdown",
   "id": "bfd23319",
   "metadata": {},
   "source": [
    "# TSNE"
   ]
  },
  {
   "cell_type": "code",
   "execution_count": 310,
   "id": "12fbe6cc",
   "metadata": {},
   "outputs": [],
   "source": [
    "from sklearn.manifold import TSNE"
   ]
  },
  {
   "cell_type": "code",
   "execution_count": 311,
   "id": "2bccca12",
   "metadata": {},
   "outputs": [],
   "source": [
    "tsne = TSNE(n_components=2)\n",
    "tsne_result = tsne.fit_transform(X)"
   ]
  },
  {
   "cell_type": "code",
   "execution_count": 312,
   "id": "15c735f5",
   "metadata": {},
   "outputs": [
    {
     "data": {
      "image/png": "[encoded data removed]",
      "text/plain": [
       "<Figure size 640x480 with 1 Axes>"
      ]
     },
     "metadata": {},
     "output_type": "display_data"
    }
   ],
   "source": [
    "plt.scatter(tsne_result[:,0], tsne_result[:,1])\n",
    "plt.show()"
   ]
  },
  {
   "cell_type": "markdown",
   "id": "e73974fd",
   "metadata": {},
   "source": [
    "# Advanced_Python_week_13"
   ]
  },
  {
   "cell_type": "markdown",
   "id": "e75ea100",
   "metadata": {},
   "source": [
    "# ANN"
   ]
  },
  {
   "cell_type": "code",
   "execution_count": 313,
   "id": "72145ca5",
   "metadata": {},
   "outputs": [],
   "source": [
    "def relu(x):\n",
    "    return np.maximum(0, x)\n",
    "def step_function(x):\n",
    "    return np.array(x>0)\n",
    "def sigmoid(x):\n",
    "    return 1 / (1+np.exp(-x))"
   ]
  },
  {
   "cell_type": "code",
   "execution_count": null,
   "id": "3bf01495",
   "metadata": {},
   "outputs": [],
   "source": []
  },
  {
   "cell_type": "code",
   "execution_count": 314,
   "id": "ba042007",
   "metadata": {},
   "outputs": [
    {
     "data": {
      "text/plain": [
       "(2,)"
      ]
     },
     "execution_count": 314,
     "metadata": {},
     "output_type": "execute_result"
    }
   ],
   "source": [
    "x = np.array([1, 0.5])\n",
    "x.shape"
   ]
  },
  {
   "cell_type": "code",
   "execution_count": 315,
   "id": "3111c262",
   "metadata": {},
   "outputs": [
    {
     "data": {
      "text/plain": [
       "(3,)"
      ]
     },
     "execution_count": 315,
     "metadata": {},
     "output_type": "execute_result"
    }
   ],
   "source": [
    "w1 = np.array([[0.1, 0.3, 0.5], [0.2, 0.4, 0.6]])\n",
    "w1.shape\n",
    "np.dot(x, w1).shape"
   ]
  },
  {
   "cell_type": "code",
   "execution_count": 316,
   "id": "4862d0bf",
   "metadata": {},
   "outputs": [
    {
     "data": {
      "text/plain": [
       "(3,)"
      ]
     },
     "execution_count": 316,
     "metadata": {},
     "output_type": "execute_result"
    }
   ],
   "source": [
    "b1 = np.array([0.1, 0.2, 0.3])\n",
    "b1.shape"
   ]
  },
  {
   "cell_type": "code",
   "execution_count": 317,
   "id": "c36274dd",
   "metadata": {},
   "outputs": [],
   "source": [
    "a1 = np.dot(x, w1)+b1"
   ]
  },
  {
   "cell_type": "code",
   "execution_count": 318,
   "id": "53f00ed7",
   "metadata": {},
   "outputs": [],
   "source": [
    "z1 = sigmoid(a1)"
   ]
  },
  {
   "cell_type": "code",
   "execution_count": 319,
   "id": "e7446b2d",
   "metadata": {},
   "outputs": [],
   "source": [
    "y = [0.1, 0.05, 0.6, 0.0, 0.05, 0.1, 0.0, 0.1, 0.0, 0.0] # 신경망의 출력 (예측값)\n",
    "t = [0, 0, 1, 0, 0, 0, 0, 0, 0, 0] # 정답"
   ]
  },
  {
   "cell_type": "code",
   "execution_count": 320,
   "id": "3d9f2639",
   "metadata": {},
   "outputs": [
    {
     "name": "stdout",
     "output_type": "stream",
     "text": [
      "0.019500000000000007\n"
     ]
    }
   ],
   "source": [
    "len_y = len(y)\n",
    "\n",
    "def loss_squared_error(len_y,y,t):\n",
    "    sum = 0\n",
    "    for i in range(len_y):\n",
    "        error = y[i] - t[i]\n",
    "        sum += (error)**2\n",
    "    MSE = sum / len_y      \n",
    "    return(MSE)\n",
    "\n",
    "print(loss_squared_error(len_y,y,t))"
   ]
  },
  {
   "cell_type": "markdown",
   "id": "75dca08b",
   "metadata": {},
   "source": [
    "# Optimzer(tensor flow)"
   ]
  },
  {
   "cell_type": "code",
   "execution_count": 321,
   "id": "0ec808e2",
   "metadata": {},
   "outputs": [],
   "source": [
    "import tensorflow as tf"
   ]
  },
  {
   "cell_type": "code",
   "execution_count": 322,
   "id": "b8cdb610",
   "metadata": {},
   "outputs": [
    {
     "name": "stderr",
     "output_type": "stream",
     "text": [
      "WARNING:absl:At this time, the v2.11+ optimizer `tf.keras.optimizers.Adam` runs slowly on M1/M2 Macs, please use the legacy Keras optimizer instead, located at `tf.keras.optimizers.legacy.Adam`.\n"
     ]
    },
    {
     "data": {
      "text/plain": [
       "<keras.src.optimizers.adam.Adam at 0x28d39a6d0>"
      ]
     },
     "execution_count": 322,
     "metadata": {},
     "output_type": "execute_result"
    }
   ],
   "source": [
    "tf.keras.optimizers.Adam(learning_rate=0.001)"
   ]
  },
  {
   "cell_type": "code",
   "execution_count": 323,
   "id": "86f67a65",
   "metadata": {},
   "outputs": [
    {
     "name": "stderr",
     "output_type": "stream",
     "text": [
      "WARNING:absl:At this time, the v2.11+ optimizer `tf.keras.optimizers.Adagrad` runs slowly on M1/M2 Macs, please use the legacy Keras optimizer instead, located at `tf.keras.optimizers.legacy.Adagrad`.\n"
     ]
    },
    {
     "data": {
      "text/plain": [
       "<keras.src.optimizers.adagrad.Adagrad at 0x2a009dad0>"
      ]
     },
     "execution_count": 323,
     "metadata": {},
     "output_type": "execute_result"
    }
   ],
   "source": [
    "tf.keras.optimizers.Adagrad(learning_rate=0.001)"
   ]
  },
  {
   "cell_type": "code",
   "execution_count": 324,
   "id": "0bcb2806",
   "metadata": {},
   "outputs": [
    {
     "name": "stderr",
     "output_type": "stream",
     "text": [
      "WARNING:absl:At this time, the v2.11+ optimizer `tf.keras.optimizers.AdamW` runs slowly on M1/M2 Macs, please use the legacy Keras optimizer instead, located at `tf.keras.optimizers.legacy.AdamW`.\n"
     ]
    },
    {
     "data": {
      "text/plain": [
       "<keras.src.optimizers.adamw.AdamW at 0x2a009fd90>"
      ]
     },
     "execution_count": 324,
     "metadata": {},
     "output_type": "execute_result"
    }
   ],
   "source": [
    "tf.keras.optimizers.AdamW(learning_rate=0.001)"
   ]
  },
  {
   "cell_type": "code",
   "execution_count": 325,
   "id": "2131bbbf",
   "metadata": {},
   "outputs": [
    {
     "name": "stderr",
     "output_type": "stream",
     "text": [
      "WARNING:absl:At this time, the v2.11+ optimizer `tf.keras.optimizers.RMSprop` runs slowly on M1/M2 Macs, please use the legacy Keras optimizer instead, located at `tf.keras.optimizers.legacy.RMSprop`.\n"
     ]
    },
    {
     "data": {
      "text/plain": [
       "<keras.src.optimizers.rmsprop.RMSprop at 0x2a00ad810>"
      ]
     },
     "execution_count": 325,
     "metadata": {},
     "output_type": "execute_result"
    }
   ],
   "source": [
    "tf.keras.optimizers.RMSprop(learning_rate=0.001)"
   ]
  },
  {
   "cell_type": "markdown",
   "id": "aa9e0f60",
   "metadata": {},
   "source": [
    "# Advanced_Python_week_14"
   ]
  },
  {
   "cell_type": "markdown",
   "id": "3440209c",
   "metadata": {},
   "source": [
    "# Deep learning"
   ]
  },
  {
   "cell_type": "code",
   "execution_count": 326,
   "id": "d5be5503",
   "metadata": {},
   "outputs": [],
   "source": [
    "import tensorflow as tf\n",
    "import numpy as np\n",
    "from tensorflow import keras"
   ]
  },
  {
   "cell_type": "code",
   "execution_count": 327,
   "id": "65c6589c",
   "metadata": {},
   "outputs": [],
   "source": [
    "#model\n",
    "model = keras.Sequential([keras.layers.Dense(units=1, input_shape= [1])])"
   ]
  },
  {
   "cell_type": "code",
   "execution_count": 328,
   "id": "61a0a1a4",
   "metadata": {},
   "outputs": [],
   "source": [
    "#optimzer and loss function\n",
    "model.compile(optimizer='sgd', loss='mean_squared_error')"
   ]
  },
  {
   "cell_type": "code",
   "execution_count": 329,
   "id": "6091a764",
   "metadata": {},
   "outputs": [],
   "source": [
    "#data input\n",
    "xs = np.array([-1, 0, 1, 2, 3, 4], dtype=float)\n",
    "ys = np.array([-3, -1, 1, 3, 5, 7], dtype=float)"
   ]
  },
  {
   "cell_type": "code",
   "execution_count": 330,
   "id": "a2109cfc",
   "metadata": {},
   "outputs": [
    {
     "name": "stdout",
     "output_type": "stream",
     "text": [
      "Epoch 1/500\n",
      "1/1 [==============================] - 0s 102ms/step - loss: 10.1109\n",
      "Epoch 2/500\n",
      "1/1 [==============================] - 0s 2ms/step - loss: 8.1662\n",
      "Epoch 3/500\n",
      "1/1 [==============================] - 0s 1ms/step - loss: 6.6319\n",
      "Epoch 4/500\n",
      "1/1 [==============================] - 0s 2ms/step - loss: 5.4206\n",
      "Epoch 5/500\n",
      "1/1 [==============================] - 0s 2ms/step - loss: 4.4634\n",
      "Epoch 6/500\n",
      "1/1 [==============================] - 0s 1ms/step - loss: 3.7062\n",
      "Epoch 7/500\n",
      "1/1 [==============================] - 0s 1ms/step - loss: 3.1065\n",
      "Epoch 8/500\n",
      "1/1 [==============================] - 0s 1ms/step - loss: 2.6308\n",
      "Epoch 9/500\n",
      "1/1 [==============================] - 0s 1ms/step - loss: 2.2526\n",
      "Epoch 10/500\n",
      "1/1 [==============================] - 0s 1ms/step - loss: 1.9514\n",
      "Epoch 11/500\n",
      "1/1 [==============================] - 0s 2ms/step - loss: 1.7107\n",
      "Epoch 12/500\n",
      "1/1 [==============================] - 0s 1ms/step - loss: 1.5178\n",
      "Epoch 13/500\n",
      "1/1 [==============================] - 0s 1ms/step - loss: 1.3624\n",
      "Epoch 14/500\n",
      "1/1 [==============================] - 0s 1ms/step - loss: 1.2367\n",
      "Epoch 15/500\n",
      "1/1 [==============================] - 0s 1ms/step - loss: 1.1345\n",
      "Epoch 16/500\n",
      "1/1 [==============================] - 0s 1ms/step - loss: 1.0507\n",
      "Epoch 17/500\n",
      "1/1 [==============================] - 0s 2ms/step - loss: 0.9816\n",
      "Epoch 18/500\n",
      "1/1 [==============================] - 0s 2ms/step - loss: 0.9240\n",
      "Epoch 19/500\n",
      "1/1 [==============================] - 0s 2ms/step - loss: 0.8755\n",
      "Epoch 20/500\n",
      "1/1 [==============================] - 0s 1ms/step - loss: 0.8344\n",
      "Epoch 21/500\n",
      "1/1 [==============================] - 0s 2ms/step - loss: 0.7990\n",
      "Epoch 22/500\n",
      "1/1 [==============================] - 0s 2ms/step - loss: 0.7683\n",
      "Epoch 23/500\n",
      "1/1 [==============================] - 0s 2ms/step - loss: 0.7412\n",
      "Epoch 24/500\n",
      "1/1 [==============================] - 0s 2ms/step - loss: 0.7171\n",
      "Epoch 25/500\n",
      "1/1 [==============================] - 0s 1ms/step - loss: 0.6954\n",
      "Epoch 26/500\n",
      "1/1 [==============================] - 0s 1ms/step - loss: 0.6756\n",
      "Epoch 27/500\n",
      "1/1 [==============================] - 0s 1ms/step - loss: 0.6574\n",
      "Epoch 28/500\n",
      "1/1 [==============================] - 0s 3ms/step - loss: 0.6405\n",
      "Epoch 29/500\n",
      "1/1 [==============================] - 0s 2ms/step - loss: 0.6247\n",
      "Epoch 30/500\n",
      "1/1 [==============================] - 0s 1ms/step - loss: 0.6097\n",
      "Epoch 31/500\n",
      "1/1 [==============================] - 0s 2ms/step - loss: 0.5956\n",
      "Epoch 32/500\n",
      "1/1 [==============================] - 0s 2ms/step - loss: 0.5820\n",
      "Epoch 33/500\n",
      "1/1 [==============================] - 0s 2ms/step - loss: 0.5691\n",
      "Epoch 34/500\n",
      "1/1 [==============================] - 0s 2ms/step - loss: 0.5566\n",
      "Epoch 35/500\n",
      "1/1 [==============================] - 0s 2ms/step - loss: 0.5445\n",
      "Epoch 36/500\n",
      "1/1 [==============================] - 0s 2ms/step - loss: 0.5328\n",
      "Epoch 37/500\n",
      "1/1 [==============================] - 0s 1ms/step - loss: 0.5215\n",
      "Epoch 38/500\n",
      "1/1 [==============================] - 0s 1ms/step - loss: 0.5104\n",
      "Epoch 39/500\n",
      "1/1 [==============================] - 0s 1ms/step - loss: 0.4997\n",
      "Epoch 40/500\n",
      "1/1 [==============================] - 0s 1ms/step - loss: 0.4893\n",
      "Epoch 41/500\n",
      "1/1 [==============================] - 0s 2ms/step - loss: 0.4791\n",
      "Epoch 42/500\n",
      "1/1 [==============================] - 0s 2ms/step - loss: 0.4691\n",
      "Epoch 43/500\n",
      "1/1 [==============================] - 0s 2ms/step - loss: 0.4594\n",
      "Epoch 44/500\n",
      "1/1 [==============================] - 0s 2ms/step - loss: 0.4499\n",
      "Epoch 45/500\n",
      "1/1 [==============================] - 0s 1ms/step - loss: 0.4406\n",
      "Epoch 46/500\n",
      "1/1 [==============================] - 0s 2ms/step - loss: 0.4315\n",
      "Epoch 47/500\n",
      "1/1 [==============================] - 0s 1ms/step - loss: 0.4226\n",
      "Epoch 48/500\n",
      "1/1 [==============================] - 0s 1ms/step - loss: 0.4139\n",
      "Epoch 49/500\n",
      "1/1 [==============================] - 0s 1ms/step - loss: 0.4053\n",
      "Epoch 50/500\n",
      "1/1 [==============================] - 0s 1ms/step - loss: 0.3970\n",
      "Epoch 51/500\n",
      "1/1 [==============================] - 0s 3ms/step - loss: 0.3888\n",
      "Epoch 52/500\n",
      "1/1 [==============================] - 0s 2ms/step - loss: 0.3808\n",
      "Epoch 53/500\n",
      "1/1 [==============================] - 0s 2ms/step - loss: 0.3730\n",
      "Epoch 54/500\n",
      "1/1 [==============================] - 0s 1ms/step - loss: 0.3653\n",
      "Epoch 55/500\n",
      "1/1 [==============================] - 0s 2ms/step - loss: 0.3578\n",
      "Epoch 56/500\n",
      "1/1 [==============================] - 0s 1ms/step - loss: 0.3505\n",
      "Epoch 57/500\n",
      "1/1 [==============================] - 0s 1ms/step - loss: 0.3433\n",
      "Epoch 58/500\n",
      "1/1 [==============================] - 0s 1ms/step - loss: 0.3362\n",
      "Epoch 59/500\n",
      "1/1 [==============================] - 0s 2ms/step - loss: 0.3293\n",
      "Epoch 60/500\n",
      "1/1 [==============================] - 0s 2ms/step - loss: 0.3225\n",
      "Epoch 61/500\n",
      "1/1 [==============================] - 0s 2ms/step - loss: 0.3159\n",
      "Epoch 62/500\n",
      "1/1 [==============================] - 0s 1ms/step - loss: 0.3094\n",
      "Epoch 63/500\n",
      "1/1 [==============================] - 0s 1ms/step - loss: 0.3031\n",
      "Epoch 64/500\n",
      "1/1 [==============================] - 0s 1ms/step - loss: 0.2968\n",
      "Epoch 65/500\n",
      "1/1 [==============================] - 0s 2ms/step - loss: 0.2907\n",
      "Epoch 66/500\n",
      "1/1 [==============================] - 0s 2ms/step - loss: 0.2848\n",
      "Epoch 67/500\n",
      "1/1 [==============================] - 0s 1ms/step - loss: 0.2789\n",
      "Epoch 68/500\n",
      "1/1 [==============================] - 0s 1ms/step - loss: 0.2732\n",
      "Epoch 69/500\n",
      "1/1 [==============================] - 0s 1ms/step - loss: 0.2676\n",
      "Epoch 70/500\n",
      "1/1 [==============================] - 0s 1ms/step - loss: 0.2621\n",
      "Epoch 71/500\n",
      "1/1 [==============================] - 0s 1ms/step - loss: 0.2567\n",
      "Epoch 72/500\n",
      "1/1 [==============================] - 0s 1ms/step - loss: 0.2514\n",
      "Epoch 73/500\n",
      "1/1 [==============================] - 0s 1ms/step - loss: 0.2463\n",
      "Epoch 74/500\n",
      "1/1 [==============================] - 0s 2ms/step - loss: 0.2412\n",
      "Epoch 75/500\n",
      "1/1 [==============================] - 0s 2ms/step - loss: 0.2363\n",
      "Epoch 76/500\n",
      "1/1 [==============================] - 0s 2ms/step - loss: 0.2314\n",
      "Epoch 77/500\n",
      "1/1 [==============================] - 0s 1ms/step - loss: 0.2266\n",
      "Epoch 78/500\n",
      "1/1 [==============================] - 0s 1ms/step - loss: 0.2220\n",
      "Epoch 79/500\n",
      "1/1 [==============================] - 0s 1ms/step - loss: 0.2174\n",
      "Epoch 80/500\n",
      "1/1 [==============================] - 0s 1ms/step - loss: 0.2130\n",
      "Epoch 81/500\n",
      "1/1 [==============================] - 0s 1ms/step - loss: 0.2086\n",
      "Epoch 82/500\n",
      "1/1 [==============================] - 0s 1ms/step - loss: 0.2043\n",
      "Epoch 83/500\n",
      "1/1 [==============================] - 0s 2ms/step - loss: 0.2001\n",
      "Epoch 84/500\n",
      "1/1 [==============================] - 0s 2ms/step - loss: 0.1960\n",
      "Epoch 85/500\n",
      "1/1 [==============================] - 0s 1ms/step - loss: 0.1920\n",
      "Epoch 86/500\n",
      "1/1 [==============================] - 0s 1ms/step - loss: 0.1880\n",
      "Epoch 87/500\n",
      "1/1 [==============================] - 0s 1ms/step - loss: 0.1842\n",
      "Epoch 88/500\n",
      "1/1 [==============================] - 0s 1ms/step - loss: 0.1804\n",
      "Epoch 89/500\n",
      "1/1 [==============================] - 0s 1ms/step - loss: 0.1767\n",
      "Epoch 90/500\n",
      "1/1 [==============================] - 0s 1ms/step - loss: 0.1731\n",
      "Epoch 91/500\n",
      "1/1 [==============================] - 0s 1ms/step - loss: 0.1695\n",
      "Epoch 92/500\n",
      "1/1 [==============================] - 0s 2ms/step - loss: 0.1660\n",
      "Epoch 93/500\n",
      "1/1 [==============================] - 0s 1ms/step - loss: 0.1626\n",
      "Epoch 94/500\n",
      "1/1 [==============================] - 0s 2ms/step - loss: 0.1593\n",
      "Epoch 95/500\n",
      "1/1 [==============================] - 0s 1ms/step - loss: 0.1560\n",
      "Epoch 96/500\n",
      "1/1 [==============================] - 0s 1ms/step - loss: 0.1528\n",
      "Epoch 97/500\n",
      "1/1 [==============================] - 0s 1ms/step - loss: 0.1497\n",
      "Epoch 98/500\n",
      "1/1 [==============================] - 0s 1ms/step - loss: 0.1466\n",
      "Epoch 99/500\n",
      "1/1 [==============================] - 0s 1ms/step - loss: 0.1436\n",
      "Epoch 100/500\n",
      "1/1 [==============================] - 0s 2ms/step - loss: 0.1406\n",
      "Epoch 101/500\n",
      "1/1 [==============================] - 0s 1ms/step - loss: 0.1377\n",
      "Epoch 102/500\n",
      "1/1 [==============================] - 0s 2ms/step - loss: 0.1349\n",
      "Epoch 103/500\n",
      "1/1 [==============================] - 0s 2ms/step - loss: 0.1321\n",
      "Epoch 104/500\n"
     ]
    },
    {
     "name": "stdout",
     "output_type": "stream",
     "text": [
      "1/1 [==============================] - 0s 2ms/step - loss: 0.1294\n",
      "Epoch 105/500\n",
      "1/1 [==============================] - 0s 1ms/step - loss: 0.1268\n",
      "Epoch 106/500\n",
      "1/1 [==============================] - 0s 2ms/step - loss: 0.1242\n",
      "Epoch 107/500\n",
      "1/1 [==============================] - 0s 2ms/step - loss: 0.1216\n",
      "Epoch 108/500\n",
      "1/1 [==============================] - 0s 3ms/step - loss: 0.1191\n",
      "Epoch 109/500\n",
      "1/1 [==============================] - 0s 2ms/step - loss: 0.1167\n",
      "Epoch 110/500\n",
      "1/1 [==============================] - 0s 2ms/step - loss: 0.1143\n",
      "Epoch 111/500\n",
      "1/1 [==============================] - 0s 2ms/step - loss: 0.1119\n",
      "Epoch 112/500\n",
      "1/1 [==============================] - 0s 2ms/step - loss: 0.1096\n",
      "Epoch 113/500\n",
      "1/1 [==============================] - 0s 1ms/step - loss: 0.1074\n",
      "Epoch 114/500\n",
      "1/1 [==============================] - 0s 4ms/step - loss: 0.1052\n",
      "Epoch 115/500\n",
      "1/1 [==============================] - 0s 2ms/step - loss: 0.1030\n",
      "Epoch 116/500\n",
      "1/1 [==============================] - 0s 1ms/step - loss: 0.1009\n",
      "Epoch 117/500\n",
      "1/1 [==============================] - 0s 2ms/step - loss: 0.0988\n",
      "Epoch 118/500\n",
      "1/1 [==============================] - 0s 2ms/step - loss: 0.0968\n",
      "Epoch 119/500\n",
      "1/1 [==============================] - 0s 1ms/step - loss: 0.0948\n",
      "Epoch 120/500\n",
      "1/1 [==============================] - 0s 1ms/step - loss: 0.0928\n",
      "Epoch 121/500\n",
      "1/1 [==============================] - 0s 2ms/step - loss: 0.0909\n",
      "Epoch 122/500\n",
      "1/1 [==============================] - 0s 1ms/step - loss: 0.0891\n",
      "Epoch 123/500\n",
      "1/1 [==============================] - 0s 1ms/step - loss: 0.0872\n",
      "Epoch 124/500\n",
      "1/1 [==============================] - 0s 1ms/step - loss: 0.0854\n",
      "Epoch 125/500\n",
      "1/1 [==============================] - 0s 1ms/step - loss: 0.0837\n",
      "Epoch 126/500\n",
      "1/1 [==============================] - 0s 1ms/step - loss: 0.0820\n",
      "Epoch 127/500\n",
      "1/1 [==============================] - 0s 1ms/step - loss: 0.0803\n",
      "Epoch 128/500\n",
      "1/1 [==============================] - 0s 1ms/step - loss: 0.0786\n",
      "Epoch 129/500\n",
      "1/1 [==============================] - 0s 1ms/step - loss: 0.0770\n",
      "Epoch 130/500\n",
      "1/1 [==============================] - 0s 2ms/step - loss: 0.0754\n",
      "Epoch 131/500\n",
      "1/1 [==============================] - 0s 1ms/step - loss: 0.0739\n",
      "Epoch 132/500\n",
      "1/1 [==============================] - 0s 1ms/step - loss: 0.0724\n",
      "Epoch 133/500\n",
      "1/1 [==============================] - 0s 1ms/step - loss: 0.0709\n",
      "Epoch 134/500\n",
      "1/1 [==============================] - 0s 1ms/step - loss: 0.0694\n",
      "Epoch 135/500\n",
      "1/1 [==============================] - 0s 1ms/step - loss: 0.0680\n",
      "Epoch 136/500\n",
      "1/1 [==============================] - 0s 2ms/step - loss: 0.0666\n",
      "Epoch 137/500\n",
      "1/1 [==============================] - 0s 1ms/step - loss: 0.0652\n",
      "Epoch 138/500\n",
      "1/1 [==============================] - 0s 2ms/step - loss: 0.0639\n",
      "Epoch 139/500\n",
      "1/1 [==============================] - 0s 2ms/step - loss: 0.0626\n",
      "Epoch 140/500\n",
      "1/1 [==============================] - 0s 1ms/step - loss: 0.0613\n",
      "Epoch 141/500\n",
      "1/1 [==============================] - 0s 1ms/step - loss: 0.0600\n",
      "Epoch 142/500\n",
      "1/1 [==============================] - 0s 1ms/step - loss: 0.0588\n",
      "Epoch 143/500\n",
      "1/1 [==============================] - 0s 1ms/step - loss: 0.0576\n",
      "Epoch 144/500\n",
      "1/1 [==============================] - 0s 1ms/step - loss: 0.0564\n",
      "Epoch 145/500\n",
      "1/1 [==============================] - 0s 2ms/step - loss: 0.0553\n",
      "Epoch 146/500\n",
      "1/1 [==============================] - 0s 2ms/step - loss: 0.0541\n",
      "Epoch 147/500\n",
      "1/1 [==============================] - 0s 2ms/step - loss: 0.0530\n",
      "Epoch 148/500\n",
      "1/1 [==============================] - 0s 2ms/step - loss: 0.0519\n",
      "Epoch 149/500\n",
      "1/1 [==============================] - 0s 1ms/step - loss: 0.0509\n",
      "Epoch 150/500\n",
      "1/1 [==============================] - 0s 1ms/step - loss: 0.0498\n",
      "Epoch 151/500\n",
      "1/1 [==============================] - 0s 1ms/step - loss: 0.0488\n",
      "Epoch 152/500\n",
      "1/1 [==============================] - 0s 1ms/step - loss: 0.0478\n",
      "Epoch 153/500\n",
      "1/1 [==============================] - 0s 1ms/step - loss: 0.0468\n",
      "Epoch 154/500\n",
      "1/1 [==============================] - 0s 1ms/step - loss: 0.0458\n",
      "Epoch 155/500\n",
      "1/1 [==============================] - 0s 1ms/step - loss: 0.0449\n",
      "Epoch 156/500\n",
      "1/1 [==============================] - 0s 2ms/step - loss: 0.0440\n",
      "Epoch 157/500\n",
      "1/1 [==============================] - 0s 2ms/step - loss: 0.0431\n",
      "Epoch 158/500\n",
      "1/1 [==============================] - 0s 2ms/step - loss: 0.0422\n",
      "Epoch 159/500\n",
      "1/1 [==============================] - 0s 2ms/step - loss: 0.0413\n",
      "Epoch 160/500\n",
      "1/1 [==============================] - 0s 1ms/step - loss: 0.0405\n",
      "Epoch 161/500\n",
      "1/1 [==============================] - 0s 1ms/step - loss: 0.0396\n",
      "Epoch 162/500\n",
      "1/1 [==============================] - 0s 2ms/step - loss: 0.0388\n",
      "Epoch 163/500\n",
      "1/1 [==============================] - 0s 2ms/step - loss: 0.0380\n",
      "Epoch 164/500\n",
      "1/1 [==============================] - 0s 2ms/step - loss: 0.0373\n",
      "Epoch 165/500\n",
      "1/1 [==============================] - 0s 1ms/step - loss: 0.0365\n",
      "Epoch 166/500\n",
      "1/1 [==============================] - 0s 2ms/step - loss: 0.0357\n",
      "Epoch 167/500\n",
      "1/1 [==============================] - 0s 1ms/step - loss: 0.0350\n",
      "Epoch 168/500\n",
      "1/1 [==============================] - 0s 1ms/step - loss: 0.0343\n",
      "Epoch 169/500\n",
      "1/1 [==============================] - 0s 1ms/step - loss: 0.0336\n",
      "Epoch 170/500\n",
      "1/1 [==============================] - 0s 1ms/step - loss: 0.0329\n",
      "Epoch 171/500\n",
      "1/1 [==============================] - 0s 1ms/step - loss: 0.0322\n",
      "Epoch 172/500\n",
      "1/1 [==============================] - 0s 1ms/step - loss: 0.0316\n",
      "Epoch 173/500\n",
      "1/1 [==============================] - 0s 1ms/step - loss: 0.0309\n",
      "Epoch 174/500\n",
      "1/1 [==============================] - 0s 2ms/step - loss: 0.0303\n",
      "Epoch 175/500\n",
      "1/1 [==============================] - 0s 2ms/step - loss: 0.0296\n",
      "Epoch 176/500\n",
      "1/1 [==============================] - 0s 1ms/step - loss: 0.0290\n",
      "Epoch 177/500\n",
      "1/1 [==============================] - 0s 2ms/step - loss: 0.0284\n",
      "Epoch 178/500\n",
      "1/1 [==============================] - 0s 2ms/step - loss: 0.0279\n",
      "Epoch 179/500\n",
      "1/1 [==============================] - 0s 2ms/step - loss: 0.0273\n",
      "Epoch 180/500\n",
      "1/1 [==============================] - 0s 1ms/step - loss: 0.0267\n",
      "Epoch 181/500\n",
      "1/1 [==============================] - 0s 2ms/step - loss: 0.0262\n",
      "Epoch 182/500\n",
      "1/1 [==============================] - 0s 2ms/step - loss: 0.0256\n",
      "Epoch 183/500\n",
      "1/1 [==============================] - 0s 3ms/step - loss: 0.0251\n",
      "Epoch 184/500\n",
      "1/1 [==============================] - 0s 1ms/step - loss: 0.0246\n",
      "Epoch 185/500\n",
      "1/1 [==============================] - 0s 1ms/step - loss: 0.0241\n",
      "Epoch 186/500\n",
      "1/1 [==============================] - 0s 1ms/step - loss: 0.0236\n",
      "Epoch 187/500\n",
      "1/1 [==============================] - 0s 1ms/step - loss: 0.0231\n",
      "Epoch 188/500\n",
      "1/1 [==============================] - 0s 1ms/step - loss: 0.0226\n",
      "Epoch 189/500\n",
      "1/1 [==============================] - 0s 2ms/step - loss: 0.0222\n",
      "Epoch 190/500\n",
      "1/1 [==============================] - 0s 2ms/step - loss: 0.0217\n",
      "Epoch 191/500\n",
      "1/1 [==============================] - 0s 2ms/step - loss: 0.0213\n",
      "Epoch 192/500\n",
      "1/1 [==============================] - 0s 1ms/step - loss: 0.0208\n",
      "Epoch 193/500\n",
      "1/1 [==============================] - 0s 2ms/step - loss: 0.0204\n",
      "Epoch 194/500\n",
      "1/1 [==============================] - 0s 1ms/step - loss: 0.0200\n",
      "Epoch 195/500\n",
      "1/1 [==============================] - 0s 1ms/step - loss: 0.0196\n",
      "Epoch 196/500\n",
      "1/1 [==============================] - 0s 1ms/step - loss: 0.0192\n",
      "Epoch 197/500\n",
      "1/1 [==============================] - 0s 1ms/step - loss: 0.0188\n",
      "Epoch 198/500\n",
      "1/1 [==============================] - 0s 1ms/step - loss: 0.0184\n",
      "Epoch 199/500\n",
      "1/1 [==============================] - 0s 1ms/step - loss: 0.0180\n",
      "Epoch 200/500\n",
      "1/1 [==============================] - 0s 2ms/step - loss: 0.0176\n",
      "Epoch 201/500\n",
      "1/1 [==============================] - 0s 2ms/step - loss: 0.0173\n",
      "Epoch 202/500\n",
      "1/1 [==============================] - 0s 1ms/step - loss: 0.0169\n",
      "Epoch 203/500\n",
      "1/1 [==============================] - 0s 1ms/step - loss: 0.0166\n",
      "Epoch 204/500\n",
      "1/1 [==============================] - 0s 1ms/step - loss: 0.0162\n",
      "Epoch 205/500\n",
      "1/1 [==============================] - 0s 1ms/step - loss: 0.0159\n",
      "Epoch 206/500\n"
     ]
    },
    {
     "name": "stdout",
     "output_type": "stream",
     "text": [
      "1/1 [==============================] - 0s 1ms/step - loss: 0.0156\n",
      "Epoch 207/500\n",
      "1/1 [==============================] - 0s 1ms/step - loss: 0.0153\n",
      "Epoch 208/500\n",
      "1/1 [==============================] - 0s 2ms/step - loss: 0.0149\n",
      "Epoch 209/500\n",
      "1/1 [==============================] - 0s 2ms/step - loss: 0.0146\n",
      "Epoch 210/500\n",
      "1/1 [==============================] - 0s 2ms/step - loss: 0.0143\n",
      "Epoch 211/500\n",
      "1/1 [==============================] - 0s 2ms/step - loss: 0.0140\n",
      "Epoch 212/500\n",
      "1/1 [==============================] - 0s 1ms/step - loss: 0.0138\n",
      "Epoch 213/500\n",
      "1/1 [==============================] - 0s 1ms/step - loss: 0.0135\n",
      "Epoch 214/500\n",
      "1/1 [==============================] - 0s 1ms/step - loss: 0.0132\n",
      "Epoch 215/500\n",
      "1/1 [==============================] - 0s 1ms/step - loss: 0.0129\n",
      "Epoch 216/500\n",
      "1/1 [==============================] - 0s 2ms/step - loss: 0.0127\n",
      "Epoch 217/500\n",
      "1/1 [==============================] - 0s 3ms/step - loss: 0.0124\n",
      "Epoch 218/500\n",
      "1/1 [==============================] - 0s 2ms/step - loss: 0.0121\n",
      "Epoch 219/500\n",
      "1/1 [==============================] - 0s 1ms/step - loss: 0.0119\n",
      "Epoch 220/500\n",
      "1/1 [==============================] - 0s 1ms/step - loss: 0.0117\n",
      "Epoch 221/500\n",
      "1/1 [==============================] - 0s 1ms/step - loss: 0.0114\n",
      "Epoch 222/500\n",
      "1/1 [==============================] - 0s 1ms/step - loss: 0.0112\n",
      "Epoch 223/500\n",
      "1/1 [==============================] - 0s 1ms/step - loss: 0.0109\n",
      "Epoch 224/500\n",
      "1/1 [==============================] - 0s 1ms/step - loss: 0.0107\n",
      "Epoch 225/500\n",
      "1/1 [==============================] - 0s 1ms/step - loss: 0.0105\n",
      "Epoch 226/500\n",
      "1/1 [==============================] - 0s 2ms/step - loss: 0.0103\n",
      "Epoch 227/500\n",
      "1/1 [==============================] - 0s 1ms/step - loss: 0.0101\n",
      "Epoch 228/500\n",
      "1/1 [==============================] - 0s 1ms/step - loss: 0.0099\n",
      "Epoch 229/500\n",
      "1/1 [==============================] - 0s 1ms/step - loss: 0.0097\n",
      "Epoch 230/500\n",
      "1/1 [==============================] - 0s 1ms/step - loss: 0.0095\n",
      "Epoch 231/500\n",
      "1/1 [==============================] - 0s 1ms/step - loss: 0.0093\n",
      "Epoch 232/500\n",
      "1/1 [==============================] - 0s 1ms/step - loss: 0.0091\n",
      "Epoch 233/500\n",
      "1/1 [==============================] - 0s 2ms/step - loss: 0.0089\n",
      "Epoch 234/500\n",
      "1/1 [==============================] - 0s 2ms/step - loss: 0.0087\n",
      "Epoch 235/500\n",
      "1/1 [==============================] - 0s 2ms/step - loss: 0.0085\n",
      "Epoch 236/500\n",
      "1/1 [==============================] - 0s 2ms/step - loss: 0.0084\n",
      "Epoch 237/500\n",
      "1/1 [==============================] - 0s 1ms/step - loss: 0.0082\n",
      "Epoch 238/500\n",
      "1/1 [==============================] - 0s 1ms/step - loss: 0.0080\n",
      "Epoch 239/500\n",
      "1/1 [==============================] - 0s 2ms/step - loss: 0.0079\n",
      "Epoch 240/500\n",
      "1/1 [==============================] - 0s 1ms/step - loss: 0.0077\n",
      "Epoch 241/500\n",
      "1/1 [==============================] - 0s 1ms/step - loss: 0.0075\n",
      "Epoch 242/500\n",
      "1/1 [==============================] - 0s 2ms/step - loss: 0.0074\n",
      "Epoch 243/500\n",
      "1/1 [==============================] - 0s 2ms/step - loss: 0.0072\n",
      "Epoch 244/500\n",
      "1/1 [==============================] - 0s 11ms/step - loss: 0.0071\n",
      "Epoch 245/500\n",
      "1/1 [==============================] - 0s 3ms/step - loss: 0.0069\n",
      "Epoch 246/500\n",
      "1/1 [==============================] - 0s 2ms/step - loss: 0.0068\n",
      "Epoch 247/500\n",
      "1/1 [==============================] - 0s 2ms/step - loss: 0.0067\n",
      "Epoch 248/500\n",
      "1/1 [==============================] - 0s 2ms/step - loss: 0.0065\n",
      "Epoch 249/500\n",
      "1/1 [==============================] - 0s 2ms/step - loss: 0.0064\n",
      "Epoch 250/500\n",
      "1/1 [==============================] - 0s 1ms/step - loss: 0.0063\n",
      "Epoch 251/500\n",
      "1/1 [==============================] - 0s 1ms/step - loss: 0.0061\n",
      "Epoch 252/500\n",
      "1/1 [==============================] - 0s 1ms/step - loss: 0.0060\n",
      "Epoch 253/500\n",
      "1/1 [==============================] - 0s 2ms/step - loss: 0.0059\n",
      "Epoch 254/500\n",
      "1/1 [==============================] - 0s 2ms/step - loss: 0.0058\n",
      "Epoch 255/500\n",
      "1/1 [==============================] - 0s 2ms/step - loss: 0.0056\n",
      "Epoch 256/500\n",
      "1/1 [==============================] - 0s 1ms/step - loss: 0.0055\n",
      "Epoch 257/500\n",
      "1/1 [==============================] - 0s 1ms/step - loss: 0.0054\n",
      "Epoch 258/500\n",
      "1/1 [==============================] - 0s 1ms/step - loss: 0.0053\n",
      "Epoch 259/500\n",
      "1/1 [==============================] - 0s 1ms/step - loss: 0.0052\n",
      "Epoch 260/500\n",
      "1/1 [==============================] - 0s 2ms/step - loss: 0.0051\n",
      "Epoch 261/500\n",
      "1/1 [==============================] - 0s 2ms/step - loss: 0.0050\n",
      "Epoch 262/500\n",
      "1/1 [==============================] - 0s 2ms/step - loss: 0.0049\n",
      "Epoch 263/500\n",
      "1/1 [==============================] - 0s 1ms/step - loss: 0.0048\n",
      "Epoch 264/500\n",
      "1/1 [==============================] - 0s 2ms/step - loss: 0.0047\n",
      "Epoch 265/500\n",
      "1/1 [==============================] - 0s 2ms/step - loss: 0.0046\n",
      "Epoch 266/500\n",
      "1/1 [==============================] - 0s 1ms/step - loss: 0.0045\n",
      "Epoch 267/500\n",
      "1/1 [==============================] - 0s 1ms/step - loss: 0.0044\n",
      "Epoch 268/500\n",
      "1/1 [==============================] - 0s 1ms/step - loss: 0.0043\n",
      "Epoch 269/500\n",
      "1/1 [==============================] - 0s 1ms/step - loss: 0.0042\n",
      "Epoch 270/500\n",
      "1/1 [==============================] - 0s 2ms/step - loss: 0.0041\n",
      "Epoch 271/500\n",
      "1/1 [==============================] - 0s 2ms/step - loss: 0.0040\n",
      "Epoch 272/500\n",
      "1/1 [==============================] - 0s 1ms/step - loss: 0.0040\n",
      "Epoch 273/500\n",
      "1/1 [==============================] - 0s 1ms/step - loss: 0.0039\n",
      "Epoch 274/500\n",
      "1/1 [==============================] - 0s 1ms/step - loss: 0.0038\n",
      "Epoch 275/500\n",
      "1/1 [==============================] - 0s 1ms/step - loss: 0.0037\n",
      "Epoch 276/500\n",
      "1/1 [==============================] - 0s 1ms/step - loss: 0.0036\n",
      "Epoch 277/500\n",
      "1/1 [==============================] - 0s 1ms/step - loss: 0.0036\n",
      "Epoch 278/500\n",
      "1/1 [==============================] - 0s 2ms/step - loss: 0.0035\n",
      "Epoch 279/500\n",
      "1/1 [==============================] - 0s 1ms/step - loss: 0.0034\n",
      "Epoch 280/500\n",
      "1/1 [==============================] - 0s 3ms/step - loss: 0.0034\n",
      "Epoch 281/500\n",
      "1/1 [==============================] - 0s 1ms/step - loss: 0.0033\n",
      "Epoch 282/500\n",
      "1/1 [==============================] - 0s 1ms/step - loss: 0.0032\n",
      "Epoch 283/500\n",
      "1/1 [==============================] - 0s 1ms/step - loss: 0.0032\n",
      "Epoch 284/500\n",
      "1/1 [==============================] - 0s 1ms/step - loss: 0.0031\n",
      "Epoch 285/500\n",
      "1/1 [==============================] - 0s 1ms/step - loss: 0.0030\n",
      "Epoch 286/500\n",
      "1/1 [==============================] - 0s 1ms/step - loss: 0.0030\n",
      "Epoch 287/500\n",
      "1/1 [==============================] - 0s 2ms/step - loss: 0.0029\n",
      "Epoch 288/500\n",
      "1/1 [==============================] - 0s 2ms/step - loss: 0.0028\n",
      "Epoch 289/500\n",
      "1/1 [==============================] - 0s 2ms/step - loss: 0.0028\n",
      "Epoch 290/500\n",
      "1/1 [==============================] - 0s 2ms/step - loss: 0.0027\n",
      "Epoch 291/500\n",
      "1/1 [==============================] - 0s 1ms/step - loss: 0.0027\n",
      "Epoch 292/500\n",
      "1/1 [==============================] - 0s 1ms/step - loss: 0.0026\n",
      "Epoch 293/500\n",
      "1/1 [==============================] - 0s 1ms/step - loss: 0.0026\n",
      "Epoch 294/500\n",
      "1/1 [==============================] - 0s 1ms/step - loss: 0.0025\n",
      "Epoch 295/500\n",
      "1/1 [==============================] - 0s 1ms/step - loss: 0.0025\n",
      "Epoch 296/500\n",
      "1/1 [==============================] - 0s 1ms/step - loss: 0.0024\n",
      "Epoch 297/500\n",
      "1/1 [==============================] - 0s 2ms/step - loss: 0.0024\n",
      "Epoch 298/500\n",
      "1/1 [==============================] - 0s 2ms/step - loss: 0.0023\n",
      "Epoch 299/500\n",
      "1/1 [==============================] - 0s 1ms/step - loss: 0.0023\n",
      "Epoch 300/500\n",
      "1/1 [==============================] - 0s 975us/step - loss: 0.0022\n",
      "Epoch 301/500\n",
      "1/1 [==============================] - 0s 1ms/step - loss: 0.0022\n",
      "Epoch 302/500\n",
      "1/1 [==============================] - 0s 1ms/step - loss: 0.0021\n",
      "Epoch 303/500\n",
      "1/1 [==============================] - 0s 2ms/step - loss: 0.0021\n",
      "Epoch 304/500\n",
      "1/1 [==============================] - 0s 2ms/step - loss: 0.0020\n",
      "Epoch 305/500\n",
      "1/1 [==============================] - 0s 2ms/step - loss: 0.0020\n",
      "Epoch 306/500\n",
      "1/1 [==============================] - 0s 2ms/step - loss: 0.0020\n",
      "Epoch 307/500\n",
      "1/1 [==============================] - 0s 1ms/step - loss: 0.0019\n",
      "Epoch 308/500\n"
     ]
    },
    {
     "name": "stdout",
     "output_type": "stream",
     "text": [
      "1/1 [==============================] - 0s 1ms/step - loss: 0.0019\n",
      "Epoch 309/500\n",
      "1/1 [==============================] - 0s 941us/step - loss: 0.0018\n",
      "Epoch 310/500\n",
      "1/1 [==============================] - 0s 1ms/step - loss: 0.0018\n",
      "Epoch 311/500\n",
      "1/1 [==============================] - 0s 1ms/step - loss: 0.0018\n",
      "Epoch 312/500\n",
      "1/1 [==============================] - 0s 1ms/step - loss: 0.0017\n",
      "Epoch 313/500\n",
      "1/1 [==============================] - 0s 1ms/step - loss: 0.0017\n",
      "Epoch 314/500\n",
      "1/1 [==============================] - 0s 1ms/step - loss: 0.0017\n",
      "Epoch 315/500\n",
      "1/1 [==============================] - 0s 2ms/step - loss: 0.0016\n",
      "Epoch 316/500\n",
      "1/1 [==============================] - 0s 2ms/step - loss: 0.0016\n",
      "Epoch 317/500\n",
      "1/1 [==============================] - 0s 1ms/step - loss: 0.0016\n",
      "Epoch 318/500\n",
      "1/1 [==============================] - 0s 1ms/step - loss: 0.0015\n",
      "Epoch 319/500\n",
      "1/1 [==============================] - 0s 1ms/step - loss: 0.0015\n",
      "Epoch 320/500\n",
      "1/1 [==============================] - 0s 1ms/step - loss: 0.0015\n",
      "Epoch 321/500\n",
      "1/1 [==============================] - 0s 1ms/step - loss: 0.0014\n",
      "Epoch 322/500\n",
      "1/1 [==============================] - 0s 2ms/step - loss: 0.0014\n",
      "Epoch 323/500\n",
      "1/1 [==============================] - 0s 3ms/step - loss: 0.0014\n",
      "Epoch 324/500\n",
      "1/1 [==============================] - 0s 2ms/step - loss: 0.0013\n",
      "Epoch 325/500\n",
      "1/1 [==============================] - 0s 1ms/step - loss: 0.0013\n",
      "Epoch 326/500\n",
      "1/1 [==============================] - 0s 2ms/step - loss: 0.0013\n",
      "Epoch 327/500\n",
      "1/1 [==============================] - 0s 2ms/step - loss: 0.0013\n",
      "Epoch 328/500\n",
      "1/1 [==============================] - 0s 2ms/step - loss: 0.0012\n",
      "Epoch 329/500\n",
      "1/1 [==============================] - 0s 1ms/step - loss: 0.0012\n",
      "Epoch 330/500\n",
      "1/1 [==============================] - 0s 2ms/step - loss: 0.0012\n",
      "Epoch 331/500\n",
      "1/1 [==============================] - 0s 1ms/step - loss: 0.0012\n",
      "Epoch 332/500\n",
      "1/1 [==============================] - 0s 2ms/step - loss: 0.0011\n",
      "Epoch 333/500\n",
      "1/1 [==============================] - 0s 1ms/step - loss: 0.0011\n",
      "Epoch 334/500\n",
      "1/1 [==============================] - 0s 2ms/step - loss: 0.0011\n",
      "Epoch 335/500\n",
      "1/1 [==============================] - 0s 2ms/step - loss: 0.0011\n",
      "Epoch 336/500\n",
      "1/1 [==============================] - 0s 2ms/step - loss: 0.0010\n",
      "Epoch 337/500\n",
      "1/1 [==============================] - 0s 2ms/step - loss: 0.0010\n",
      "Epoch 338/500\n",
      "1/1 [==============================] - 0s 2ms/step - loss: 0.0010\n",
      "Epoch 339/500\n",
      "1/1 [==============================] - 0s 1ms/step - loss: 9.8581e-04\n",
      "Epoch 340/500\n",
      "1/1 [==============================] - 0s 2ms/step - loss: 9.6555e-04\n",
      "Epoch 341/500\n",
      "1/1 [==============================] - 0s 2ms/step - loss: 9.4572e-04\n",
      "Epoch 342/500\n",
      "1/1 [==============================] - 0s 1ms/step - loss: 9.2630e-04\n",
      "Epoch 343/500\n",
      "1/1 [==============================] - 0s 1ms/step - loss: 9.0727e-04\n",
      "Epoch 344/500\n",
      "1/1 [==============================] - 0s 1ms/step - loss: 8.8863e-04\n",
      "Epoch 345/500\n",
      "1/1 [==============================] - 0s 2ms/step - loss: 8.7038e-04\n",
      "Epoch 346/500\n",
      "1/1 [==============================] - 0s 4ms/step - loss: 8.5250e-04\n",
      "Epoch 347/500\n",
      "1/1 [==============================] - 0s 2ms/step - loss: 8.3499e-04\n",
      "Epoch 348/500\n",
      "1/1 [==============================] - 0s 2ms/step - loss: 8.1784e-04\n",
      "Epoch 349/500\n",
      "1/1 [==============================] - 0s 1ms/step - loss: 8.0104e-04\n",
      "Epoch 350/500\n",
      "1/1 [==============================] - 0s 1ms/step - loss: 7.8459e-04\n",
      "Epoch 351/500\n",
      "1/1 [==============================] - 0s 1ms/step - loss: 7.6847e-04\n",
      "Epoch 352/500\n",
      "1/1 [==============================] - 0s 2ms/step - loss: 7.5269e-04\n",
      "Epoch 353/500\n",
      "1/1 [==============================] - 0s 2ms/step - loss: 7.3723e-04\n",
      "Epoch 354/500\n",
      "1/1 [==============================] - 0s 2ms/step - loss: 7.2208e-04\n",
      "Epoch 355/500\n",
      "1/1 [==============================] - 0s 1ms/step - loss: 7.0725e-04\n",
      "Epoch 356/500\n",
      "1/1 [==============================] - 0s 1ms/step - loss: 6.9272e-04\n",
      "Epoch 357/500\n",
      "1/1 [==============================] - 0s 1ms/step - loss: 6.7849e-04\n",
      "Epoch 358/500\n",
      "1/1 [==============================] - 0s 1ms/step - loss: 6.6455e-04\n",
      "Epoch 359/500\n",
      "1/1 [==============================] - 0s 1ms/step - loss: 6.5090e-04\n",
      "Epoch 360/500\n",
      "1/1 [==============================] - 0s 2ms/step - loss: 6.3753e-04\n",
      "Epoch 361/500\n",
      "1/1 [==============================] - 0s 1ms/step - loss: 6.2444e-04\n",
      "Epoch 362/500\n",
      "1/1 [==============================] - 0s 1ms/step - loss: 6.1161e-04\n",
      "Epoch 363/500\n",
      "1/1 [==============================] - 0s 2ms/step - loss: 5.9905e-04\n",
      "Epoch 364/500\n",
      "1/1 [==============================] - 0s 1ms/step - loss: 5.8674e-04\n",
      "Epoch 365/500\n",
      "1/1 [==============================] - 0s 1ms/step - loss: 5.7469e-04\n",
      "Epoch 366/500\n",
      "1/1 [==============================] - 0s 965us/step - loss: 5.6289e-04\n",
      "Epoch 367/500\n",
      "1/1 [==============================] - 0s 1ms/step - loss: 5.5132e-04\n",
      "Epoch 368/500\n",
      "1/1 [==============================] - 0s 1ms/step - loss: 5.4000e-04\n",
      "Epoch 369/500\n",
      "1/1 [==============================] - 0s 1ms/step - loss: 5.2891e-04\n",
      "Epoch 370/500\n",
      "1/1 [==============================] - 0s 1ms/step - loss: 5.1804e-04\n",
      "Epoch 371/500\n",
      "1/1 [==============================] - 0s 2ms/step - loss: 5.0740e-04\n",
      "Epoch 372/500\n",
      "1/1 [==============================] - 0s 2ms/step - loss: 4.9698e-04\n",
      "Epoch 373/500\n",
      "1/1 [==============================] - 0s 1ms/step - loss: 4.8677e-04\n",
      "Epoch 374/500\n",
      "1/1 [==============================] - 0s 1ms/step - loss: 4.7677e-04\n",
      "Epoch 375/500\n",
      "1/1 [==============================] - 0s 2ms/step - loss: 4.6698e-04\n",
      "Epoch 376/500\n",
      "1/1 [==============================] - 0s 1ms/step - loss: 4.5739e-04\n",
      "Epoch 377/500\n",
      "1/1 [==============================] - 0s 1ms/step - loss: 4.4799e-04\n",
      "Epoch 378/500\n",
      "1/1 [==============================] - 0s 2ms/step - loss: 4.3879e-04\n",
      "Epoch 379/500\n",
      "1/1 [==============================] - 0s 2ms/step - loss: 4.2978e-04\n",
      "Epoch 380/500\n",
      "1/1 [==============================] - 0s 2ms/step - loss: 4.2095e-04\n",
      "Epoch 381/500\n",
      "1/1 [==============================] - 0s 2ms/step - loss: 4.1230e-04\n",
      "Epoch 382/500\n",
      "1/1 [==============================] - 0s 1ms/step - loss: 4.0384e-04\n",
      "Epoch 383/500\n",
      "1/1 [==============================] - 0s 2ms/step - loss: 3.9554e-04\n",
      "Epoch 384/500\n",
      "1/1 [==============================] - 0s 1ms/step - loss: 3.8741e-04\n",
      "Epoch 385/500\n",
      "1/1 [==============================] - 0s 1ms/step - loss: 3.7946e-04\n",
      "Epoch 386/500\n",
      "1/1 [==============================] - 0s 1ms/step - loss: 3.7166e-04\n",
      "Epoch 387/500\n",
      "1/1 [==============================] - 0s 2ms/step - loss: 3.6403e-04\n",
      "Epoch 388/500\n",
      "1/1 [==============================] - 0s 2ms/step - loss: 3.5655e-04\n",
      "Epoch 389/500\n",
      "1/1 [==============================] - 0s 1ms/step - loss: 3.4923e-04\n",
      "Epoch 390/500\n",
      "1/1 [==============================] - 0s 1ms/step - loss: 3.4205e-04\n",
      "Epoch 391/500\n",
      "1/1 [==============================] - 0s 1ms/step - loss: 3.3503e-04\n",
      "Epoch 392/500\n",
      "1/1 [==============================] - 0s 1ms/step - loss: 3.2815e-04\n",
      "Epoch 393/500\n",
      "1/1 [==============================] - 0s 1ms/step - loss: 3.2141e-04\n",
      "Epoch 394/500\n",
      "1/1 [==============================] - 0s 1ms/step - loss: 3.1481e-04\n",
      "Epoch 395/500\n",
      "1/1 [==============================] - 0s 1ms/step - loss: 3.0834e-04\n",
      "Epoch 396/500\n",
      "1/1 [==============================] - 0s 1ms/step - loss: 3.0201e-04\n",
      "Epoch 397/500\n",
      "1/1 [==============================] - 0s 2ms/step - loss: 2.9580e-04\n",
      "Epoch 398/500\n",
      "1/1 [==============================] - 0s 2ms/step - loss: 2.8973e-04\n",
      "Epoch 399/500\n",
      "1/1 [==============================] - 0s 1ms/step - loss: 2.8378e-04\n",
      "Epoch 400/500\n",
      "1/1 [==============================] - 0s 1ms/step - loss: 2.7795e-04\n",
      "Epoch 401/500\n",
      "1/1 [==============================] - 0s 1ms/step - loss: 2.7224e-04\n",
      "Epoch 402/500\n",
      "1/1 [==============================] - 0s 2ms/step - loss: 2.6665e-04\n",
      "Epoch 403/500\n",
      "1/1 [==============================] - 0s 1ms/step - loss: 2.6117e-04\n",
      "Epoch 404/500\n",
      "1/1 [==============================] - 0s 2ms/step - loss: 2.5581e-04\n",
      "Epoch 405/500\n",
      "1/1 [==============================] - 0s 1ms/step - loss: 2.5055e-04\n",
      "Epoch 406/500\n",
      "1/1 [==============================] - 0s 2ms/step - loss: 2.4540e-04\n",
      "Epoch 407/500\n"
     ]
    },
    {
     "name": "stdout",
     "output_type": "stream",
     "text": [
      "1/1 [==============================] - 0s 1ms/step - loss: 2.4036e-04\n",
      "Epoch 408/500\n",
      "1/1 [==============================] - 0s 1ms/step - loss: 2.3542e-04\n",
      "Epoch 409/500\n",
      "1/1 [==============================] - 0s 1ms/step - loss: 2.3059e-04\n",
      "Epoch 410/500\n",
      "1/1 [==============================] - 0s 1ms/step - loss: 2.2585e-04\n",
      "Epoch 411/500\n",
      "1/1 [==============================] - 0s 2ms/step - loss: 2.2121e-04\n",
      "Epoch 412/500\n",
      "1/1 [==============================] - 0s 2ms/step - loss: 2.1667e-04\n",
      "Epoch 413/500\n",
      "1/1 [==============================] - 0s 2ms/step - loss: 2.1222e-04\n",
      "Epoch 414/500\n",
      "1/1 [==============================] - 0s 3ms/step - loss: 2.0786e-04\n",
      "Epoch 415/500\n",
      "1/1 [==============================] - 0s 1ms/step - loss: 2.0359e-04\n",
      "Epoch 416/500\n",
      "1/1 [==============================] - 0s 1ms/step - loss: 1.9941e-04\n",
      "Epoch 417/500\n",
      "1/1 [==============================] - 0s 1ms/step - loss: 1.9531e-04\n",
      "Epoch 418/500\n",
      "1/1 [==============================] - 0s 998us/step - loss: 1.9130e-04\n",
      "Epoch 419/500\n",
      "1/1 [==============================] - 0s 1ms/step - loss: 1.8737e-04\n",
      "Epoch 420/500\n",
      "1/1 [==============================] - 0s 1ms/step - loss: 1.8352e-04\n",
      "Epoch 421/500\n",
      "1/1 [==============================] - 0s 2ms/step - loss: 1.7975e-04\n",
      "Epoch 422/500\n",
      "1/1 [==============================] - 0s 2ms/step - loss: 1.7606e-04\n",
      "Epoch 423/500\n",
      "1/1 [==============================] - 0s 1ms/step - loss: 1.7244e-04\n",
      "Epoch 424/500\n",
      "1/1 [==============================] - 0s 2ms/step - loss: 1.6890e-04\n",
      "Epoch 425/500\n",
      "1/1 [==============================] - 0s 1ms/step - loss: 1.6543e-04\n",
      "Epoch 426/500\n",
      "1/1 [==============================] - 0s 1ms/step - loss: 1.6204e-04\n",
      "Epoch 427/500\n",
      "1/1 [==============================] - 0s 1ms/step - loss: 1.5871e-04\n",
      "Epoch 428/500\n",
      "1/1 [==============================] - 0s 1ms/step - loss: 1.5545e-04\n",
      "Epoch 429/500\n",
      "1/1 [==============================] - 0s 2ms/step - loss: 1.5225e-04\n",
      "Epoch 430/500\n",
      "1/1 [==============================] - 0s 2ms/step - loss: 1.4913e-04\n",
      "Epoch 431/500\n",
      "1/1 [==============================] - 0s 2ms/step - loss: 1.4606e-04\n",
      "Epoch 432/500\n",
      "1/1 [==============================] - 0s 1ms/step - loss: 1.4306e-04\n",
      "Epoch 433/500\n",
      "1/1 [==============================] - 0s 1ms/step - loss: 1.4012e-04\n",
      "Epoch 434/500\n",
      "1/1 [==============================] - 0s 1ms/step - loss: 1.3725e-04\n",
      "Epoch 435/500\n",
      "1/1 [==============================] - 0s 1ms/step - loss: 1.3443e-04\n",
      "Epoch 436/500\n",
      "1/1 [==============================] - 0s 2ms/step - loss: 1.3167e-04\n",
      "Epoch 437/500\n",
      "1/1 [==============================] - 0s 984us/step - loss: 1.2896e-04\n",
      "Epoch 438/500\n",
      "1/1 [==============================] - 0s 1ms/step - loss: 1.2631e-04\n",
      "Epoch 439/500\n",
      "1/1 [==============================] - 0s 1ms/step - loss: 1.2372e-04\n",
      "Epoch 440/500\n",
      "1/1 [==============================] - 0s 2ms/step - loss: 1.2117e-04\n",
      "Epoch 441/500\n",
      "1/1 [==============================] - 0s 2ms/step - loss: 1.1869e-04\n",
      "Epoch 442/500\n",
      "1/1 [==============================] - 0s 1ms/step - loss: 1.1625e-04\n",
      "Epoch 443/500\n",
      "1/1 [==============================] - 0s 1ms/step - loss: 1.1386e-04\n",
      "Epoch 444/500\n",
      "1/1 [==============================] - 0s 977us/step - loss: 1.1152e-04\n",
      "Epoch 445/500\n",
      "1/1 [==============================] - 0s 1ms/step - loss: 1.0923e-04\n",
      "Epoch 446/500\n",
      "1/1 [==============================] - 0s 1ms/step - loss: 1.0698e-04\n",
      "Epoch 447/500\n",
      "1/1 [==============================] - 0s 1ms/step - loss: 1.0479e-04\n",
      "Epoch 448/500\n",
      "1/1 [==============================] - 0s 1ms/step - loss: 1.0263e-04\n",
      "Epoch 449/500\n",
      "1/1 [==============================] - 0s 2ms/step - loss: 1.0053e-04\n",
      "Epoch 450/500\n",
      "1/1 [==============================] - 0s 2ms/step - loss: 9.8462e-05\n",
      "Epoch 451/500\n",
      "1/1 [==============================] - 0s 2ms/step - loss: 9.6439e-05\n",
      "Epoch 452/500\n",
      "1/1 [==============================] - 0s 2ms/step - loss: 9.4458e-05\n",
      "Epoch 453/500\n",
      "1/1 [==============================] - 0s 2ms/step - loss: 9.2518e-05\n",
      "Epoch 454/500\n",
      "1/1 [==============================] - 0s 1ms/step - loss: 9.0617e-05\n",
      "Epoch 455/500\n",
      "1/1 [==============================] - 0s 1ms/step - loss: 8.8756e-05\n",
      "Epoch 456/500\n",
      "1/1 [==============================] - 0s 1ms/step - loss: 8.6934e-05\n",
      "Epoch 457/500\n",
      "1/1 [==============================] - 0s 1ms/step - loss: 8.5148e-05\n",
      "Epoch 458/500\n",
      "1/1 [==============================] - 0s 2ms/step - loss: 8.3400e-05\n",
      "Epoch 459/500\n",
      "1/1 [==============================] - 0s 1ms/step - loss: 8.1686e-05\n",
      "Epoch 460/500\n",
      "1/1 [==============================] - 0s 1ms/step - loss: 8.0009e-05\n",
      "Epoch 461/500\n",
      "1/1 [==============================] - 0s 1ms/step - loss: 7.8365e-05\n",
      "Epoch 462/500\n",
      "1/1 [==============================] - 0s 1ms/step - loss: 7.6755e-05\n",
      "Epoch 463/500\n",
      "1/1 [==============================] - 0s 2ms/step - loss: 7.5179e-05\n",
      "Epoch 464/500\n",
      "1/1 [==============================] - 0s 1ms/step - loss: 7.3635e-05\n",
      "Epoch 465/500\n",
      "1/1 [==============================] - 0s 2ms/step - loss: 7.2122e-05\n",
      "Epoch 466/500\n",
      "1/1 [==============================] - 0s 2ms/step - loss: 7.0641e-05\n",
      "Epoch 467/500\n",
      "1/1 [==============================] - 0s 2ms/step - loss: 6.9189e-05\n",
      "Epoch 468/500\n",
      "1/1 [==============================] - 0s 1ms/step - loss: 6.7769e-05\n",
      "Epoch 469/500\n",
      "1/1 [==============================] - 0s 1ms/step - loss: 6.6376e-05\n",
      "Epoch 470/500\n",
      "1/1 [==============================] - 0s 1ms/step - loss: 6.5013e-05\n",
      "Epoch 471/500\n",
      "1/1 [==============================] - 0s 1ms/step - loss: 6.3678e-05\n",
      "Epoch 472/500\n",
      "1/1 [==============================] - 0s 1ms/step - loss: 6.2370e-05\n",
      "Epoch 473/500\n",
      "1/1 [==============================] - 0s 1ms/step - loss: 6.1089e-05\n",
      "Epoch 474/500\n",
      "1/1 [==============================] - 0s 1ms/step - loss: 5.9834e-05\n",
      "Epoch 475/500\n",
      "1/1 [==============================] - 0s 2ms/step - loss: 5.8605e-05\n",
      "Epoch 476/500\n",
      "1/1 [==============================] - 0s 2ms/step - loss: 5.7402e-05\n",
      "Epoch 477/500\n",
      "1/1 [==============================] - 0s 1ms/step - loss: 5.6222e-05\n",
      "Epoch 478/500\n",
      "1/1 [==============================] - 0s 1ms/step - loss: 5.5067e-05\n",
      "Epoch 479/500\n",
      "1/1 [==============================] - 0s 1ms/step - loss: 5.3937e-05\n",
      "Epoch 480/500\n",
      "1/1 [==============================] - 0s 1ms/step - loss: 5.2829e-05\n",
      "Epoch 481/500\n",
      "1/1 [==============================] - 0s 1ms/step - loss: 5.1743e-05\n",
      "Epoch 482/500\n",
      "1/1 [==============================] - 0s 894us/step - loss: 5.0681e-05\n",
      "Epoch 483/500\n",
      "1/1 [==============================] - 0s 1ms/step - loss: 4.9640e-05\n",
      "Epoch 484/500\n",
      "1/1 [==============================] - 0s 1ms/step - loss: 4.8621e-05\n",
      "Epoch 485/500\n",
      "1/1 [==============================] - 0s 1ms/step - loss: 4.7621e-05\n",
      "Epoch 486/500\n",
      "1/1 [==============================] - 0s 1ms/step - loss: 4.6643e-05\n",
      "Epoch 487/500\n",
      "1/1 [==============================] - 0s 1ms/step - loss: 4.5685e-05\n",
      "Epoch 488/500\n",
      "1/1 [==============================] - 0s 1ms/step - loss: 4.4747e-05\n",
      "Epoch 489/500\n",
      "1/1 [==============================] - 0s 1ms/step - loss: 4.3827e-05\n",
      "Epoch 490/500\n",
      "1/1 [==============================] - 0s 1ms/step - loss: 4.2927e-05\n",
      "Epoch 491/500\n",
      "1/1 [==============================] - 0s 1ms/step - loss: 4.2046e-05\n",
      "Epoch 492/500\n",
      "1/1 [==============================] - 0s 1ms/step - loss: 4.1182e-05\n",
      "Epoch 493/500\n",
      "1/1 [==============================] - 0s 1ms/step - loss: 4.0336e-05\n",
      "Epoch 494/500\n",
      "1/1 [==============================] - 0s 2ms/step - loss: 3.9508e-05\n",
      "Epoch 495/500\n",
      "1/1 [==============================] - 0s 2ms/step - loss: 3.8696e-05\n",
      "Epoch 496/500\n",
      "1/1 [==============================] - 0s 3ms/step - loss: 3.7901e-05\n",
      "Epoch 497/500\n",
      "1/1 [==============================] - 0s 2ms/step - loss: 3.7123e-05\n",
      "Epoch 498/500\n",
      "1/1 [==============================] - 0s 1ms/step - loss: 3.6360e-05\n",
      "Epoch 499/500\n",
      "1/1 [==============================] - 0s 1ms/step - loss: 3.5614e-05\n",
      "Epoch 500/500\n",
      "1/1 [==============================] - 0s 1ms/step - loss: 3.4882e-05\n"
     ]
    },
    {
     "data": {
      "text/plain": [
       "<keras.src.callbacks.History at 0x2a0121890>"
      ]
     },
     "execution_count": 330,
     "metadata": {},
     "output_type": "execute_result"
    }
   ],
   "source": [
    "model.fit(xs, ys, epochs=500)"
   ]
  },
  {
   "cell_type": "code",
   "execution_count": 331,
   "id": "6bffc3a3",
   "metadata": {},
   "outputs": [
    {
     "name": "stdout",
     "output_type": "stream",
     "text": [
      "1/1 [==============================] - 0s 34ms/step\n",
      "[[18.982769]]\n"
     ]
    }
   ],
   "source": [
    "print(model.predict([10])) # since y=2x-1 it should be 19"
   ]
  },
  {
   "cell_type": "markdown",
   "id": "ae739e41",
   "metadata": {},
   "source": [
    "# ANN with image data"
   ]
  },
  {
   "cell_type": "code",
   "execution_count": 332,
   "id": "c5a8df29",
   "metadata": {},
   "outputs": [],
   "source": [
    "fashion_mnist = keras.datasets.fashion_mnist"
   ]
  },
  {
   "cell_type": "code",
   "execution_count": 333,
   "id": "f6729500",
   "metadata": {},
   "outputs": [],
   "source": [
    "(train_images, train_labels), (test_images, test_labels) = fashion_mnist.load_data()"
   ]
  },
  {
   "cell_type": "code",
   "execution_count": 334,
   "id": "89f1841e",
   "metadata": {},
   "outputs": [],
   "source": [
    "# class names define\n",
    "class_names = ['T-shirt/top', 'Trouser', 'Pullover', 'Dress', 'Coat',\n",
    "               'Sandal', 'Shirt', 'Sneaker', 'Bag', 'Ankle boot']\n"
   ]
  },
  {
   "cell_type": "code",
   "execution_count": 335,
   "id": "c9c710e5",
   "metadata": {},
   "outputs": [
    {
     "data": {
      "text/plain": [
       "(60000, 28, 28)"
      ]
     },
     "execution_count": 335,
     "metadata": {},
     "output_type": "execute_result"
    }
   ],
   "source": [
    "train_images.shape # 60000 data is inside at its in 28x28 bits"
   ]
  },
  {
   "cell_type": "code",
   "execution_count": 336,
   "id": "a46f3465",
   "metadata": {},
   "outputs": [
    {
     "data": {
      "image/png": "[encoded data removed]",
      "text/plain": [
       "<Figure size 640x480 with 2 Axes>"
      ]
     },
     "metadata": {},
     "output_type": "display_data"
    }
   ],
   "source": [
    "plt.figure()\n",
    "plt.imshow(train_images[0])\n",
    "plt.colorbar()\n",
    "plt.show()"
   ]
  },
  {
   "cell_type": "code",
   "execution_count": 337,
   "id": "3876567a",
   "metadata": {},
   "outputs": [],
   "source": [
    "#preprocessing\n",
    "train_images = train_images / 255.0\n",
    "test_images = test_images / 255.0"
   ]
  },
  {
   "cell_type": "code",
   "execution_count": 338,
   "id": "236365a0",
   "metadata": {},
   "outputs": [],
   "source": [
    "# model define\n",
    "model = keras.Sequential([\n",
    "    keras.layers.Flatten(input_shape=(28,28)),\n",
    "    keras.layers.Dense(128, activation='relu'),\n",
    "    keras.layers.Dense(10, activation='softmax')\n",
    "])"
   ]
  },
  {
   "cell_type": "code",
   "execution_count": 339,
   "id": "820eb104",
   "metadata": {},
   "outputs": [],
   "source": [
    "#compile\n",
    "model.compile(optimizer = 'adam',\n",
    "             loss = 'sparse_categorical_crossentropy',\n",
    "             metrics=['accuracy'])"
   ]
  },
  {
   "cell_type": "code",
   "execution_count": 340,
   "id": "4c56cb2e",
   "metadata": {},
   "outputs": [
    {
     "name": "stdout",
     "output_type": "stream",
     "text": [
      "Epoch 1/50\n",
      "1875/1875 [==============================] - 1s 545us/step - loss: 0.4982 - accuracy: 0.8250\n",
      "Epoch 2/50\n",
      "1875/1875 [==============================] - 1s 541us/step - loss: 0.3738 - accuracy: 0.8646\n",
      "Epoch 3/50\n",
      "1875/1875 [==============================] - 1s 538us/step - loss: 0.3373 - accuracy: 0.8776\n",
      "Epoch 4/50\n",
      "1875/1875 [==============================] - 1s 538us/step - loss: 0.3133 - accuracy: 0.8838\n",
      "Epoch 5/50\n",
      "1875/1875 [==============================] - 1s 540us/step - loss: 0.2969 - accuracy: 0.8896\n",
      "Epoch 6/50\n",
      "1875/1875 [==============================] - 1s 538us/step - loss: 0.2813 - accuracy: 0.8954\n",
      "Epoch 7/50\n",
      "1875/1875 [==============================] - 1s 567us/step - loss: 0.2673 - accuracy: 0.9011\n",
      "Epoch 8/50\n",
      "1875/1875 [==============================] - 1s 548us/step - loss: 0.2581 - accuracy: 0.9036\n",
      "Epoch 9/50\n",
      "1875/1875 [==============================] - 1s 542us/step - loss: 0.2493 - accuracy: 0.9066\n",
      "Epoch 10/50\n",
      "1875/1875 [==============================] - 1s 530us/step - loss: 0.2386 - accuracy: 0.9109\n",
      "Epoch 11/50\n",
      "1875/1875 [==============================] - 1s 537us/step - loss: 0.2317 - accuracy: 0.9134\n",
      "Epoch 12/50\n",
      "1875/1875 [==============================] - 1s 538us/step - loss: 0.2251 - accuracy: 0.9159\n",
      "Epoch 13/50\n",
      "1875/1875 [==============================] - 1s 536us/step - loss: 0.2157 - accuracy: 0.9201\n",
      "Epoch 14/50\n",
      "1875/1875 [==============================] - 1s 533us/step - loss: 0.2108 - accuracy: 0.9210\n",
      "Epoch 15/50\n",
      "1875/1875 [==============================] - 1s 538us/step - loss: 0.2066 - accuracy: 0.9221\n",
      "Epoch 16/50\n",
      "1875/1875 [==============================] - 1s 537us/step - loss: 0.1985 - accuracy: 0.9255\n",
      "Epoch 17/50\n",
      "1875/1875 [==============================] - 1s 552us/step - loss: 0.1924 - accuracy: 0.9276\n",
      "Epoch 18/50\n",
      "1875/1875 [==============================] - 1s 546us/step - loss: 0.1880 - accuracy: 0.9296\n",
      "Epoch 19/50\n",
      "1875/1875 [==============================] - 1s 536us/step - loss: 0.1824 - accuracy: 0.9317\n",
      "Epoch 20/50\n",
      "1875/1875 [==============================] - 1s 530us/step - loss: 0.1779 - accuracy: 0.9334\n",
      "Epoch 21/50\n",
      "1875/1875 [==============================] - 1s 535us/step - loss: 0.1744 - accuracy: 0.9355\n",
      "Epoch 22/50\n",
      "1875/1875 [==============================] - 1s 531us/step - loss: 0.1690 - accuracy: 0.9359\n",
      "Epoch 23/50\n",
      "1875/1875 [==============================] - 1s 538us/step - loss: 0.1640 - accuracy: 0.9377\n",
      "Epoch 24/50\n",
      "1875/1875 [==============================] - 1s 525us/step - loss: 0.1616 - accuracy: 0.9392\n",
      "Epoch 25/50\n",
      "1875/1875 [==============================] - 1s 531us/step - loss: 0.1589 - accuracy: 0.9399\n",
      "Epoch 26/50\n",
      "1875/1875 [==============================] - 1s 522us/step - loss: 0.1542 - accuracy: 0.9421\n",
      "Epoch 27/50\n",
      "1875/1875 [==============================] - 1s 531us/step - loss: 0.1498 - accuracy: 0.9429\n",
      "Epoch 28/50\n",
      "1875/1875 [==============================] - 1s 530us/step - loss: 0.1468 - accuracy: 0.9457\n",
      "Epoch 29/50\n",
      "1875/1875 [==============================] - 1s 529us/step - loss: 0.1451 - accuracy: 0.9453\n",
      "Epoch 30/50\n",
      "1875/1875 [==============================] - 1s 528us/step - loss: 0.1397 - accuracy: 0.9468\n",
      "Epoch 31/50\n",
      "1875/1875 [==============================] - 1s 533us/step - loss: 0.1361 - accuracy: 0.9482\n",
      "Epoch 32/50\n",
      "1875/1875 [==============================] - 1s 547us/step - loss: 0.1358 - accuracy: 0.9487\n",
      "Epoch 33/50\n",
      "1875/1875 [==============================] - 1s 539us/step - loss: 0.1333 - accuracy: 0.9490\n",
      "Epoch 34/50\n",
      "1875/1875 [==============================] - 1s 540us/step - loss: 0.1308 - accuracy: 0.9504\n",
      "Epoch 35/50\n",
      "1875/1875 [==============================] - 1s 538us/step - loss: 0.1279 - accuracy: 0.9516\n",
      "Epoch 36/50\n",
      "1875/1875 [==============================] - 1s 541us/step - loss: 0.1251 - accuracy: 0.9527\n",
      "Epoch 37/50\n",
      "1875/1875 [==============================] - 1s 541us/step - loss: 0.1209 - accuracy: 0.9544\n",
      "Epoch 38/50\n",
      "1875/1875 [==============================] - 1s 552us/step - loss: 0.1214 - accuracy: 0.9541\n",
      "Epoch 39/50\n",
      "1875/1875 [==============================] - 1s 563us/step - loss: 0.1161 - accuracy: 0.9564\n",
      "Epoch 40/50\n",
      "1875/1875 [==============================] - 1s 545us/step - loss: 0.1147 - accuracy: 0.9573\n",
      "Epoch 41/50\n",
      "1875/1875 [==============================] - 1s 547us/step - loss: 0.1164 - accuracy: 0.9560\n",
      "Epoch 42/50\n",
      "1875/1875 [==============================] - 1s 545us/step - loss: 0.1111 - accuracy: 0.9582\n",
      "Epoch 43/50\n",
      "1875/1875 [==============================] - 1s 547us/step - loss: 0.1080 - accuracy: 0.9594\n",
      "Epoch 44/50\n",
      "1875/1875 [==============================] - 1s 546us/step - loss: 0.1075 - accuracy: 0.9597\n",
      "Epoch 45/50\n",
      "1875/1875 [==============================] - 1s 561us/step - loss: 0.1070 - accuracy: 0.9601\n",
      "Epoch 46/50\n",
      "1875/1875 [==============================] - 1s 550us/step - loss: 0.1035 - accuracy: 0.9610\n",
      "Epoch 47/50\n",
      "1875/1875 [==============================] - 1s 548us/step - loss: 0.1040 - accuracy: 0.9599\n",
      "Epoch 48/50\n",
      "1875/1875 [==============================] - 1s 555us/step - loss: 0.0988 - accuracy: 0.9622\n",
      "Epoch 49/50\n",
      "1875/1875 [==============================] - 1s 549us/step - loss: 0.0979 - accuracy: 0.9634\n",
      "Epoch 50/50\n",
      "1875/1875 [==============================] - 1s 630us/step - loss: 0.0986 - accuracy: 0.9627\n"
     ]
    },
    {
     "data": {
      "text/plain": [
       "<keras.src.callbacks.History at 0x2a0b35610>"
      ]
     },
     "execution_count": 340,
     "metadata": {},
     "output_type": "execute_result"
    }
   ],
   "source": [
    "#model training\n",
    "model.fit(train_images, train_labels, epochs=50)"
   ]
  },
  {
   "cell_type": "code",
   "execution_count": 341,
   "id": "bcd20df7",
   "metadata": {},
   "outputs": [
    {
     "name": "stdout",
     "output_type": "stream",
     "text": [
      "313/313 [==============================] - 0s 378us/step - loss: 0.5367 - accuracy: 0.8861\n",
      "test accuracy:  0.8860999941825867\n"
     ]
    }
   ],
   "source": [
    "#model performance\n",
    "test_loss, test_acc = model.evaluate(test_images, test_labels)\n",
    "print('test accuracy: ', test_acc)"
   ]
  },
  {
   "cell_type": "code",
   "execution_count": 342,
   "id": "78e40fc6",
   "metadata": {},
   "outputs": [
    {
     "name": "stdout",
     "output_type": "stream",
     "text": [
      "313/313 [==============================] - 0s 327us/step\n"
     ]
    }
   ],
   "source": [
    "#predicting values with model\n",
    "predictions = model.predict(test_images)"
   ]
  },
  {
   "cell_type": "code",
   "execution_count": 343,
   "id": "bd97bb92",
   "metadata": {},
   "outputs": [
    {
     "data": {
      "text/plain": [
       "9"
      ]
     },
     "execution_count": 343,
     "metadata": {},
     "output_type": "execute_result"
    }
   ],
   "source": [
    "np.argmax(predictions[0])"
   ]
  },
  {
   "cell_type": "code",
   "execution_count": 344,
   "id": "c7981d2c",
   "metadata": {},
   "outputs": [
    {
     "data": {
      "text/plain": [
       "9"
      ]
     },
     "execution_count": 344,
     "metadata": {},
     "output_type": "execute_result"
    }
   ],
   "source": [
    "test_labels[0]"
   ]
  },
  {
   "cell_type": "markdown",
   "id": "62af854d",
   "metadata": {},
   "source": [
    "Same value"
   ]
  },
  {
   "cell_type": "markdown",
   "id": "3d7490cc",
   "metadata": {},
   "source": [
    "# Advanced_python_week_15"
   ]
  },
  {
   "cell_type": "markdown",
   "id": "7d965f3b",
   "metadata": {},
   "source": [
    "# MLP"
   ]
  },
  {
   "cell_type": "code",
   "execution_count": 345,
   "id": "b2fe39f8",
   "metadata": {},
   "outputs": [],
   "source": [
    "#loading data\n",
    "from keras.datasets import mnist\n",
    "(X_train, y_train), (X_test, y_test) = mnist.load_data()"
   ]
  },
  {
   "cell_type": "code",
   "execution_count": 346,
   "id": "e15e0d6d",
   "metadata": {},
   "outputs": [],
   "source": [
    "class MLP(keras.Model):\n",
    "    def __init__(self):\n",
    "        # layer 정의\n",
    "\n",
    "        super(MLP, self).__init__()\n",
    "\n",
    "        self.flatten = keras.layers.Flatten(input_shape=(28,28))\n",
    "        self.dense1 = keras.layers.Dense(512, activation='relu')\n",
    "        self.dense2 = keras.layers.Dense(256, activation='relu')\n",
    "        self.out = keras.layers.Dense(10, activation='softmax')\n",
    "        \n",
    "    def call(self, x):\n",
    "        x = self.flatten(x)\n",
    "        x = self.dense1(x)\n",
    "        x = self.dense2(x)\n",
    "        return self.out(x)"
   ]
  },
  {
   "cell_type": "code",
   "execution_count": 347,
   "id": "10511153",
   "metadata": {},
   "outputs": [],
   "source": [
    "# Create an instance of the model\n",
    "model = MLP()"
   ]
  },
  {
   "cell_type": "code",
   "execution_count": 348,
   "id": "72f9a8f9",
   "metadata": {},
   "outputs": [
    {
     "name": "stderr",
     "output_type": "stream",
     "text": [
      "WARNING:absl:At this time, the v2.11+ optimizer `tf.keras.optimizers.SGD` runs slowly on M1/M2 Macs, please use the legacy Keras optimizer instead, located at `tf.keras.optimizers.legacy.SGD`.\n"
     ]
    }
   ],
   "source": [
    "#defining loss, optimizer \n",
    "learning_rate = 1e-4\n",
    "loss = keras.losses.SparseCategoricalCrossentropy(from_logits=True) # multi-label classification 문제라서\n",
    "optimizer = keras.optimizers.SGD(learning_rate=learning_rate)"
   ]
  },
  {
   "cell_type": "code",
   "execution_count": 349,
   "id": "93981e5d",
   "metadata": {},
   "outputs": [
    {
     "name": "stderr",
     "output_type": "stream",
     "text": [
      "WARNING:absl:There is a known slowdown when using v2.11+ Keras optimizers on M1/M2 Macs. Falling back to the legacy Keras optimizer, i.e., `tf.keras.optimizers.legacy.SGD`.\n"
     ]
    },
    {
     "name": "stdout",
     "output_type": "stream",
     "text": [
      "Model: \"mlp\"\n",
      "_________________________________________________________________\n",
      " Layer (type)                Output Shape              Param #   \n",
      "=================================================================\n",
      " flatten_1 (Flatten)         multiple                  0         \n",
      "                                                                 \n",
      " dense_3 (Dense)             multiple                  401920    \n",
      "                                                                 \n",
      " dense_4 (Dense)             multiple                  131328    \n",
      "                                                                 \n",
      " dense_5 (Dense)             multiple                  2570      \n",
      "                                                                 \n",
      "=================================================================\n",
      "Total params: 535818 (2.04 MB)\n",
      "Trainable params: 535818 (2.04 MB)\n",
      "Non-trainable params: 0 (0.00 Byte)\n",
      "_________________________________________________________________\n"
     ]
    }
   ],
   "source": [
    "model.compile(loss=loss, optimizer=optimizer, metrics=['accuracy'])\n",
    "model.build(input_shape=(1, 28, 28, 1)) # (batch, height, width, channel) \n",
    "model.summary()"
   ]
  },
  {
   "cell_type": "code",
   "execution_count": 351,
   "id": "a893de42",
   "metadata": {},
   "outputs": [
    {
     "name": "stdout",
     "output_type": "stream",
     "text": [
      "Epoch 1/10\n",
      "1875/1875 [==============================] - 2s 1ms/step - loss: 0.0829 - accuracy: 0.9858\n",
      "Epoch 2/10\n",
      "1875/1875 [==============================] - 2s 1ms/step - loss: 0.0637 - accuracy: 0.9887\n",
      "Epoch 3/10\n",
      "1875/1875 [==============================] - 2s 1ms/step - loss: 0.0506 - accuracy: 0.9911\n",
      "Epoch 4/10\n",
      "1875/1875 [==============================] - 2s 1ms/step - loss: 0.0390 - accuracy: 0.9926\n",
      "Epoch 5/10\n",
      "1875/1875 [==============================] - 2s 1ms/step - loss: 0.0304 - accuracy: 0.9946\n",
      "Epoch 6/10\n",
      "1875/1875 [==============================] - 2s 1ms/step - loss: 0.0240 - accuracy: 0.9958\n",
      "Epoch 7/10\n",
      "1875/1875 [==============================] - 2s 1ms/step - loss: 0.0182 - accuracy: 0.9968\n",
      "Epoch 8/10\n",
      "1875/1875 [==============================] - 2s 1ms/step - loss: 0.0146 - accuracy: 0.9976\n",
      "Epoch 9/10\n",
      "1875/1875 [==============================] - 2s 1ms/step - loss: 0.0113 - accuracy: 0.9983\n",
      "Epoch 10/10\n",
      "1875/1875 [==============================] - 2s 1ms/step - loss: 0.0091 - accuracy: 0.9987\n"
     ]
    }
   ],
   "source": [
    "# model traing\n",
    "hist = model.fit(X_train, y_train, epochs=10, batch_size=32)"
   ]
  },
  {
   "cell_type": "code",
   "execution_count": 352,
   "id": "ae9eebf2",
   "metadata": {},
   "outputs": [
    {
     "name": "stdout",
     "output_type": "stream",
     "text": [
      "313/313 [==============================] - 0s 655us/step - loss: 0.5598 - accuracy: 0.9472\n"
     ]
    },
    {
     "data": {
      "text/plain": [
       "[0.5598259568214417, 0.9472000002861023]"
      ]
     },
     "execution_count": 352,
     "metadata": {},
     "output_type": "execute_result"
    }
   ],
   "source": [
    "#evaluating model performance\n",
    "model.evaluate(X_test, y_test)"
   ]
  },
  {
   "cell_type": "code",
   "execution_count": 353,
   "id": "a9cadb4d",
   "metadata": {},
   "outputs": [
    {
     "data": {
      "text/plain": [
       "[0.9858166575431824,\n",
       " 0.9887499809265137,\n",
       " 0.9911166429519653,\n",
       " 0.9926166534423828,\n",
       " 0.9945999979972839,\n",
       " 0.9957500100135803,\n",
       " 0.9968166947364807,\n",
       " 0.9976166486740112,\n",
       " 0.9983333349227905,\n",
       " 0.9987499713897705]"
      ]
     },
     "execution_count": 353,
     "metadata": {},
     "output_type": "execute_result"
    }
   ],
   "source": [
    "hist.history['accuracy'] # The model we trained has accuracy data for every epoch"
   ]
  },
  {
   "cell_type": "code",
   "execution_count": 354,
   "id": "fcfecc61",
   "metadata": {},
   "outputs": [
    {
     "data": {
      "image/png": "[encoded data removed]",
      "text/plain": [
       "<Figure size 600x400 with 1 Axes>"
      ]
     },
     "metadata": {},
     "output_type": "display_data"
    }
   ],
   "source": [
    "# accuracy curve (How did accuracy improve over epoch)\n",
    "plt.figure(figsize=(6,4))\n",
    "plt.plot(hist.history['accuracy'], label='train accuracy')\n",
    "plt.title('Accuracy')\n",
    "plt.ylabel('Accuracy')\n",
    "plt.xlabel('epoch')\n",
    "plt.legend()\n",
    "plt.show()"
   ]
  },
  {
   "cell_type": "code",
   "execution_count": 355,
   "id": "9cb6a250",
   "metadata": {},
   "outputs": [
    {
     "data": {
      "text/plain": [
       "[0.08291234821081161,\n",
       " 0.06370731443166733,\n",
       " 0.050615906715393066,\n",
       " 0.03904876485466957,\n",
       " 0.03041563183069229,\n",
       " 0.023994827643036842,\n",
       " 0.01822841167449951,\n",
       " 0.014601632952690125,\n",
       " 0.011306645348668098,\n",
       " 0.009131573140621185]"
      ]
     },
     "execution_count": 355,
     "metadata": {},
     "output_type": "execute_result"
    }
   ],
   "source": [
    "hist.history['loss'] # same thing for loss "
   ]
  },
  {
   "cell_type": "code",
   "execution_count": 356,
   "id": "4499dd43",
   "metadata": {},
   "outputs": [
    {
     "data": {
      "image/png": "[encoded data removed]",
      "text/plain": [
       "<Figure size 600x400 with 1 Axes>"
      ]
     },
     "metadata": {},
     "output_type": "display_data"
    }
   ],
   "source": [
    "# loss curve\n",
    "plt.figure(figsize=(6,4))\n",
    "plt.plot(hist.history['loss'], label='train loss')\n",
    "plt.title('Loss')\n",
    "plt.ylabel('Loss')\n",
    "plt.xlabel('epoch')\n",
    "plt.legend()\n",
    "plt.show()"
   ]
  },
  {
   "cell_type": "markdown",
   "id": "170bedda",
   "metadata": {},
   "source": [
    "# CNN"
   ]
  },
  {
   "cell_type": "code",
   "execution_count": 357,
   "id": "9083de1c",
   "metadata": {},
   "outputs": [],
   "source": [
    "import pathlib"
   ]
  },
  {
   "cell_type": "code",
   "execution_count": 358,
   "id": "c01f1366",
   "metadata": {},
   "outputs": [],
   "source": [
    "#load data\n",
    "dataset_url = \"https://storage.googleapis.com/download.tensorflow.org/example_images/flower_photos.tgz\""
   ]
  },
  {
   "cell_type": "code",
   "execution_count": 359,
   "id": "d06937a7",
   "metadata": {},
   "outputs": [],
   "source": [
    "data_dir = keras.utils.get_file(origin=dataset_url,\n",
    "                               fname='flower_photos',\n",
    "                               untar=True)\n",
    "data_dir = pathlib.Path(data_dir)"
   ]
  },
  {
   "cell_type": "code",
   "execution_count": 360,
   "id": "2e033b15",
   "metadata": {},
   "outputs": [
    {
     "name": "stdout",
     "output_type": "stream",
     "text": [
      "Found 3670 files belonging to 5 classes.\n",
      "Using 2936 files for training.\n",
      "Found 3670 files belonging to 5 classes.\n",
      "Using 2936 files for training.\n"
     ]
    }
   ],
   "source": [
    "#preprocessing\n",
    "train_ds = keras.preprocessing.image_dataset_from_directory(\n",
    "data_dir,\n",
    "validation_split=0.2,\n",
    "subset='training',\n",
    "seed=2023,\n",
    "image_size=(224, 224),\n",
    "batch_size=32)\n",
    "\n",
    "test_ds = keras.preprocessing.image_dataset_from_directory(\n",
    "data_dir,\n",
    "validation_split=0.2,\n",
    "subset='training',\n",
    "seed=2023,\n",
    "image_size=(224, 224),\n",
    "batch_size=32)"
   ]
  },
  {
   "cell_type": "code",
   "execution_count": null,
   "id": "3063867d",
   "metadata": {},
   "outputs": [],
   "source": [
    "# exploring data\n",
    "class_names = ['daisy', 'dandelion', 'roses', 'sunflowers', 'tulibs']\n",
    "plt.figure(figsize=(10,10))\n",
    "for images, labels in train_ds.take(1):\n",
    "    for i in range(16):\n",
    "        ax = plt.subplot(4, 4, i+1)\n",
    "        plt.imshow(images[i].numpy().astype('uint8'))\n",
    "        plt.title(class_names[labels[i]])\n",
    "plt.tight_layout()"
   ]
  },
  {
   "cell_type": "code",
   "execution_count": null,
   "id": "a342310c",
   "metadata": {},
   "outputs": [],
   "source": [
    "class CNN(keras.Model):\n",
    "    def __init__(self):\n",
    "        super(CNN, self).__init__()\n",
    "        \n",
    "        # layer\n",
    "        self.cnn1 = keras.layers.Conv2D(filters=32, kernel_size=3, activation='relu', padding='same', input_shape=(224,224,3))\n",
    "        self.pool1 = keras.layers.MaxPooling2D((2,2))\n",
    "        self.cnn2 = keras.layers.Conv2D(filters=64, kernel_size=3, activation='relu', padding='same')\n",
    "        self.pool2 = keras.layers.MaxPooling2D((2,2))\n",
    "        \n",
    "        self.flat = keras.layers.Flatten()\n",
    "        self.fc1 = keras.layers.Dense(128, activation='relu')  # corrected here\n",
    "        self.out = keras.layers.Dense(5, activation='softmax')\n",
    "    \n",
    "    def call(self, x):\n",
    "        x = self.cnn1(x)\n",
    "        x = self.pool1(x)\n",
    "        x = self.cnn2(x)\n",
    "        x = self.pool2(x)    \n",
    "        x = self.flat(x)\n",
    "        x = self.fc1(x)\n",
    "        \n",
    "        return self.out(x)\n"
   ]
  },
  {
   "cell_type": "code",
   "execution_count": null,
   "id": "64629679",
   "metadata": {},
   "outputs": [],
   "source": [
    "model = CNN() #model instance"
   ]
  },
  {
   "cell_type": "code",
   "execution_count": 364,
   "id": "00db301f",
   "metadata": {},
   "outputs": [],
   "source": [
    "model.compile(optimizer='adam',\n",
    "              loss=keras.losses.SparseCategoricalCrossentropy(from_logits=True),\n",
    "              metrics=['accuracy'])"
   ]
  },
  {
   "cell_type": "code",
   "execution_count": 365,
   "id": "6a20ffec",
   "metadata": {},
   "outputs": [
    {
     "name": "stdout",
     "output_type": "stream",
     "text": [
      "Epoch 1/10\n",
      "92/92 [==============================] - 51s 549ms/step - loss: 362.8278 - accuracy: 0.2554 - val_loss: 1.4473 - val_accuracy: 0.4731\n",
      "Epoch 2/10\n",
      "92/92 [==============================] - 49s 531ms/step - loss: 1.3720 - accuracy: 0.4588 - val_loss: 1.0866 - val_accuracy: 0.6379\n",
      "Epoch 3/10\n",
      "92/92 [==============================] - 51s 550ms/step - loss: 0.8827 - accuracy: 0.6802 - val_loss: 0.6641 - val_accuracy: 0.7813\n",
      "Epoch 4/10\n",
      "92/92 [==============================] - 47s 504ms/step - loss: 0.5159 - accuracy: 0.8324 - val_loss: 0.5167 - val_accuracy: 0.8351\n",
      "Epoch 5/10\n",
      "92/92 [==============================] - 46s 495ms/step - loss: 0.3204 - accuracy: 0.8978 - val_loss: 0.3223 - val_accuracy: 0.9002\n",
      "Epoch 6/10\n",
      "92/92 [==============================] - 47s 507ms/step - loss: 0.3047 - accuracy: 0.9097 - val_loss: 0.4363 - val_accuracy: 0.8573\n",
      "Epoch 7/10\n",
      "92/92 [==============================] - 44s 481ms/step - loss: 0.2443 - accuracy: 0.9240 - val_loss: 0.2867 - val_accuracy: 0.9305\n",
      "Epoch 8/10\n",
      "92/92 [==============================] - 44s 483ms/step - loss: 0.2541 - accuracy: 0.9322 - val_loss: 0.2310 - val_accuracy: 0.9254\n",
      "Epoch 9/10\n",
      "92/92 [==============================] - 45s 484ms/step - loss: 0.2946 - accuracy: 0.9108 - val_loss: 0.1604 - val_accuracy: 0.9571\n",
      "Epoch 10/10\n",
      "92/92 [==============================] - 45s 484ms/step - loss: 0.1990 - accuracy: 0.9472 - val_loss: 0.1416 - val_accuracy: 0.9584\n"
     ]
    }
   ],
   "source": [
    "history = model.fit(train_ds, validation_data=test_ds, epochs=10, batch_size=32)"
   ]
  },
  {
   "cell_type": "code",
   "execution_count": 369,
   "id": "42d7252d",
   "metadata": {},
   "outputs": [
    {
     "name": "stdout",
     "output_type": "stream",
     "text": [
      "92/92 [==============================] - 10s 105ms/step - loss: 0.1416 - accuracy: 0.9584\n"
     ]
    },
    {
     "data": {
      "text/plain": [
       "[0.14164255559444427, 0.9584468603134155]"
      ]
     },
     "execution_count": 369,
     "metadata": {},
     "output_type": "execute_result"
    }
   ],
   "source": [
    "# model evaluation\n",
    "model.evaluate(test_ds)"
   ]
  },
  {
   "cell_type": "code",
   "execution_count": 370,
   "id": "7c24a085",
   "metadata": {},
   "outputs": [
    {
     "data": {
      "image/png": "[encoded data removed]",
      "text/plain": [
       "<Figure size 600x400 with 1 Axes>"
      ]
     },
     "metadata": {},
     "output_type": "display_data"
    }
   ],
   "source": [
    "plt.figure(figsize=(6,4))\n",
    "plt.plot(hist.history['accuracy'], label='train accuracy')\n",
    "plt.title('Accuracy')\n",
    "plt.ylabel('Accuracy')\n",
    "plt.xlabel('epoch')\n",
    "plt.legend()\n",
    "plt.show()"
   ]
  },
  {
   "cell_type": "code",
   "execution_count": 371,
   "id": "69305c0f",
   "metadata": {},
   "outputs": [
    {
     "data": {
      "image/png": "[encoded data removed]",
      "text/plain": [
       "<Figure size 600x400 with 1 Axes>"
      ]
     },
     "metadata": {},
     "output_type": "display_data"
    }
   ],
   "source": [
    "# loss curve\n",
    "plt.figure(figsize=(6,4))\n",
    "plt.plot(hist.history['loss'], label='train loss')\n",
    "plt.title('Loss')\n",
    "plt.ylabel('Loss')\n",
    "plt.xlabel('epoch')\n",
    "plt.legend()\n",
    "plt.show()"
   ]
  },
  {
   "cell_type": "code",
   "execution_count": null,
   "id": "703f75c1",
   "metadata": {},
   "outputs": [],
   "source": []
  }
 ],
 "metadata": {
  "kernelspec": {
   "display_name": "Python 3 (ipykernel)",
   "language": "python",
   "name": "python3"
  },
  "language_info": {
   "codemirror_mode": {
    "name": "ipython",
    "version": 3
   },
   "file_extension": ".py",
   "mimetype": "text/x-python",
   "name": "python",
   "nbconvert_exporter": "python",
   "pygments_lexer": "ipython3",
   "version": "3.11.1"
  }
 },
 "nbformat": 4,
 "nbformat_minor": 5
}
